{
 "cells": [
  {
   "cell_type": "code",
   "execution_count": 18,
   "metadata": {},
   "outputs": [],
   "source": [
    "import pandas as pd\n",
    "import numpy as np\n",
    "import datetime as dt\n",
    "import seaborn as sns\n",
    "import matplotlib.pyplot as plt\n",
    "%matplotlib inline\n",
    "plt.rcParams[\"figure.figsize\"] = [12,8]\n",
    "plt.rcParams[\"font.size\"] = 14\n",
    "import warnings\n",
    "warnings.simplefilter(\"ignore\")\n",
    "import datetime as dt\n",
    "\n",
    "pulls_raw = pd.read_csv(\"../data/repos_with_class_info.csv\")\n",
    "errors = pd.read_csv(\"../data/num_errors.csv\")"
   ]
  },
  {
   "cell_type": "code",
   "execution_count": 19,
   "metadata": {},
   "outputs": [
    {
     "data": {
      "text/plain": [
       "'2019-09-11 19:00:00'"
      ]
     },
     "execution_count": 19,
     "metadata": {},
     "output_type": "execute_result"
    }
   ],
   "source": [
    "errors.sort_values(\"timestamp\").iloc[0,0]"
   ]
  },
  {
   "cell_type": "code",
   "execution_count": 20,
   "metadata": {},
   "outputs": [
    {
     "data": {
      "text/html": [
       "<div>\n",
       "<style scoped>\n",
       "    .dataframe tbody tr th:only-of-type {\n",
       "        vertical-align: middle;\n",
       "    }\n",
       "\n",
       "    .dataframe tbody tr th {\n",
       "        vertical-align: top;\n",
       "    }\n",
       "\n",
       "    .dataframe thead th {\n",
       "        text-align: right;\n",
       "    }\n",
       "</style>\n",
       "<table border=\"1\" class=\"dataframe\">\n",
       "  <thead>\n",
       "    <tr style=\"text-align: right;\">\n",
       "      <th></th>\n",
       "      <th>class</th>\n",
       "      <th>timestamp</th>\n",
       "      <th>org</th>\n",
       "      <th>repo</th>\n",
       "      <th>size_KB</th>\n",
       "      <th>size</th>\n",
       "      <th>pull_count</th>\n",
       "    </tr>\n",
       "  </thead>\n",
       "  <tbody>\n",
       "    <tr>\n",
       "      <th>357</th>\n",
       "      <td>COGSCI 1</td>\n",
       "      <td>2019-09-11 19:00:00</td>\n",
       "      <td>ds-modules</td>\n",
       "      <td>COGSCI-1</td>\n",
       "      <td>185.0</td>\n",
       "      <td>145.0</td>\n",
       "      <td>4</td>\n",
       "    </tr>\n",
       "    <tr>\n",
       "      <th>358</th>\n",
       "      <td>COGSCI 1</td>\n",
       "      <td>2019-09-11 20:00:00</td>\n",
       "      <td>ds-modules</td>\n",
       "      <td>COGSCI-1</td>\n",
       "      <td>26153.0</td>\n",
       "      <td>145.0</td>\n",
       "      <td>7</td>\n",
       "    </tr>\n",
       "    <tr>\n",
       "      <th>359</th>\n",
       "      <td>COGSCI 1</td>\n",
       "      <td>2019-09-11 22:00:00</td>\n",
       "      <td>ds-modules</td>\n",
       "      <td>COGSCI-1</td>\n",
       "      <td>185.0</td>\n",
       "      <td>145.0</td>\n",
       "      <td>5</td>\n",
       "    </tr>\n",
       "    <tr>\n",
       "      <th>360</th>\n",
       "      <td>COGSCI 1</td>\n",
       "      <td>2019-09-11 23:00:00</td>\n",
       "      <td>ds-modules</td>\n",
       "      <td>COGSCI-1</td>\n",
       "      <td>185.0</td>\n",
       "      <td>145.0</td>\n",
       "      <td>46</td>\n",
       "    </tr>\n",
       "    <tr>\n",
       "      <th>361</th>\n",
       "      <td>COGSCI 1</td>\n",
       "      <td>2019-09-12 00:00:00</td>\n",
       "      <td>ds-modules</td>\n",
       "      <td>COGSCI-1</td>\n",
       "      <td>185.0</td>\n",
       "      <td>145.0</td>\n",
       "      <td>2</td>\n",
       "    </tr>\n",
       "  </tbody>\n",
       "</table>\n",
       "</div>"
      ],
      "text/plain": [
       "        class            timestamp         org      repo  size_KB   size  \\\n",
       "357  COGSCI 1  2019-09-11 19:00:00  ds-modules  COGSCI-1    185.0  145.0   \n",
       "358  COGSCI 1  2019-09-11 20:00:00  ds-modules  COGSCI-1  26153.0  145.0   \n",
       "359  COGSCI 1  2019-09-11 22:00:00  ds-modules  COGSCI-1    185.0  145.0   \n",
       "360  COGSCI 1  2019-09-11 23:00:00  ds-modules  COGSCI-1    185.0  145.0   \n",
       "361  COGSCI 1  2019-09-12 00:00:00  ds-modules  COGSCI-1    185.0  145.0   \n",
       "\n",
       "     pull_count  \n",
       "357           4  \n",
       "358           7  \n",
       "359           5  \n",
       "360          46  \n",
       "361           2  "
      ]
     },
     "execution_count": 20,
     "metadata": {},
     "output_type": "execute_result"
    }
   ],
   "source": [
    "pulls = pulls_raw.groupby([\"class\", \"timestamp\"]).first().reset_index()\n",
    "pulls = pulls[pulls[\"timestamp\"] >= errors.sort_values(\"timestamp\").iloc[0,0]]\n",
    "pulls[\"pull_count\"] = pulls_raw.groupby([\"class\", \"timestamp\"]).count().reset_index()[\"org\"]\n",
    "pulls.head()"
   ]
  },
  {
   "cell_type": "code",
   "execution_count": 21,
   "metadata": {},
   "outputs": [
    {
     "data": {
      "text/html": [
       "<div>\n",
       "<style scoped>\n",
       "    .dataframe tbody tr th:only-of-type {\n",
       "        vertical-align: middle;\n",
       "    }\n",
       "\n",
       "    .dataframe tbody tr th {\n",
       "        vertical-align: top;\n",
       "    }\n",
       "\n",
       "    .dataframe thead th {\n",
       "        text-align: right;\n",
       "    }\n",
       "</style>\n",
       "<table border=\"1\" class=\"dataframe\">\n",
       "  <thead>\n",
       "    <tr style=\"text-align: right;\">\n",
       "      <th></th>\n",
       "      <th>class</th>\n",
       "      <th>timestamp</th>\n",
       "      <th>org</th>\n",
       "      <th>repo</th>\n",
       "      <th>size_KB</th>\n",
       "      <th>size</th>\n",
       "      <th>pull_count</th>\n",
       "      <th>errors</th>\n",
       "    </tr>\n",
       "  </thead>\n",
       "  <tbody>\n",
       "    <tr>\n",
       "      <th>0</th>\n",
       "      <td>COGSCI 1</td>\n",
       "      <td>2019-09-11 19:00:00</td>\n",
       "      <td>ds-modules</td>\n",
       "      <td>COGSCI-1</td>\n",
       "      <td>185.0</td>\n",
       "      <td>145.0</td>\n",
       "      <td>4</td>\n",
       "      <td>501.25</td>\n",
       "    </tr>\n",
       "    <tr>\n",
       "      <th>1</th>\n",
       "      <td>COGSCI 1</td>\n",
       "      <td>2019-09-11 20:00:00</td>\n",
       "      <td>ds-modules</td>\n",
       "      <td>COGSCI-1</td>\n",
       "      <td>26153.0</td>\n",
       "      <td>145.0</td>\n",
       "      <td>7</td>\n",
       "      <td>0.00</td>\n",
       "    </tr>\n",
       "    <tr>\n",
       "      <th>2</th>\n",
       "      <td>COGSCI 1</td>\n",
       "      <td>2019-09-11 22:00:00</td>\n",
       "      <td>ds-modules</td>\n",
       "      <td>COGSCI-1</td>\n",
       "      <td>185.0</td>\n",
       "      <td>145.0</td>\n",
       "      <td>5</td>\n",
       "      <td>0.00</td>\n",
       "    </tr>\n",
       "    <tr>\n",
       "      <th>3</th>\n",
       "      <td>COGSCI 1</td>\n",
       "      <td>2019-09-11 23:00:00</td>\n",
       "      <td>ds-modules</td>\n",
       "      <td>COGSCI-1</td>\n",
       "      <td>185.0</td>\n",
       "      <td>145.0</td>\n",
       "      <td>46</td>\n",
       "      <td>0.00</td>\n",
       "    </tr>\n",
       "    <tr>\n",
       "      <th>4</th>\n",
       "      <td>COGSCI 1</td>\n",
       "      <td>2019-09-12 00:00:00</td>\n",
       "      <td>ds-modules</td>\n",
       "      <td>COGSCI-1</td>\n",
       "      <td>185.0</td>\n",
       "      <td>145.0</td>\n",
       "      <td>2</td>\n",
       "      <td>0.00</td>\n",
       "    </tr>\n",
       "  </tbody>\n",
       "</table>\n",
       "</div>"
      ],
      "text/plain": [
       "      class            timestamp         org      repo  size_KB   size  \\\n",
       "0  COGSCI 1  2019-09-11 19:00:00  ds-modules  COGSCI-1    185.0  145.0   \n",
       "1  COGSCI 1  2019-09-11 20:00:00  ds-modules  COGSCI-1  26153.0  145.0   \n",
       "2  COGSCI 1  2019-09-11 22:00:00  ds-modules  COGSCI-1    185.0  145.0   \n",
       "3  COGSCI 1  2019-09-11 23:00:00  ds-modules  COGSCI-1    185.0  145.0   \n",
       "4  COGSCI 1  2019-09-12 00:00:00  ds-modules  COGSCI-1    185.0  145.0   \n",
       "\n",
       "   pull_count  errors  \n",
       "0           4  501.25  \n",
       "1           7    0.00  \n",
       "2           5    0.00  \n",
       "3          46    0.00  \n",
       "4           2    0.00  "
      ]
     },
     "execution_count": 21,
     "metadata": {},
     "output_type": "execute_result"
    }
   ],
   "source": [
    "data = pd.merge(pulls, errors, on=\"timestamp\", how=\"left\").fillna(0).rename({\"value\": \"errors\"}, axis=1)\n",
    "data.head()"
   ]
  },
  {
   "cell_type": "code",
   "execution_count": 36,
   "metadata": {},
   "outputs": [],
   "source": [
    "data.to_csv(\"../data/classes_and_errors.csv\", index=False)"
   ]
  },
  {
   "cell_type": "code",
   "execution_count": 22,
   "metadata": {},
   "outputs": [],
   "source": [
    "from sklearn.model_selection import train_test_split, GridSearchCV, KFold\n",
    "from sklearn.linear_model import LinearRegression, HuberRegressor\n",
    "from sklearn.tree import DecisionTreeRegressor\n",
    "from sklearn.svm import LinearSVR\n",
    "from sklearn.neural_network import MLPRegressor\n",
    "from sklearn.feature_selection import RFECV\n",
    "from sklearn.metrics import accuracy_score\n",
    "\n",
    "def rmse(y, y_hat):\n",
    "    return np.mean((y - y_hat)**2)"
   ]
  },
  {
   "cell_type": "code",
   "execution_count": 23,
   "metadata": {},
   "outputs": [
    {
     "data": {
      "text/plain": [
       "((6847, 8), (2283, 8))"
      ]
     },
     "execution_count": 23,
     "metadata": {},
     "output_type": "execute_result"
    }
   ],
   "source": [
    "train_raw, test_raw = train_test_split(data, random_state=42)\n",
    "train_raw.shape, test_raw.shape"
   ]
  },
  {
   "cell_type": "code",
   "execution_count": 24,
   "metadata": {},
   "outputs": [],
   "source": [
    "def prepare_data(df):\n",
    "    global column_index\n",
    "    df = pd.get_dummies(df, columns=[\"class\", \"org\"], drop_first=True)\n",
    "    for c in data[\"class\"].unique():\n",
    "        if \"class_\" + c not in df.columns:\n",
    "            df[\"class_\" + c] = 0\n",
    "    for o in data[\"org\"].unique():\n",
    "        if \"org_\" + o not in df.columns:\n",
    "            df[\"org_\" + o] = 0\n",
    "    df = df.drop([\"timestamp\", \"repo\"], axis=1)\n",
    "    \n",
    "    # set column_index global so that we get the same order of columns\n",
    "    try:\n",
    "        if column_index is None:\n",
    "            column_index = df.columns\n",
    "    except NameError:\n",
    "        column_index = df.columns\n",
    "        \n",
    "    return df[column_index]\n",
    "\n",
    "train = prepare_data(train_raw)\n",
    "X_train, y_train = train.drop(\"errors\", axis=1).values, train[\"errors\"]\n",
    "\n",
    "test = prepare_data(test_raw)\n",
    "X_test, y_test = test.drop(\"errors\", axis=1).values, test[\"errors\"]"
   ]
  },
  {
   "cell_type": "code",
   "execution_count": 25,
   "metadata": {},
   "outputs": [],
   "source": [
    "def run_model(model, X, y, Xt, yt, classifier=False, error_fn=rmse):\n",
    "    model.fit(X, y)\n",
    "    train_pred = model.predict(X)\n",
    "    test_pred = model.predict(Xt)\n",
    "    \n",
    "    if classifier:\n",
    "        return accuracy_score(y, train_pred), accuracy_score(yt, test_pred), model\n",
    "    else:\n",
    "        return error_fn(y, train_pred), error_fn(yt, test_pred), model"
   ]
  },
  {
   "cell_type": "code",
   "execution_count": 26,
   "metadata": {},
   "outputs": [],
   "source": [
    "models = pd.DataFrame({\"model\": [], \"train_error\": [], \"test_error\": []})"
   ]
  },
  {
   "cell_type": "markdown",
   "metadata": {},
   "source": [
    "linear model"
   ]
  },
  {
   "cell_type": "code",
   "execution_count": 27,
   "metadata": {},
   "outputs": [
    {
     "data": {
      "text/html": [
       "<div>\n",
       "<style scoped>\n",
       "    .dataframe tbody tr th:only-of-type {\n",
       "        vertical-align: middle;\n",
       "    }\n",
       "\n",
       "    .dataframe tbody tr th {\n",
       "        vertical-align: top;\n",
       "    }\n",
       "\n",
       "    .dataframe thead th {\n",
       "        text-align: right;\n",
       "    }\n",
       "</style>\n",
       "<table border=\"1\" class=\"dataframe\">\n",
       "  <thead>\n",
       "    <tr style=\"text-align: right;\">\n",
       "      <th></th>\n",
       "      <th>model</th>\n",
       "      <th>test_error</th>\n",
       "      <th>train_error</th>\n",
       "    </tr>\n",
       "  </thead>\n",
       "  <tbody>\n",
       "    <tr>\n",
       "      <th>0</th>\n",
       "      <td>linear regression</td>\n",
       "      <td>11097.862772</td>\n",
       "      <td>11607.966992</td>\n",
       "    </tr>\n",
       "  </tbody>\n",
       "</table>\n",
       "</div>"
      ],
      "text/plain": [
       "               model    test_error   train_error\n",
       "0  linear regression  11097.862772  11607.966992"
      ]
     },
     "execution_count": 27,
     "metadata": {},
     "output_type": "execute_result"
    }
   ],
   "source": [
    "model_1 = run_model(LinearRegression(), X_train, y_train, X_test, y_test)\n",
    "models = models.append(\n",
    "    {\"model\": \"linear regression\", \"train_error\": model_1[0], \"test_error\": model_1[1]}, ignore_index=True\n",
    ")\n",
    "models"
   ]
  },
  {
   "cell_type": "code",
   "execution_count": 78,
   "metadata": {},
   "outputs": [
    {
     "data": {
      "text/plain": [
       "HuberRegressor(alpha=0.00021544346900318823, epsilon=21.544346900318832,\n",
       "        fit_intercept=True, max_iter=100, tol=1e-05, warm_start=False)"
      ]
     },
     "execution_count": 78,
     "metadata": {},
     "output_type": "execute_result"
    }
   ],
   "source": [
    "model_2_cv = GridSearchCV(\n",
    "    HuberRegressor(), \n",
    "    {\"epsilon\": np.geomspace(1, 1e3, 10), \"alpha\": np.geomspace(1e-6, 1e-3, 10)}, \n",
    "    n_jobs=-1\n",
    ")\n",
    "model_2_cv.fit(X_train, y_train)\n",
    "model_2_cv.best_estimator_"
   ]
  },
  {
   "cell_type": "code",
   "execution_count": 29,
   "metadata": {},
   "outputs": [
    {
     "data": {
      "text/html": [
       "<div>\n",
       "<style scoped>\n",
       "    .dataframe tbody tr th:only-of-type {\n",
       "        vertical-align: middle;\n",
       "    }\n",
       "\n",
       "    .dataframe tbody tr th {\n",
       "        vertical-align: top;\n",
       "    }\n",
       "\n",
       "    .dataframe thead th {\n",
       "        text-align: right;\n",
       "    }\n",
       "</style>\n",
       "<table border=\"1\" class=\"dataframe\">\n",
       "  <thead>\n",
       "    <tr style=\"text-align: right;\">\n",
       "      <th></th>\n",
       "      <th>model</th>\n",
       "      <th>test_error</th>\n",
       "      <th>train_error</th>\n",
       "    </tr>\n",
       "  </thead>\n",
       "  <tbody>\n",
       "    <tr>\n",
       "      <th>0</th>\n",
       "      <td>linear regression</td>\n",
       "      <td>11097.862772</td>\n",
       "      <td>11607.966992</td>\n",
       "    </tr>\n",
       "    <tr>\n",
       "      <th>1</th>\n",
       "      <td>Huber regressor</td>\n",
       "      <td>11314.020780</td>\n",
       "      <td>11830.325589</td>\n",
       "    </tr>\n",
       "  </tbody>\n",
       "</table>\n",
       "</div>"
      ],
      "text/plain": [
       "               model    test_error   train_error\n",
       "0  linear regression  11097.862772  11607.966992\n",
       "1    Huber regressor  11314.020780  11830.325589"
      ]
     },
     "execution_count": 29,
     "metadata": {},
     "output_type": "execute_result"
    }
   ],
   "source": [
    "model_2 = run_model(HuberRegressor(epsilon=21.544346900318832, alpha=0.00021544346900318823), X_train, y_train, X_test, y_test)\n",
    "models = models.append(\n",
    "    {\"model\": \"Huber regressor\", \"train_error\": model_2[0], \"test_error\": model_2[1]}, ignore_index=True\n",
    ")\n",
    "models"
   ]
  },
  {
   "cell_type": "code",
   "execution_count": 80,
   "metadata": {
    "scrolled": true
   },
   "outputs": [
    {
     "data": {
      "text/html": [
       "<div>\n",
       "<style scoped>\n",
       "    .dataframe tbody tr th:only-of-type {\n",
       "        vertical-align: middle;\n",
       "    }\n",
       "\n",
       "    .dataframe tbody tr th {\n",
       "        vertical-align: top;\n",
       "    }\n",
       "\n",
       "    .dataframe thead th {\n",
       "        text-align: right;\n",
       "    }\n",
       "</style>\n",
       "<table border=\"1\" class=\"dataframe\">\n",
       "  <thead>\n",
       "    <tr style=\"text-align: right;\">\n",
       "      <th></th>\n",
       "      <th>model</th>\n",
       "      <th>test_error</th>\n",
       "      <th>train_error</th>\n",
       "    </tr>\n",
       "  </thead>\n",
       "  <tbody>\n",
       "    <tr>\n",
       "      <th>0</th>\n",
       "      <td>linear regression</td>\n",
       "      <td>11097.862772</td>\n",
       "      <td>11607.966992</td>\n",
       "    </tr>\n",
       "    <tr>\n",
       "      <th>1</th>\n",
       "      <td>Huber regressor</td>\n",
       "      <td>11048.727189</td>\n",
       "      <td>11642.242004</td>\n",
       "    </tr>\n",
       "    <tr>\n",
       "      <th>2</th>\n",
       "      <td>Huber regressor</td>\n",
       "      <td>11314.020780</td>\n",
       "      <td>11830.325589</td>\n",
       "    </tr>\n",
       "    <tr>\n",
       "      <th>3</th>\n",
       "      <td>decision tree regressor</td>\n",
       "      <td>12839.791385</td>\n",
       "      <td>8611.719885</td>\n",
       "    </tr>\n",
       "  </tbody>\n",
       "</table>\n",
       "</div>"
      ],
      "text/plain": [
       "                     model    test_error   train_error\n",
       "0        linear regression  11097.862772  11607.966992\n",
       "1          Huber regressor  11048.727189  11642.242004\n",
       "2          Huber regressor  11314.020780  11830.325589\n",
       "3  decision tree regressor  12839.791385   8611.719885"
      ]
     },
     "execution_count": 80,
     "metadata": {},
     "output_type": "execute_result"
    }
   ],
   "source": [
    "model_3 = run_model(DecisionTreeRegressor(random_state=42), X_train, y_train, X_test, y_test)\n",
    "models = models.append(\n",
    "    {\"model\": \"decision tree regressor\", \"train_error\": model_3[0], \"test_error\": model_3[1]}, ignore_index=True\n",
    ")\n",
    "models"
   ]
  },
  {
   "cell_type": "code",
   "execution_count": 83,
   "metadata": {},
   "outputs": [
    {
     "data": {
      "text/plain": [
       "LinearSVR(C=1e-09, dual=True, epsilon=46.41588833612773, fit_intercept=True,\n",
       "     intercept_scaling=1.0, loss='epsilon_insensitive', max_iter=1000,\n",
       "     random_state=None, tol=0.0001, verbose=0)"
      ]
     },
     "execution_count": 83,
     "metadata": {},
     "output_type": "execute_result"
    }
   ],
   "source": [
    "model_4_cv = GridSearchCV(\n",
    "    LinearSVR(), \n",
    "    {\"epsilon\": np.geomspace(1e-9, 1e3, 10), \"C\": np.geomspace(1e-12, 1e-9, 10)}, \n",
    "    n_jobs=-1\n",
    ")\n",
    "model_4_cv.fit(X_train, y_train)\n",
    "model_4_cv.best_estimator_"
   ]
  },
  {
   "cell_type": "code",
   "execution_count": 84,
   "metadata": {},
   "outputs": [
    {
     "data": {
      "text/html": [
       "<div>\n",
       "<style scoped>\n",
       "    .dataframe tbody tr th:only-of-type {\n",
       "        vertical-align: middle;\n",
       "    }\n",
       "\n",
       "    .dataframe tbody tr th {\n",
       "        vertical-align: top;\n",
       "    }\n",
       "\n",
       "    .dataframe thead th {\n",
       "        text-align: right;\n",
       "    }\n",
       "</style>\n",
       "<table border=\"1\" class=\"dataframe\">\n",
       "  <thead>\n",
       "    <tr style=\"text-align: right;\">\n",
       "      <th></th>\n",
       "      <th>model</th>\n",
       "      <th>test_error</th>\n",
       "      <th>train_error</th>\n",
       "    </tr>\n",
       "  </thead>\n",
       "  <tbody>\n",
       "    <tr>\n",
       "      <th>0</th>\n",
       "      <td>linear regression</td>\n",
       "      <td>11097.862772</td>\n",
       "      <td>11607.966992</td>\n",
       "    </tr>\n",
       "    <tr>\n",
       "      <th>1</th>\n",
       "      <td>Huber regressor</td>\n",
       "      <td>11048.727189</td>\n",
       "      <td>11642.242004</td>\n",
       "    </tr>\n",
       "    <tr>\n",
       "      <th>2</th>\n",
       "      <td>Huber regressor</td>\n",
       "      <td>11314.020780</td>\n",
       "      <td>11830.325589</td>\n",
       "    </tr>\n",
       "    <tr>\n",
       "      <th>3</th>\n",
       "      <td>decision tree regressor</td>\n",
       "      <td>12839.791385</td>\n",
       "      <td>8611.719885</td>\n",
       "    </tr>\n",
       "    <tr>\n",
       "      <th>4</th>\n",
       "      <td>linear support vector regressor</td>\n",
       "      <td>11510.356094</td>\n",
       "      <td>12021.652498</td>\n",
       "    </tr>\n",
       "  </tbody>\n",
       "</table>\n",
       "</div>"
      ],
      "text/plain": [
       "                             model    test_error   train_error\n",
       "0                linear regression  11097.862772  11607.966992\n",
       "1                  Huber regressor  11048.727189  11642.242004\n",
       "2                  Huber regressor  11314.020780  11830.325589\n",
       "3          decision tree regressor  12839.791385   8611.719885\n",
       "4  linear support vector regressor  11510.356094  12021.652498"
      ]
     },
     "execution_count": 84,
     "metadata": {},
     "output_type": "execute_result"
    }
   ],
   "source": [
    "model_4 = run_model(LinearSVR(epsilon=46.41588833612773, C=1e-09), \n",
    "                    X_train, y_train, X_test, y_test)\n",
    "models = models.append(\n",
    "    {\"model\": \"linear support vector regressor\", \"train_error\": model_4[0], \"test_error\": model_4[1]}, ignore_index=True\n",
    ")\n",
    "models"
   ]
  },
  {
   "cell_type": "code",
   "execution_count": 85,
   "metadata": {},
   "outputs": [
    {
     "name": "stderr",
     "output_type": "stream",
     "text": [
      "/Library/Frameworks/Python.framework/Versions/3.6/lib/python3.6/site-packages/sklearn/model_selection/_search.py:841: DeprecationWarning: The default of the `iid` parameter will change from True to False in version 0.22 and will be removed in 0.24. This will change numeric results when test-set sizes are unequal.\n",
      "  DeprecationWarning)\n"
     ]
    },
    {
     "name": "stdout",
     "output_type": "stream",
     "text": [
      "CPU times: user 11.4 s, sys: 1.53 s, total: 12.9 s\n",
      "Wall time: 3min 24s\n"
     ]
    }
   ],
   "source": [
    "%%time\n",
    "model_5_cv = GridSearchCV(\n",
    "    MLPRegressor(random_state=42), \n",
    "    {\n",
    "        \"alpha\": np.geomspace(1e-9, 1e3, 10), \n",
    "        \"learning_rate_init\": np.geomspace(1e-9, 1e3, 10),\n",
    "    }, \n",
    "    n_jobs=-1\n",
    ")\n",
    "model_5_cv.fit(X_train, y_train)\n",
    "model_5_cv.best_estimator_"
   ]
  },
  {
   "cell_type": "code",
   "execution_count": 86,
   "metadata": {},
   "outputs": [
    {
     "data": {
      "text/plain": [
       "MLPRegressor(activation='relu', alpha=2.1544346900318822e-08,\n",
       "       batch_size='auto', beta_1=0.9, beta_2=0.999, early_stopping=False,\n",
       "       epsilon=1e-08, hidden_layer_sizes=(100,), learning_rate='constant',\n",
       "       learning_rate_init=0.1, max_iter=200, momentum=0.9,\n",
       "       n_iter_no_change=10, nesterovs_momentum=True, power_t=0.5,\n",
       "       random_state=42, shuffle=True, solver='adam', tol=0.0001,\n",
       "       validation_fraction=0.1, verbose=False, warm_start=False)"
      ]
     },
     "execution_count": 86,
     "metadata": {},
     "output_type": "execute_result"
    }
   ],
   "source": [
    "model_5_cv.best_estimator_"
   ]
  },
  {
   "cell_type": "code",
   "execution_count": 87,
   "metadata": {},
   "outputs": [
    {
     "data": {
      "text/html": [
       "<div>\n",
       "<style scoped>\n",
       "    .dataframe tbody tr th:only-of-type {\n",
       "        vertical-align: middle;\n",
       "    }\n",
       "\n",
       "    .dataframe tbody tr th {\n",
       "        vertical-align: top;\n",
       "    }\n",
       "\n",
       "    .dataframe thead th {\n",
       "        text-align: right;\n",
       "    }\n",
       "</style>\n",
       "<table border=\"1\" class=\"dataframe\">\n",
       "  <thead>\n",
       "    <tr style=\"text-align: right;\">\n",
       "      <th></th>\n",
       "      <th>model</th>\n",
       "      <th>test_error</th>\n",
       "      <th>train_error</th>\n",
       "    </tr>\n",
       "  </thead>\n",
       "  <tbody>\n",
       "    <tr>\n",
       "      <th>0</th>\n",
       "      <td>linear regression</td>\n",
       "      <td>11097.862772</td>\n",
       "      <td>11607.966992</td>\n",
       "    </tr>\n",
       "    <tr>\n",
       "      <th>1</th>\n",
       "      <td>Huber regressor</td>\n",
       "      <td>11048.727189</td>\n",
       "      <td>11642.242004</td>\n",
       "    </tr>\n",
       "    <tr>\n",
       "      <th>2</th>\n",
       "      <td>Huber regressor</td>\n",
       "      <td>11314.020780</td>\n",
       "      <td>11830.325589</td>\n",
       "    </tr>\n",
       "    <tr>\n",
       "      <th>3</th>\n",
       "      <td>decision tree regressor</td>\n",
       "      <td>12839.791385</td>\n",
       "      <td>8611.719885</td>\n",
       "    </tr>\n",
       "    <tr>\n",
       "      <th>4</th>\n",
       "      <td>linear support vector regressor</td>\n",
       "      <td>11510.356094</td>\n",
       "      <td>12021.652498</td>\n",
       "    </tr>\n",
       "    <tr>\n",
       "      <th>5</th>\n",
       "      <td>multi-level perceptron NN regressor</td>\n",
       "      <td>11078.291349</td>\n",
       "      <td>11664.031694</td>\n",
       "    </tr>\n",
       "  </tbody>\n",
       "</table>\n",
       "</div>"
      ],
      "text/plain": [
       "                                 model    test_error   train_error\n",
       "0                    linear regression  11097.862772  11607.966992\n",
       "1                      Huber regressor  11048.727189  11642.242004\n",
       "2                      Huber regressor  11314.020780  11830.325589\n",
       "3              decision tree regressor  12839.791385   8611.719885\n",
       "4      linear support vector regressor  11510.356094  12021.652498\n",
       "5  multi-level perceptron NN regressor  11078.291349  11664.031694"
      ]
     },
     "execution_count": 87,
     "metadata": {},
     "output_type": "execute_result"
    }
   ],
   "source": [
    "model_5 = run_model(MLPRegressor(random_state=42, alpha=2.1544346900318822e-08, learning_rate_init=0.1), \n",
    "                    X_train, y_train, X_test, y_test)\n",
    "models = models.append(\n",
    "    {\"model\": \"multi-level perceptron NN regressor\", \"train_error\": model_5[0], \"test_error\": model_5[1]}, ignore_index=True\n",
    ")\n",
    "models"
   ]
  },
  {
   "cell_type": "code",
   "execution_count": 35,
   "metadata": {},
   "outputs": [
    {
     "data": {
      "image/png": "[encoded data removed]",
      "text/plain": [
       "<Figure size 864x576 with 1 Axes>"
      ]
     },
     "metadata": {
      "needs_background": "light"
     },
     "output_type": "display_data"
    }
   ],
   "source": [
    "test_pred = model_2[2].predict(X_test)\n",
    "\n",
    "plt.scatter(y_test, test_pred)\n",
    "plt.xlabel(\"Test Set Number of 500/503 Responses\")\n",
    "plt.ylabel(\"Predicted Number of 500/503 Responses\")\n",
    "plt.title(\"Huber Regressor Test Set Predictions\");"
   ]
  },
  {
   "cell_type": "code",
   "execution_count": 13,
   "metadata": {},
   "outputs": [],
   "source": [
    "from scipy import io\n",
    "\n",
    "processed_data = {\n",
    "    \"X_train\": X_train,\n",
    "    \"y_train\": y_train.values,\n",
    "    \"X_test\": X_test,\n",
    "    \"y_test\": y_test.values\n",
    "}\n",
    "\n",
    "io.savemat(\"../data/modeling_processed_data.mat\", processed_data)"
   ]
  },
  {
   "cell_type": "code",
   "execution_count": 30,
   "metadata": {
    "scrolled": false
   },
   "outputs": [
    {
     "data": {
      "text/plain": [
       "['../data/nb05-trained-model.joblib']"
      ]
     },
     "execution_count": 30,
     "metadata": {},
     "output_type": "execute_result"
    }
   ],
   "source": [
    "from joblib import dump\n",
    "dump(model_2[2], \"../data/nb05-trained-model.joblib\")"
   ]
  },
  {
   "cell_type": "code",
   "execution_count": null,
   "metadata": {},
   "outputs": [],
   "source": []
  }
 ],
 "metadata": {
  "@webio": {
   "lastCommId": null,
   "lastKernelId": null
  },
  "kernelspec": {
   "display_name": "Python 3",
   "language": "python",
   "name": "python3"
  },
  "language_info": {
   "codemirror_mode": {
    "name": "ipython",
    "version": 3
   },
   "file_extension": ".py",
   "mimetype": "text/x-python",
   "name": "python",
   "nbconvert_exporter": "python",
   "pygments_lexer": "ipython3",
   "version": "3.6.5"
  },
  "varInspector": {
   "cols": {
    "lenName": 16,
    "lenType": 16,
    "lenVar": 40
   },
   "kernels_config": {
    "python": {
     "delete_cmd_postfix": "",
     "delete_cmd_prefix": "del ",
     "library": "var_list.py",
     "varRefreshCmd": "print(var_dic_list())"
    },
    "r": {
     "delete_cmd_postfix": ") ",
     "delete_cmd_prefix": "rm(",
     "library": "var_list.r",
     "varRefreshCmd": "cat(var_dic_list()) "
    }
   },
   "types_to_exclude": [
    "module",
    "function",
    "builtin_function_or_method",
    "instance",
    "_Feature"
   ],
   "window_display": false
  }
 },
 "nbformat": 4,
 "nbformat_minor": 4
}
