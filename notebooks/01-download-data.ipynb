{
 "cells": [
  {
   "cell_type": "markdown",
   "metadata": {},
   "source": [
    "anonymize log -- from https://github.com/berkeley-dsep-infra/datahub-usage-analysis/blob/master/notebooks/01-anonimize-hub-logs.ipynb"
   ]
  },
  {
   "cell_type": "code",
   "execution_count": null,
   "metadata": {},
   "outputs": [],
   "source": [
    "from anonymize_logs import generate_session_data, generate_pull_data\n",
    "\n",
    "# generate JOSNL file for session starts/stops\n",
    "generate_session_data(\n",
    "    \"../data/private/jupyterhub-2019-10-30.log\",\n",
    "    \"../data/datahub_sessions.jsonl\"\n",
    ")\n",
    "\n",
    "# generate JSONL file for nbgitpuller redirects\n",
    "generate_pull_data(\n",
    "    \"../data/private/jupyterhub-2019-10-30.log\",\n",
    "    \"../data/datahub_pulls.jsonl\"\n",
    ")"
   ]
  },
  {
   "cell_type": "markdown",
   "metadata": {},
   "source": [
    "download gh issues"
   ]
  },
  {
   "cell_type": "code",
   "execution_count": 5,
   "metadata": {},
   "outputs": [],
   "source": [
    "import subprocess\n",
    "import config"
   ]
  },
  {
   "cell_type": "code",
   "execution_count": 4,
   "metadata": {},
   "outputs": [],
   "source": [
    "epr_cmd = [\"epr\", \"-x\", \"issues\", \"berkeley-dsep-infra/datahub\", \"-t\", config.gh_key]\n",
    "with open(\"../data/issues.csv\", \"w+\") as f:\n",
    "    subprocess.run(epr_cmd, stdout=f)"
   ]
  },
  {
   "cell_type": "code",
   "execution_count": null,
   "metadata": {},
   "outputs": [],
   "source": []
  }
 ],
 "metadata": {
  "@webio": {
   "lastCommId": null,
   "lastKernelId": null
  },
  "kernelspec": {
   "display_name": "Python 3",
   "language": "python",
   "name": "python3"
  },
  "language_info": {
   "codemirror_mode": {
    "name": "ipython",
    "version": 3
   },
   "file_extension": ".py",
   "mimetype": "text/x-python",
   "name": "python",
   "nbconvert_exporter": "python",
   "pygments_lexer": "ipython3",
   "version": "3.6.5"
  },
  "varInspector": {
   "cols": {
    "lenName": 16,
    "lenType": 16,
    "lenVar": 40
   },
   "kernels_config": {
    "python": {
     "delete_cmd_postfix": "",
     "delete_cmd_prefix": "del ",
     "library": "var_list.py",
     "varRefreshCmd": "print(var_dic_list())"
    },
    "r": {
     "delete_cmd_postfix": ") ",
     "delete_cmd_prefix": "rm(",
     "library": "var_list.r",
     "varRefreshCmd": "cat(var_dic_list()) "
    }
   },
   "types_to_exclude": [
    "module",
    "function",
    "builtin_function_or_method",
    "instance",
    "_Feature"
   ],
   "window_display": false
  }
 },
 "nbformat": 4,
 "nbformat_minor": 2
}
