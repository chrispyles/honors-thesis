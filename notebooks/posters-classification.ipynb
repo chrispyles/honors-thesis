{
 "cells": [
  {
   "cell_type": "code",
   "execution_count": 39,
   "metadata": {},
   "outputs": [],
   "source": [
    "import pandas as pd\n",
    "import numpy as np\n",
    "from scipy import io\n",
    "import seaborn as sns\n",
    "import matplotlib.pyplot as plt\n",
    "%matplotlib inline\n",
    "import warnings\n",
    "warnings.simplefilter(\"ignore\")\n",
    "\n",
    "def mae(y, y_hat):\n",
    "    return np.mean(np.abs(y - y_hat))\n",
    "\n",
    "def rmse(y, y_hat):\n",
    "    return np.sqrt(np.mean((y - y_hat)**2))"
   ]
  },
  {
   "cell_type": "code",
   "execution_count": 40,
   "metadata": {},
   "outputs": [],
   "source": [
    "posters = io.loadmat(\"../data/posters.mat\")"
   ]
  },
  {
   "cell_type": "code",
   "execution_count": 41,
   "metadata": {},
   "outputs": [
    {
     "data": {
      "text/html": [
       "<div>\n",
       "<style scoped>\n",
       "    .dataframe tbody tr th:only-of-type {\n",
       "        vertical-align: middle;\n",
       "    }\n",
       "\n",
       "    .dataframe tbody tr th {\n",
       "        vertical-align: top;\n",
       "    }\n",
       "\n",
       "    .dataframe thead th {\n",
       "        text-align: right;\n",
       "    }\n",
       "</style>\n",
       "<table border=\"1\" class=\"dataframe\">\n",
       "  <thead>\n",
       "    <tr style=\"text-align: right;\">\n",
       "      <th></th>\n",
       "      <th>adult</th>\n",
       "      <th>backdrop_path</th>\n",
       "      <th>id</th>\n",
       "      <th>original_language</th>\n",
       "      <th>original_title</th>\n",
       "      <th>overview</th>\n",
       "      <th>popularity</th>\n",
       "      <th>poster_path</th>\n",
       "      <th>release_date</th>\n",
       "      <th>title</th>\n",
       "      <th>...</th>\n",
       "      <th>music</th>\n",
       "      <th>which</th>\n",
       "      <th>soon</th>\n",
       "      <th>know</th>\n",
       "      <th>them</th>\n",
       "      <th>wing</th>\n",
       "      <th>comedy</th>\n",
       "      <th>form</th>\n",
       "      <th>test</th>\n",
       "      <th>mall</th>\n",
       "    </tr>\n",
       "  </thead>\n",
       "  <tbody>\n",
       "    <tr>\n",
       "      <th>0</th>\n",
       "      <td>0</td>\n",
       "      <td>/bOGkgRGdhrBYJSLpXaxhXVstddV.jpg</td>\n",
       "      <td>299536</td>\n",
       "      <td>en</td>\n",
       "      <td>Avengers: Infinity War</td>\n",
       "      <td>as the avengers and their allies have continue...</td>\n",
       "      <td>153.811</td>\n",
       "      <td>/7WsyChQLEftFiDOVTGkv3hFpyyt.jpg</td>\n",
       "      <td>2018-04-25</td>\n",
       "      <td>Avengers: Infinity War</td>\n",
       "      <td>...</td>\n",
       "      <td>0</td>\n",
       "      <td>0</td>\n",
       "      <td>0</td>\n",
       "      <td>0</td>\n",
       "      <td>1</td>\n",
       "      <td>0</td>\n",
       "      <td>0</td>\n",
       "      <td>0</td>\n",
       "      <td>0</td>\n",
       "      <td>0</td>\n",
       "    </tr>\n",
       "    <tr>\n",
       "      <th>1</th>\n",
       "      <td>0</td>\n",
       "      <td>/5zfVNTrkhMu673zma6qhFzG01ig.jpg</td>\n",
       "      <td>300668</td>\n",
       "      <td>en</td>\n",
       "      <td>Annihilation</td>\n",
       "      <td>a biologist signs up for a dangerous  secret e...</td>\n",
       "      <td>29.516</td>\n",
       "      <td>/d3qcpfNwbAMCNqWDHzPQsUYiUgS.jpg</td>\n",
       "      <td>2018-02-22</td>\n",
       "      <td>Annihilation</td>\n",
       "      <td>...</td>\n",
       "      <td>0</td>\n",
       "      <td>0</td>\n",
       "      <td>0</td>\n",
       "      <td>0</td>\n",
       "      <td>0</td>\n",
       "      <td>0</td>\n",
       "      <td>0</td>\n",
       "      <td>0</td>\n",
       "      <td>0</td>\n",
       "      <td>0</td>\n",
       "    </tr>\n",
       "    <tr>\n",
       "      <th>2</th>\n",
       "      <td>0</td>\n",
       "      <td>/zjG95oDnBcFKMPgBEmmuNVOMC90.jpg</td>\n",
       "      <td>299782</td>\n",
       "      <td>en</td>\n",
       "      <td>The Other Side of the Wind</td>\n",
       "      <td>surrounded by fans and skeptics  grizzled dire...</td>\n",
       "      <td>6.820</td>\n",
       "      <td>/kFky1paYEfHxfCYByEc9g7gn6Zk.jpg</td>\n",
       "      <td>2018-11-02</td>\n",
       "      <td>The Other Side of the Wind</td>\n",
       "      <td>...</td>\n",
       "      <td>0</td>\n",
       "      <td>0</td>\n",
       "      <td>0</td>\n",
       "      <td>0</td>\n",
       "      <td>0</td>\n",
       "      <td>0</td>\n",
       "      <td>0</td>\n",
       "      <td>0</td>\n",
       "      <td>0</td>\n",
       "      <td>0</td>\n",
       "    </tr>\n",
       "    <tr>\n",
       "      <th>3</th>\n",
       "      <td>0</td>\n",
       "      <td>/q9hnJ9SzwcF30seRtXEzLd5l1gw.jpg</td>\n",
       "      <td>351044</td>\n",
       "      <td>en</td>\n",
       "      <td>Welcome to Marwen</td>\n",
       "      <td>when a devastating attack shatters mark hoganc...</td>\n",
       "      <td>61.973</td>\n",
       "      <td>/o45VIAUYDcVCGuzd43l8Sr5Dfti.jpg</td>\n",
       "      <td>2018-12-21</td>\n",
       "      <td>Welcome to Marwen</td>\n",
       "      <td>...</td>\n",
       "      <td>0</td>\n",
       "      <td>0</td>\n",
       "      <td>0</td>\n",
       "      <td>1</td>\n",
       "      <td>0</td>\n",
       "      <td>0</td>\n",
       "      <td>0</td>\n",
       "      <td>0</td>\n",
       "      <td>1</td>\n",
       "      <td>0</td>\n",
       "    </tr>\n",
       "    <tr>\n",
       "      <th>4</th>\n",
       "      <td>0</td>\n",
       "      <td>/AmO8I38bkHwKhgxPNrd6djBQyPU.jpg</td>\n",
       "      <td>361292</td>\n",
       "      <td>en</td>\n",
       "      <td>Suspiria</td>\n",
       "      <td>a darkness swirls at the center of a world ren...</td>\n",
       "      <td>41.461</td>\n",
       "      <td>/dzWTnkert9EoiPWldWJ15dnfAFl.jpg</td>\n",
       "      <td>2018-10-11</td>\n",
       "      <td>Suspiria</td>\n",
       "      <td>...</td>\n",
       "      <td>0</td>\n",
       "      <td>0</td>\n",
       "      <td>0</td>\n",
       "      <td>0</td>\n",
       "      <td>0</td>\n",
       "      <td>0</td>\n",
       "      <td>0</td>\n",
       "      <td>0</td>\n",
       "      <td>0</td>\n",
       "      <td>0</td>\n",
       "    </tr>\n",
       "  </tbody>\n",
       "</table>\n",
       "<p>5 rows × 149 columns</p>\n",
       "</div>"
      ],
      "text/plain": [
       "   adult                     backdrop_path      id original_language  \\\n",
       "0      0  /bOGkgRGdhrBYJSLpXaxhXVstddV.jpg  299536                en   \n",
       "1      0  /5zfVNTrkhMu673zma6qhFzG01ig.jpg  300668                en   \n",
       "2      0  /zjG95oDnBcFKMPgBEmmuNVOMC90.jpg  299782                en   \n",
       "3      0  /q9hnJ9SzwcF30seRtXEzLd5l1gw.jpg  351044                en   \n",
       "4      0  /AmO8I38bkHwKhgxPNrd6djBQyPU.jpg  361292                en   \n",
       "\n",
       "               original_title  \\\n",
       "0      Avengers: Infinity War   \n",
       "1                Annihilation   \n",
       "2  The Other Side of the Wind   \n",
       "3           Welcome to Marwen   \n",
       "4                    Suspiria   \n",
       "\n",
       "                                            overview  popularity  \\\n",
       "0  as the avengers and their allies have continue...     153.811   \n",
       "1  a biologist signs up for a dangerous  secret e...      29.516   \n",
       "2  surrounded by fans and skeptics  grizzled dire...       6.820   \n",
       "3  when a devastating attack shatters mark hoganc...      61.973   \n",
       "4  a darkness swirls at the center of a world ren...      41.461   \n",
       "\n",
       "                        poster_path release_date                       title  \\\n",
       "0  /7WsyChQLEftFiDOVTGkv3hFpyyt.jpg   2018-04-25      Avengers: Infinity War   \n",
       "1  /d3qcpfNwbAMCNqWDHzPQsUYiUgS.jpg   2018-02-22                Annihilation   \n",
       "2  /kFky1paYEfHxfCYByEc9g7gn6Zk.jpg   2018-11-02  The Other Side of the Wind   \n",
       "3  /o45VIAUYDcVCGuzd43l8Sr5Dfti.jpg   2018-12-21           Welcome to Marwen   \n",
       "4  /dzWTnkert9EoiPWldWJ15dnfAFl.jpg   2018-10-11                    Suspiria   \n",
       "\n",
       "   ...  music  which  soon  know them  wing  comedy  form  test  mall  \n",
       "0  ...      0      0     0     0    1     0       0     0     0     0  \n",
       "1  ...      0      0     0     0    0     0       0     0     0     0  \n",
       "2  ...      0      0     0     0    0     0       0     0     0     0  \n",
       "3  ...      0      0     0     1    0     0       0     0     1     0  \n",
       "4  ...      0      0     0     0    0     0       0     0     0     0  \n",
       "\n",
       "[5 rows x 149 columns]"
      ]
     },
     "execution_count": 41,
     "metadata": {},
     "output_type": "execute_result"
    }
   ],
   "source": [
    "movies = pd.read_csv(\"../data/movies_with_words.csv\")\n",
    "movies.head()"
   ]
  },
  {
   "cell_type": "code",
   "execution_count": 42,
   "metadata": {},
   "outputs": [
    {
     "data": {
      "text/plain": [
       "True"
      ]
     },
     "execution_count": 42,
     "metadata": {},
     "output_type": "execute_result"
    }
   ],
   "source": [
    "\"rating\" in movies.columns"
   ]
  },
  {
   "cell_type": "code",
   "execution_count": 43,
   "metadata": {},
   "outputs": [],
   "source": [
    "all_ids = [str(i) for i in movies[\"id\"] if str(i) in posters and posters[str(i)].shape == (92, 140, 3)]"
   ]
  },
  {
   "cell_type": "code",
   "execution_count": 44,
   "metadata": {
    "scrolled": true
   },
   "outputs": [
    {
     "data": {
      "text/plain": [
       "-746"
      ]
     },
     "execution_count": 44,
     "metadata": {},
     "output_type": "execute_result"
    }
   ],
   "source": [
    "len(np.unique(all_ids)) - len(all_ids)"
   ]
  },
  {
   "cell_type": "code",
   "execution_count": 45,
   "metadata": {},
   "outputs": [],
   "source": [
    "ids = np.unique(all_ids)"
   ]
  },
  {
   "cell_type": "code",
   "execution_count": 46,
   "metadata": {
    "scrolled": true
   },
   "outputs": [],
   "source": [
    "X = np.stack([posters[i] for i in ids])\n",
    "\n",
    "movies_by_id = movies.set_index(\"id\")\n",
    "y = np.stack([int(movies_by_id.loc[int(i),\"rating\"].iloc[0]) if type(movies_by_id.loc[int(i),\"rating\"]) \\\n",
    "              == pd.Series else int(movies_by_id.loc[int(i),\"rating\"]) for i in ids])"
   ]
  },
  {
   "cell_type": "code",
   "execution_count": 47,
   "metadata": {},
   "outputs": [
    {
     "data": {
      "text/plain": [
       "(1697, 92, 140, 3)"
      ]
     },
     "execution_count": 47,
     "metadata": {},
     "output_type": "execute_result"
    }
   ],
   "source": [
    "X.shape"
   ]
  },
  {
   "cell_type": "code",
   "execution_count": 48,
   "metadata": {},
   "outputs": [
    {
     "data": {
      "text/plain": [
       "(1697,)"
      ]
     },
     "execution_count": 48,
     "metadata": {},
     "output_type": "execute_result"
    }
   ],
   "source": [
    "y.shape"
   ]
  },
  {
   "cell_type": "code",
   "execution_count": 49,
   "metadata": {},
   "outputs": [],
   "source": [
    "from sklearn.preprocessing import LabelEncoder\n",
    "from keras.utils import np_utils"
   ]
  },
  {
   "cell_type": "code",
   "execution_count": 50,
   "metadata": {},
   "outputs": [],
   "source": [
    "# encode class values as integers\n",
    "encoder = LabelEncoder()\n",
    "encoder.fit(np.arange(11))\n",
    "encoded_y = encoder.transform(y)\n",
    "# convert integers to dummy variables (i.e. one hot encoded)\n",
    "dummy_y = np_utils.to_categorical(encoded_y)"
   ]
  },
  {
   "cell_type": "code",
   "execution_count": 51,
   "metadata": {},
   "outputs": [],
   "source": [
    "from sklearn.model_selection import train_test_split"
   ]
  },
  {
   "cell_type": "code",
   "execution_count": 52,
   "metadata": {},
   "outputs": [],
   "source": [
    "X_train, X_test, y_train, y_test = train_test_split(X, dummy_y)"
   ]
  },
  {
   "cell_type": "code",
   "execution_count": 53,
   "metadata": {},
   "outputs": [],
   "source": [
    "y_train_labels = np.argmax(y_train, axis=1)\n",
    "y_test_labels = np.argmax(y_test, axis=1)"
   ]
  },
  {
   "cell_type": "code",
   "execution_count": 54,
   "metadata": {},
   "outputs": [],
   "source": [
    "flattened_shape = (X_train.shape[0], X_train.shape[1] * X_train.shape[2] * X_train.shape[3])\n",
    "flattened_X_train = X_train.reshape(flattened_shape)\n",
    "flattened_X_test = X_test.reshape((X_test.shape[0], flattened_shape[1]))"
   ]
  },
  {
   "cell_type": "code",
   "execution_count": 55,
   "metadata": {},
   "outputs": [],
   "source": [
    "# Importing all necessary libraries \n",
    "from keras.preprocessing.image import ImageDataGenerator \n",
    "from keras.models import Sequential \n",
    "from keras.layers import Conv2D, MaxPooling2D, Conv1D, MaxPooling1D\n",
    "from keras.layers import Activation, Dropout, Flatten, Dense \n",
    "from keras import backend as K \n",
    "from keras.wrappers.scikit_learn import KerasClassifier\n",
    "from keras.callbacks import Callback\n",
    "from sklearn.model_selection import KFold, cross_val_score"
   ]
  },
  {
   "cell_type": "code",
   "execution_count": 56,
   "metadata": {},
   "outputs": [],
   "source": [
    "epochs = 100\n",
    "batch_size = 100\n",
    "img_size = (92, 140)\n",
    "input_shape = img_size + (3,)"
   ]
  },
  {
   "cell_type": "code",
   "execution_count": 57,
   "metadata": {},
   "outputs": [],
   "source": [
    "def run_keras_cv(model_fn, X=X_train, y=y_train, epochs=10, batch_size=16, error_fn=mae, seed=42, verbose=0):\n",
    "    np.random.seed(seed)\n",
    "    estimator = KerasClassifier(build_fn=model_fn, epochs=epochs, batch_size=batch_size, verbose=verbose)\n",
    "    kfold = KFold(n_splits=5, shuffle=True)\n",
    "    scorer = lambda e, X, y: error_fn(np.argmax(y, axis=1), e.predict(X))\n",
    "    results = cross_val_score(estimator, X, y, cv=kfold, n_jobs=-1, scoring=scorer)\n",
    "    return estimator, results"
   ]
  },
  {
   "cell_type": "code",
   "execution_count": 58,
   "metadata": {},
   "outputs": [],
   "source": [
    "def fcnn_1h(hidden_input_dim, dropout=False):\n",
    "    model = Sequential()\n",
    "    if dropout:\n",
    "        model.add(Dropout(0.25, seed=42))\n",
    "    model.add(Dense(hidden_input_dim, input_dim=flattened_shape[1], activation=\"relu\"))\n",
    "    model.add(Dense(y_train.shape[1], activation=\"softmax\"))\n",
    "    model.compile(loss=\"categorical_crossentropy\", optimizer=\"adam\", metrics=[\"mae\", \"mse\"])\n",
    "    return model"
   ]
  },
  {
   "cell_type": "code",
   "execution_count": 68,
   "metadata": {},
   "outputs": [],
   "source": [
    "# logger = LoggingCallback()\n",
    "e = KerasClassifier(build_fn=lambda: fcnn_1h(64), epochs=epochs, batch_size=batch_size, verbose=0)\n",
    "history = e.fit(flattened_X_train, y_train, callbacks=[logger], validation_split=0.2)"
   ]
  },
  {
   "cell_type": "code",
   "execution_count": 74,
   "metadata": {},
   "outputs": [
    {
     "data": {
      "text/plain": [
       "[<matplotlib.lines.Line2D at 0x14426ec50>]"
      ]
     },
     "execution_count": 74,
     "metadata": {},
     "output_type": "execute_result"
    },
    {
     "data": {
      "image/png": "[encoded data removed]",
      "text/plain": [
       "<Figure size 864x432 with 1 Axes>"
      ]
     },
     "metadata": {
      "needs_background": "light"
     },
     "output_type": "display_data"
    }
   ],
   "source": [
    "plt.figure(figsize=[12,6])\n",
    "plt.plot(history.history[\"loss\"])\n",
    "plt.plot(history.history[\"val_loss\"])"
   ]
  },
  {
   "cell_type": "code",
   "execution_count": null,
   "metadata": {},
   "outputs": [],
   "source": [
    "for i in 2 ** np.arange(11):\n",
    "    e, r = run_keras_cv(lambda: fcnn_1h(i), X=flattened_X_train, epochs=20, batch_size=16)\n",
    "    print(\"hdim = {}, MAE = {}\".format(i, r.mean()))"
   ]
  },
  {
   "cell_type": "code",
   "execution_count": 80,
   "metadata": {
    "scrolled": true
   },
   "outputs": [
    {
     "name": "stdout",
     "output_type": "stream",
     "text": [
      "hdim = 1, MAE = 1.492082754361587\n",
      "hdim = 2, MAE = 1.7267284236529257\n",
      "hdim = 4, MAE = 1.492082754361587\n",
      "hdim = 8, MAE = 1.6038937779836346\n",
      "hdim = 16, MAE = 2.000744171684422\n",
      "hdim = 32, MAE = 1.5101219700478616\n",
      "hdim = 64, MAE = 1.9719283618959391\n",
      "hdim = 128, MAE = 1.9305944109927435\n",
      "hdim = 256, MAE = 1.5031063764088313\n",
      "hdim = 512, MAE = 3.0292511965416082\n",
      "hdim = 1024, MAE = 1.6038937779836346\n"
     ]
    }
   ],
   "source": [
    "for i in 2 ** np.arange(11):\n",
    "    e, r = run_keras_cv(lambda: fcnn_1h(i), X=flattened_X_train, epochs=20, batch_size=100)\n",
    "    print(\"hdim = {}, MAE = {}\".format(i, r.mean()))"
   ]
  },
  {
   "cell_type": "code",
   "execution_count": 87,
   "metadata": {},
   "outputs": [
    {
     "name": "stdout",
     "output_type": "stream",
     "text": [
      "hdim = 1, MAE = 1.492082754361587\n",
      "hdim = 2, MAE = 1.492082754361587\n",
      "hdim = 4, MAE = 1.9807102053419794\n",
      "hdim = 8, MAE = 1.759533734753744\n",
      "hdim = 16, MAE = 1.492082754361587\n",
      "hdim = 32, MAE = 1.820061756986259\n",
      "hdim = 64, MAE = 2.385916319283619\n",
      "hdim = 128, MAE = 2.072474911224332\n",
      "hdim = 256, MAE = 1.7267284236529257\n",
      "hdim = 512, MAE = 1.989720549637178\n",
      "hdim = 1024, MAE = 2.6282692604600895\n"
     ]
    }
   ],
   "source": [
    "for i in 2 ** np.arange(11):\n",
    "    e, r = run_keras_cv(lambda: fcnn_1h(i, dropout=True), X=flattened_X_train, epochs=20)\n",
    "    print(\"hdim = {}, MAE = {}\".format(i, r.mean()))"
   ]
  },
  {
   "cell_type": "code",
   "execution_count": 67,
   "metadata": {},
   "outputs": [],
   "source": [
    "# class LoggingCallback(Callback):\n",
    "#     def __init__(self):\n",
    "#         super().__init__()\n",
    "# #         self.tacc = []\n",
    "#         self.tloss = []\n",
    "# #         self.vacc = []\n",
    "#         self.vloss = []\n",
    "    \n",
    "#     def on_epoch_end(self, epoch, logs=None):\n",
    "# #         self.tacc.append(logs[\"acc\"])\n",
    "#         self.tloss.append(logs[\"loss\"])\n",
    "# #         self.vacc.append(logs[\"val_acc\"])\n",
    "#         self.vloss.append(logs[\"val_loss\"])"
   ]
  },
  {
   "cell_type": "code",
   "execution_count": 27,
   "metadata": {},
   "outputs": [],
   "source": [
    "def cnn_1h(outputs, windows, dropout=False):\n",
    "    model = Sequential()\n",
    "    for output, window in zip(outputs, windows):\n",
    "        model.add(Conv2D(output, window, activation=\"relu\", input_shape=input_shape))\n",
    "    model.add(Flatten())\n",
    "    model.add(Dense(dummy_y.shape[1], activation=\"softmax\"))\n",
    "    model.compile(loss=\"categorical_crossentropy\", optimizer=\"adam\", metrics=[\"mae\", \"mse\"])\n",
    "    return model"
   ]
  },
  {
   "cell_type": "code",
   "execution_count": 30,
   "metadata": {},
   "outputs": [
    {
     "name": "stdout",
     "output_type": "stream",
     "text": [
      "CPU times: user 155 ms, sys: 253 ms, total: 408 ms\n",
      "Wall time: 54min 53s\n"
     ]
    }
   ],
   "source": [
    "%%time\n",
    "e, r = run_keras_cv(lambda: cnn_1h([64, 32, 32, 32], [(4, 4) for _ in range(4)], dropout=True), \n",
    "                    epochs=10, batch_size=100, verbose=1)\n",
    "# print(\"hdim = {}, MAE = {}\".format(i, r.mean()))"
   ]
  },
  {
   "cell_type": "code",
   "execution_count": 32,
   "metadata": {},
   "outputs": [
    {
     "name": "stdout",
     "output_type": "stream",
     "text": [
      "CPU times: user 188 ms, sys: 265 ms, total: 452 ms\n",
      "Wall time: 57min 16s\n"
     ]
    }
   ],
   "source": [
    "%%time\n",
    "e, r = run_keras_cv(lambda: cnn_1h([64, 32, 32, 16, 16, 16], [(4, 4) for _ in range(6)], dropout=True), \n",
    "                    epochs=10, batch_size=100, verbose=1)\n",
    "# print(\"hdim = {}, MAE = {}\".format(i, r.mean()))"
   ]
  },
  {
   "cell_type": "code",
   "execution_count": 33,
   "metadata": {},
   "outputs": [
    {
     "data": {
      "text/plain": [
       "array([1.98039216, 1.43137255, 1.38976378, 1.69291339, 1.67322835])"
      ]
     },
     "execution_count": 33,
     "metadata": {},
     "output_type": "execute_result"
    }
   ],
   "source": [
    "r"
   ]
  },
  {
   "cell_type": "code",
   "execution_count": 37,
   "metadata": {},
   "outputs": [
    {
     "name": "stdout",
     "output_type": "stream",
     "text": [
      "CPU times: user 1.15 s, sys: 1.2 s, total: 2.35 s\n",
      "Wall time: 16h 39s\n"
     ]
    }
   ],
   "source": [
    "%%time\n",
    "e, r = run_keras_cv(lambda: cnn_1h([200, 175, 150, 125, 100, 75, 50, 25], \n",
    "                                   [(4, 4) for _ in range(8)], dropout=True), \n",
    "                    epochs=10, batch_size=100, verbose=1)\n",
    "# print(\"hdim = {}, MAE = {}\".format(i, r.mean()))"
   ]
  },
  {
   "cell_type": "code",
   "execution_count": 38,
   "metadata": {},
   "outputs": [
    {
     "data": {
      "text/plain": [
       "array([1.55686275, 1.71372549, 1.38976378, 2.22440945, 2.09055118])"
      ]
     },
     "execution_count": 38,
     "metadata": {},
     "output_type": "execute_result"
    }
   ],
   "source": [
    "r"
   ]
  },
  {
   "cell_type": "code",
   "execution_count": null,
   "metadata": {},
   "outputs": [],
   "source": []
  },
  {
   "cell_type": "code",
   "execution_count": null,
   "metadata": {},
   "outputs": [],
   "source": []
  },
  {
   "cell_type": "code",
   "execution_count": null,
   "metadata": {},
   "outputs": [],
   "source": []
  },
  {
   "cell_type": "code",
   "execution_count": null,
   "metadata": {},
   "outputs": [],
   "source": []
  },
  {
   "cell_type": "code",
   "execution_count": null,
   "metadata": {},
   "outputs": [],
   "source": []
  },
  {
   "cell_type": "code",
   "execution_count": null,
   "metadata": {},
   "outputs": [],
   "source": []
  },
  {
   "cell_type": "code",
   "execution_count": null,
   "metadata": {},
   "outputs": [],
   "source": []
  },
  {
   "cell_type": "code",
   "execution_count": 59,
   "metadata": {},
   "outputs": [],
   "source": [
    "def first_nn_model():\n",
    "    model = Sequential() \n",
    "    model.add(Conv2D(32, (2, 2), input_shape=input_shape)) \n",
    "    model.add(Activation('relu')) \n",
    "    model.add(MaxPooling2D(pool_size=(2, 2))) \n",
    "\n",
    "    model.add(Conv2D(32, (2, 2))) \n",
    "    model.add(Activation('relu')) \n",
    "    model.add(MaxPooling2D(pool_size=(2, 2))) \n",
    "\n",
    "    model.add(Conv2D(64, (2, 2))) \n",
    "    model.add(Activation('relu')) \n",
    "    model.add(MaxPooling2D(pool_size=(2, 2))) \n",
    "\n",
    "    model.add(Flatten()) \n",
    "    model.add(Dense(64)) \n",
    "    model.add(Activation('relu')) \n",
    "    model.add(Dropout(0.5)) \n",
    "    model.add(Dense(dummy_y.shape[1])) \n",
    "    model.add(Activation('sigmoid'))\n",
    "    \n",
    "    model.compile(loss=\"categorical_crossentropy\", optimizer=\"adam\", metrics=[\"mae\", \"mse\"])\n",
    "\n",
    "    return model"
   ]
  },
  {
   "cell_type": "code",
   "execution_count": 60,
   "metadata": {},
   "outputs": [],
   "source": [
    "def run_keras_cv(model_fn, X=X_train, y=y_train, epochs=10, batch_size=16, error_fn=mae, seed=42):\n",
    "    np.random.seed(seed)\n",
    "    estimator = KerasClassifier(build_fn=model_fn, epochs=epochs, batch_size=batch_size, verbose=0)\n",
    "    kfold = KFold(n_splits=5, shuffle=True)\n",
    "    scorer = lambda e, X, y: error_fn(np.argmax(y, axis=1), e.predict(X))\n",
    "    results = cross_val_score(estimator, X, y, cv=kfold, n_jobs=-1, scoring=scorer)\n",
    "    return estimator, results"
   ]
  },
  {
   "cell_type": "code",
   "execution_count": 61,
   "metadata": {
    "scrolled": false
   },
   "outputs": [
    {
     "name": "stdout",
     "output_type": "stream",
     "text": [
      "CPU times: user 130 ms, sys: 296 ms, total: 426 ms\n",
      "Wall time: 7min 1s\n"
     ]
    }
   ],
   "source": [
    "%%time\n",
    "first_estimator, first_results = run_keras_cv(first_nn_model)"
   ]
  },
  {
   "cell_type": "code",
   "execution_count": 62,
   "metadata": {},
   "outputs": [
    {
     "data": {
      "text/plain": [
       "(3.7359178632082752, 1.7413004034397939)"
      ]
     },
     "execution_count": 62,
     "metadata": {},
     "output_type": "execute_result"
    }
   ],
   "source": [
    "first_results.mean(), first_results.std()"
   ]
  },
  {
   "cell_type": "code",
   "execution_count": 63,
   "metadata": {},
   "outputs": [],
   "source": [
    "def get_errors(estimator, X=X_train, y=y_train, Xt=None, yt=None, test=False, seed=42):\n",
    "    np.random.seed(seed)\n",
    "    estimator.fit(X, y)\n",
    "    if test:\n",
    "        pred = estimator.predict(Xt)\n",
    "        return mae(np.argmax(yt, axis=1), pred), rmse(np.argmax(yt, axis=1), pred)\n",
    "    else:\n",
    "        pred = estimator.predict(X)\n",
    "        return mae(np.argmax(y, axis=1), pred), rmse(np.argmax(y, axis=1), pred)"
   ]
  },
  {
   "cell_type": "code",
   "execution_count": 64,
   "metadata": {},
   "outputs": [
    {
     "name": "stdout",
     "output_type": "stream",
     "text": [
      "WARNING:tensorflow:From /Library/Frameworks/Python.framework/Versions/3.6/lib/python3.6/site-packages/tensorflow/python/ops/resource_variable_ops.py:435: colocate_with (from tensorflow.python.framework.ops) is deprecated and will be removed in a future version.\n",
      "Instructions for updating:\n",
      "Colocations handled automatically by placer.\n",
      "WARNING:tensorflow:From /Library/Frameworks/Python.framework/Versions/3.6/lib/python3.6/site-packages/tensorflow/python/ops/math_ops.py:3066: to_int32 (from tensorflow.python.ops.math_ops) is deprecated and will be removed in a future version.\n",
      "Instructions for updating:\n",
      "Use tf.cast instead.\n"
     ]
    },
    {
     "data": {
      "text/plain": [
       "(2.5849056603773586, 3.036983773458721)"
      ]
     },
     "execution_count": 64,
     "metadata": {},
     "output_type": "execute_result"
    }
   ],
   "source": [
    "get_errors(first_estimator)"
   ]
  },
  {
   "cell_type": "code",
   "execution_count": 65,
   "metadata": {
    "scrolled": false
   },
   "outputs": [
    {
     "data": {
      "image/png": "[encoded data removed]",
      "text/plain": [
       "<Figure size 864x432 with 1 Axes>"
      ]
     },
     "metadata": {
      "needs_background": "light"
     },
     "output_type": "display_data"
    }
   ],
   "source": [
    "first_pred = first_estimator.predict(X_test)\n",
    "\n",
    "x_jitter = np.random.uniform(-0.2, 0.2, len(y_test_labels))\n",
    "y_jitter = np.random.uniform(-0.2, 0.2, len(y_test_labels))\n",
    "plt.figure(figsize=[12,6])\n",
    "plt.scatter(y_test_labels + x_jitter, first_pred + y_jitter, color=\"steelblue\")\n",
    "plt.xlabel(\"Testing Label\")\n",
    "plt.ylabel(\"Testing Prediction\")\n",
    "plt.title(\"Convolutional Neural Network Testing Predictions\")\n",
    "plt.ylim([0,10])\n",
    "plt.savefig(\"../figures/cnn_all_fours.png\");"
   ]
  },
  {
   "cell_type": "markdown",
   "metadata": {},
   "source": [
    "nn with flattened data?"
   ]
  },
  {
   "cell_type": "code",
   "execution_count": 21,
   "metadata": {},
   "outputs": [],
   "source": [
    "flattened_shape = (X_train.shape[0], X_train.shape[1] * X_train.shape[2] * X_train.shape[3])\n",
    "flattened_X_train = X_train.reshape(flattened_shape)\n",
    "flattened_X_test = X_test.reshape((X_test.shape[0], flattened_shape[1]))"
   ]
  },
  {
   "cell_type": "code",
   "execution_count": 84,
   "metadata": {},
   "outputs": [],
   "source": [
    "def second_nn_model():\n",
    "    model = Sequential()\n",
    "    model.add(Dense(8, input_dim=flattened_shape[1], activation=\"relu\"))\n",
    "    model.add(Dense(y_train.shape[1], activation=\"softmax\"))\n",
    "    model.compile(loss=\"categorical_crossentropy\", optimizer=\"adam\", metrics=[\"mae\", \"mse\"])\n",
    "    return model"
   ]
  },
  {
   "cell_type": "code",
   "execution_count": 101,
   "metadata": {
    "scrolled": false
   },
   "outputs": [
    {
     "name": "stdout",
     "output_type": "stream",
     "text": [
      "CPU times: user 104 ms, sys: 150 ms, total: 254 ms\n",
      "Wall time: 13.1 s\n"
     ]
    }
   ],
   "source": [
    "%%time\n",
    "second_estimator, second_results = run_keras_cv(second_nn_model, X=flattened_X_train)"
   ]
  },
  {
   "cell_type": "code",
   "execution_count": 102,
   "metadata": {},
   "outputs": [
    {
     "data": {
      "text/plain": [
       "(2.9173104832484174, 1.9265216813213943)"
      ]
     },
     "execution_count": 102,
     "metadata": {},
     "output_type": "execute_result"
    }
   ],
   "source": [
    "second_results.mean(), second_results.std()"
   ]
  },
  {
   "cell_type": "code",
   "execution_count": 105,
   "metadata": {
    "scrolled": false
   },
   "outputs": [
    {
     "data": {
      "text/plain": [
       "(2.1446540880503147, 2.715550374505689)"
      ]
     },
     "execution_count": 105,
     "metadata": {},
     "output_type": "execute_result"
    }
   ],
   "source": [
    "get_errors(second_estimator, X=flattened_X_train)"
   ]
  },
  {
   "cell_type": "code",
   "execution_count": 22,
   "metadata": {},
   "outputs": [],
   "source": [
    "def third_nn_model():\n",
    "    model = Sequential()\n",
    "    model.add(Dense(8, input_dim=flattened_shape[1], activation=\"relu\"))\n",
    "    model.add(Dense(y_train.shape[1], activation=\"sigmoid\"))\n",
    "    model.compile(loss=\"categorical_crossentropy\", optimizer=\"adam\", metrics=[\"mae\", \"mse\"])\n",
    "    return model"
   ]
  },
  {
   "cell_type": "code",
   "execution_count": 107,
   "metadata": {},
   "outputs": [
    {
     "name": "stdout",
     "output_type": "stream",
     "text": [
      "CPU times: user 44.4 ms, sys: 32.3 ms, total: 76.6 ms\n",
      "Wall time: 14.7 s\n"
     ]
    }
   ],
   "source": [
    "%%time\n",
    "third_estimator, third_results = run_keras_cv(third_nn_model, X=flattened_X_train)"
   ]
  },
  {
   "cell_type": "code",
   "execution_count": 108,
   "metadata": {},
   "outputs": [
    {
     "data": {
      "text/plain": [
       "(4.389979928979466, 1.662370389877224)"
      ]
     },
     "execution_count": 108,
     "metadata": {},
     "output_type": "execute_result"
    }
   ],
   "source": [
    "third_results.mean(), third_results.std()"
   ]
  },
  {
   "cell_type": "code",
   "execution_count": 110,
   "metadata": {},
   "outputs": [
    {
     "data": {
      "text/plain": [
       "(1.6666666666666667, 2.2695689890872264)"
      ]
     },
     "execution_count": 110,
     "metadata": {},
     "output_type": "execute_result"
    }
   ],
   "source": [
    "get_errors(third_estimator, X=flattened_X_train)"
   ]
  },
  {
   "cell_type": "code",
   "execution_count": 23,
   "metadata": {},
   "outputs": [],
   "source": [
    "def fourth_nn_model():\n",
    "    model = Sequential()\n",
    "    model.add(Dense(8, input_dim=flattened_shape[1], activation=\"relu\"))\n",
    "    model.add(Dropout(0.25, seed=42))\n",
    "    model.add(Dense(y_train.shape[1], activation=\"sigmoid\"))\n",
    "    model.compile(loss=\"categorical_crossentropy\", optimizer=\"adam\", metrics=[\"mae\", \"mse\"])\n",
    "    return model"
   ]
  },
  {
   "cell_type": "code",
   "execution_count": 114,
   "metadata": {},
   "outputs": [
    {
     "name": "stdout",
     "output_type": "stream",
     "text": [
      "CPU times: user 78.6 ms, sys: 88.3 ms, total: 167 ms\n",
      "Wall time: 12.4 s\n"
     ]
    }
   ],
   "source": [
    "%%time\n",
    "fourth_estimator, fourth_results = run_keras_cv(fourth_nn_model, X=flattened_X_train)"
   ]
  },
  {
   "cell_type": "code",
   "execution_count": 115,
   "metadata": {},
   "outputs": [
    {
     "data": {
      "text/plain": [
       "(4.214732129072101, 1.5027730742846714)"
      ]
     },
     "execution_count": 115,
     "metadata": {},
     "output_type": "execute_result"
    }
   ],
   "source": [
    "fourth_results.mean(), fourth_results.std()"
   ]
  },
  {
   "cell_type": "code",
   "execution_count": 117,
   "metadata": {},
   "outputs": [
    {
     "data": {
      "text/plain": [
       "(6.122641509433962, 6.473215253895891)"
      ]
     },
     "execution_count": 117,
     "metadata": {},
     "output_type": "execute_result"
    }
   ],
   "source": [
    "get_errors(fourth_estimator, X=flattened_X_train)"
   ]
  },
  {
   "cell_type": "code",
   "execution_count": 149,
   "metadata": {},
   "outputs": [
    {
     "data": {
      "text/plain": [
       "array([0, 0, 0, 0, 0, 0, 0, 0, 0, 0, 0, 0, 0, 0, 0, 0, 0, 0, 0, 0, 0, 0,\n",
       "       0, 0, 0, 0, 0, 0, 0, 0, 0, 0, 0, 0, 0, 0, 0, 0, 0, 0, 0, 0, 0, 4,\n",
       "       0, 0, 0, 0, 0, 0, 4, 0, 0, 0, 0, 0, 0, 0, 0, 0, 0, 0, 0, 0, 0, 0,\n",
       "       0, 0, 0, 0, 0, 0, 0, 0, 0, 0, 0, 0, 0, 0, 0, 0, 0, 0, 0, 0, 0, 0,\n",
       "       0, 0, 0, 0, 0, 0, 0, 0, 0, 0, 0, 0, 0, 0, 0, 0, 0, 0, 0, 0, 0, 0,\n",
       "       0, 0, 0, 0, 0, 0, 0, 0, 0, 0, 0, 0, 0, 0, 0, 0, 0, 0, 0, 0, 0, 0,\n",
       "       0, 0, 4, 0, 0, 0, 0, 0, 0, 0, 0, 0, 0, 0, 0, 0, 0, 0, 0, 0, 0, 0,\n",
       "       0, 0, 0, 0, 0, 0, 0, 0, 0, 0, 0, 0, 0, 0, 0, 0, 0, 0, 0, 0, 0, 0,\n",
       "       0, 0, 0, 0, 0, 0, 0, 0, 0, 0, 0, 0, 4, 0, 0, 0, 0, 4, 0, 0, 0, 0,\n",
       "       0, 0, 0, 0, 0, 0, 0, 0, 0, 0, 0, 0, 0, 0, 0, 0, 0, 0, 0, 0, 0, 0,\n",
       "       0, 0, 0, 0, 0, 0, 0, 0, 0, 0, 0, 0, 0, 0, 0, 0, 0, 0, 0, 0, 0, 0,\n",
       "       0, 0, 0, 0, 0, 0, 0, 0, 0, 0, 0, 0, 0, 0, 0, 0, 0, 4, 0, 0, 0, 0,\n",
       "       0, 0, 0, 0, 0, 4, 0, 0, 0, 0, 0, 0, 0, 0, 0, 0, 0, 0, 0, 0, 0, 0,\n",
       "       0, 0, 0, 0, 0, 0, 0, 0, 0, 0, 4, 0, 0, 0, 0, 0, 0, 0, 4, 0, 0, 0,\n",
       "       0, 0, 0, 0, 0, 0, 0, 0, 0, 0, 0, 0, 0, 4, 0, 4, 0, 0, 4, 0, 0, 0,\n",
       "       0, 0, 0, 0, 0, 0, 0, 0, 0, 0, 0, 0, 0, 0, 0, 0, 0, 0, 0, 0, 0, 0,\n",
       "       0, 0, 0, 0, 0, 0, 0, 0, 0, 0, 0, 0, 0, 0, 0, 0, 0, 0, 0, 0, 0, 0,\n",
       "       0, 0, 0, 0, 0, 0, 0, 0, 0, 0, 0, 0, 0, 0, 0, 0, 0, 0, 0, 0, 0, 0,\n",
       "       0, 0, 0, 0, 0, 0, 0, 0, 0, 0, 0, 0, 0, 0, 0, 0, 0, 0, 0, 0, 0, 0,\n",
       "       0, 0, 0, 0, 0, 0, 0])"
      ]
     },
     "execution_count": 149,
     "metadata": {},
     "output_type": "execute_result"
    }
   ],
   "source": [
    "fourth_estimator.predict(flattened_X_test)"
   ]
  },
  {
   "cell_type": "code",
   "execution_count": 170,
   "metadata": {},
   "outputs": [
    {
     "data": {
      "image/png": "[encoded data removed]",
      "text/plain": [
       "<Figure size 864x432 with 1 Axes>"
      ]
     },
     "metadata": {
      "needs_background": "light"
     },
     "output_type": "display_data"
    }
   ],
   "source": [
    "fourth_pred = fourth_estimator.predict(flattened_X_test)\n",
    "\n",
    "x_jitter = np.random.uniform(-0.2, 0.2, len(y_test_labels))\n",
    "y_jitter = np.random.uniform(-0.2, 0.2, len(y_test_labels))\n",
    "plt.figure(figsize=[12,6])\n",
    "plt.scatter(y_test_labels + x_jitter, fourth_pred + y_jitter)\n",
    "plt.xlabel(\"Testing Label\")\n",
    "plt.ylabel(\"Testing Prediction\")\n",
    "plt.title(\"Neural Network Testing Predictions\")\n",
    "plt.ylim([-1,10])\n",
    "plt.savefig(\"../figures/nn_most_zeros.png\");"
   ]
  },
  {
   "cell_type": "code",
   "execution_count": 24,
   "metadata": {},
   "outputs": [],
   "source": [
    "def fifth_nn_model():\n",
    "    model = Sequential()\n",
    "    model.add(Conv2D(64, (2,2), input_shape=input_shape, activation=\"relu\"))\n",
    "    model.add(Dropout(0.25, seed=42))\n",
    "    model.add(Flatten())\n",
    "    model.add(Dense(y_train.shape[1], activation=\"sigmoid\"))\n",
    "    model.compile(loss=\"categorical_crossentropy\", optimizer=\"adam\", metrics=[\"mae\", \"mse\"])\n",
    "    return model"
   ]
  },
  {
   "cell_type": "code",
   "execution_count": 142,
   "metadata": {
    "scrolled": false
   },
   "outputs": [
    {
     "name": "stdout",
     "output_type": "stream",
     "text": [
      "CPU times: user 132 ms, sys: 148 ms, total: 280 ms\n",
      "Wall time: 11min 17s\n"
     ]
    }
   ],
   "source": [
    "%%time\n",
    "fifth_estimator, fifth_results = run_keras_cv(fifth_nn_model)"
   ]
  },
  {
   "cell_type": "code",
   "execution_count": 143,
   "metadata": {},
   "outputs": [
    {
     "data": {
      "text/plain": [
       "(3.326252894858731, 2.0300634989517286)"
      ]
     },
     "execution_count": 143,
     "metadata": {},
     "output_type": "execute_result"
    }
   ],
   "source": [
    "fifth_results.mean(), fifth_results.std()"
   ]
  },
  {
   "cell_type": "code",
   "execution_count": 144,
   "metadata": {},
   "outputs": [
    {
     "data": {
      "text/plain": [
       "(2.5754716981132075, 3.0266115308196664)"
      ]
     },
     "execution_count": 144,
     "metadata": {},
     "output_type": "execute_result"
    }
   ],
   "source": [
    "get_errors(fifth_estimator)"
   ]
  },
  {
   "cell_type": "code",
   "execution_count": 147,
   "metadata": {},
   "outputs": [
    {
     "data": {
      "text/plain": [
       "array([4, 4, 4, 4, 4, 4, 4, 4, 4, 4, 4, 4, 4, 4, 4, 4, 4, 4, 4, 4, 4, 4,\n",
       "       4, 4, 4, 4, 4, 4, 4, 4, 4, 4, 4, 4, 4, 4, 4, 4, 4, 4, 4, 4, 4, 4,\n",
       "       4, 4, 4, 4, 4, 4, 4, 4, 4, 4, 4, 4, 4, 4, 4, 4, 4, 4, 4, 4, 4, 4,\n",
       "       4, 4, 4, 4, 4, 4, 4, 4, 4, 4, 4, 4, 4, 4, 4, 4, 4, 4, 4, 4, 4, 4,\n",
       "       4, 4, 4, 4, 4, 4, 4, 4, 4, 4, 4, 4, 4, 4, 4, 4, 4, 4, 4, 4, 4, 4,\n",
       "       4, 4, 4, 4, 4, 4, 4, 4, 4, 4, 4, 4, 4, 4, 4, 4, 4, 4, 4, 4, 4, 4,\n",
       "       4, 4, 4, 4, 4, 4, 4, 4, 4, 4, 4, 4, 4, 4, 4, 4, 4, 4, 4, 4, 4, 4,\n",
       "       4, 4, 4, 4, 4, 4, 4, 4, 4, 4, 4, 4, 4, 4, 4, 4, 4, 4, 4, 4, 4, 4,\n",
       "       4, 4, 4, 4, 4, 4, 4, 4, 4, 4, 4, 4, 4, 4, 4, 4, 4, 4, 4, 4, 4, 4,\n",
       "       4, 4, 4, 4, 4, 4, 4, 4, 4, 4, 4, 4, 4, 4, 4, 4, 4, 4, 4, 4, 4, 4,\n",
       "       4, 4, 4, 4, 4, 4, 4, 4, 4, 4, 4, 4, 4, 4, 4, 4, 4, 4, 4, 4, 4, 4,\n",
       "       4, 4, 4, 4, 4, 4, 4, 4, 4, 4, 4, 4, 4, 4, 4, 4, 4, 4, 4, 4, 4, 4,\n",
       "       4, 4, 4, 4, 4, 4, 4, 4, 4, 4, 4, 4, 4, 4, 4, 4, 4, 4, 4, 4, 4, 4,\n",
       "       4, 4, 4, 4, 4, 4, 4, 4, 4, 4, 4, 4, 4, 4, 4, 4, 4, 4, 4, 4, 4, 4,\n",
       "       4, 4, 4, 4, 4, 4, 4, 4, 4, 4, 4, 4, 4, 4, 4, 4, 4, 4, 4, 4, 4, 4,\n",
       "       4, 4, 4, 4, 4, 4, 4, 4, 4, 4, 4, 4, 4, 4, 4, 4, 4, 4, 4, 4, 4, 4,\n",
       "       4, 4, 4, 4, 4, 4, 4, 4, 4, 4, 4, 4, 4, 4, 4, 4, 4, 4, 4, 4, 4, 4,\n",
       "       4, 4, 4, 4, 4, 4, 4, 4, 4, 4, 4, 4, 4, 4, 4, 4, 4, 4, 4, 4, 4, 4,\n",
       "       4, 4, 4, 4, 4, 4, 4, 4, 4, 4, 4, 4, 4, 4, 4, 4, 4, 4, 4, 4, 4, 4,\n",
       "       4, 4, 4, 4, 4, 4, 4])"
      ]
     },
     "execution_count": 147,
     "metadata": {},
     "output_type": "execute_result"
    }
   ],
   "source": [
    "fifth_estimator.predict(X_test)"
   ]
  },
  {
   "cell_type": "code",
   "execution_count": 25,
   "metadata": {},
   "outputs": [],
   "source": [
    "def make_nn(*n_nodes, output_activation=\"sigmoid\"):\n",
    "    model = Sequential()\n",
    "    model.add(Dense(n_nodes[0], input_dim=flattened_shape[1], activation=\"relu\"))\n",
    "    \n",
    "    for i in n_nodes[1:]:\n",
    "        model.add(Dense(i, activation=\"relu\"))\n",
    "    \n",
    "    model.add(Dense(y_train.shape[1], activation=output_activation))\n",
    "    model.compile(loss=\"categorical_crossentropy\", optimizer=\"adam\", metrics=[\"mae\", \"mse\"])\n",
    "    return model"
   ]
  },
  {
   "cell_type": "code",
   "execution_count": 181,
   "metadata": {},
   "outputs": [
    {
     "name": "stdout",
     "output_type": "stream",
     "text": [
      "CPU times: user 114 ms, sys: 618 ms, total: 732 ms\n",
      "Wall time: 2min 44s\n"
     ]
    }
   ],
   "source": [
    "%%time\n",
    "sixth_estimator, sixth_results = run_keras_cv(\n",
    "    lambda: make_nn(128, 64, 32, 16, output_activation=\"sigmoid\"), X=flattened_X_train)"
   ]
  },
  {
   "cell_type": "code",
   "execution_count": 183,
   "metadata": {},
   "outputs": [
    {
     "data": {
      "text/plain": [
       "(6.223270440251572, 6.553361036941513)"
      ]
     },
     "execution_count": 183,
     "metadata": {},
     "output_type": "execute_result"
    }
   ],
   "source": [
    "get_errors(sixth_estimator, X=flattened_X_train)"
   ]
  },
  {
   "cell_type": "code",
   "execution_count": 184,
   "metadata": {},
   "outputs": [
    {
     "name": "stdout",
     "output_type": "stream",
     "text": [
      "CPU times: user 60.5 ms, sys: 80.9 ms, total: 141 ms\n",
      "Wall time: 1min 56s\n"
     ]
    }
   ],
   "source": [
    "%%time\n",
    "seventh_estimator, seventh_results = run_keras_cv(\n",
    "    lambda: make_nn(128, 32, 8, output_activation=\"softmax\"), X=flattened_X_train)"
   ]
  },
  {
   "cell_type": "code",
   "execution_count": 185,
   "metadata": {},
   "outputs": [
    {
     "data": {
      "text/plain": [
       "(5.265723270440252, 5.612486080160912)"
      ]
     },
     "execution_count": 185,
     "metadata": {},
     "output_type": "execute_result"
    }
   ],
   "source": [
    "get_errors(seventh_estimator, X=flattened_X_train)"
   ]
  },
  {
   "cell_type": "code",
   "execution_count": null,
   "metadata": {},
   "outputs": [],
   "source": []
  }
 ],
 "metadata": {
  "@webio": {
   "lastCommId": null,
   "lastKernelId": null
  },
  "kernelspec": {
   "display_name": "Python 3",
   "language": "python",
   "name": "python3"
  },
  "language_info": {
   "codemirror_mode": {
    "name": "ipython",
    "version": 3
   },
   "file_extension": ".py",
   "mimetype": "text/x-python",
   "name": "python",
   "nbconvert_exporter": "python",
   "pygments_lexer": "ipython3",
   "version": "3.6.5"
  },
  "varInspector": {
   "cols": {
    "lenName": 16,
    "lenType": 16,
    "lenVar": 40
   },
   "kernels_config": {
    "python": {
     "delete_cmd_postfix": "",
     "delete_cmd_prefix": "del ",
     "library": "var_list.py",
     "varRefreshCmd": "print(var_dic_list())"
    },
    "r": {
     "delete_cmd_postfix": ") ",
     "delete_cmd_prefix": "rm(",
     "library": "var_list.r",
     "varRefreshCmd": "cat(var_dic_list()) "
    }
   },
   "types_to_exclude": [
    "module",
    "function",
    "builtin_function_or_method",
    "instance",
    "_Feature"
   ],
   "window_display": false
  }
 },
 "nbformat": 4,
 "nbformat_minor": 4
}
