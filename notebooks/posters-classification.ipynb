{
 "cells": [
  {
   "cell_type": "code",
   "execution_count": 1,
   "metadata": {},
   "outputs": [],
   "source": [
    "import pandas as pd\n",
    "import numpy as np\n",
    "from scipy import io"
   ]
  },
  {
   "cell_type": "code",
   "execution_count": 2,
   "metadata": {},
   "outputs": [],
   "source": [
    "posters = io.loadmat(\"../data/posters.mat\")"
   ]
  },
  {
   "cell_type": "code",
   "execution_count": 3,
   "metadata": {},
   "outputs": [
    {
     "data": {
      "text/plain": [
       "(92, 140, 3)"
      ]
     },
     "execution_count": 3,
     "metadata": {},
     "output_type": "execute_result"
    }
   ],
   "source": [
    "posters[\"523162\"].shape"
   ]
  },
  {
   "cell_type": "code",
   "execution_count": 57,
   "metadata": {},
   "outputs": [
    {
     "data": {
      "text/html": [
       "<div>\n",
       "<style scoped>\n",
       "    .dataframe tbody tr th:only-of-type {\n",
       "        vertical-align: middle;\n",
       "    }\n",
       "\n",
       "    .dataframe tbody tr th {\n",
       "        vertical-align: top;\n",
       "    }\n",
       "\n",
       "    .dataframe thead th {\n",
       "        text-align: right;\n",
       "    }\n",
       "</style>\n",
       "<table border=\"1\" class=\"dataframe\">\n",
       "  <thead>\n",
       "    <tr style=\"text-align: right;\">\n",
       "      <th></th>\n",
       "      <th>adult</th>\n",
       "      <th>backdrop_path</th>\n",
       "      <th>genre_ids</th>\n",
       "      <th>id</th>\n",
       "      <th>original_language</th>\n",
       "      <th>original_title</th>\n",
       "      <th>overview</th>\n",
       "      <th>popularity</th>\n",
       "      <th>poster_path</th>\n",
       "      <th>release_date</th>\n",
       "      <th>title</th>\n",
       "      <th>video</th>\n",
       "      <th>vote_average</th>\n",
       "      <th>vote_count</th>\n",
       "    </tr>\n",
       "  </thead>\n",
       "  <tbody>\n",
       "    <tr>\n",
       "      <th>0</th>\n",
       "      <td>False</td>\n",
       "      <td>/bOGkgRGdhrBYJSLpXaxhXVstddV.jpg</td>\n",
       "      <td>[12, 28, 14]</td>\n",
       "      <td>299536</td>\n",
       "      <td>en</td>\n",
       "      <td>Avengers: Infinity War</td>\n",
       "      <td>As the Avengers and their allies have continue...</td>\n",
       "      <td>153.811</td>\n",
       "      <td>/7WsyChQLEftFiDOVTGkv3hFpyyt.jpg</td>\n",
       "      <td>2018-04-25</td>\n",
       "      <td>Avengers: Infinity War</td>\n",
       "      <td>False</td>\n",
       "      <td>8.3</td>\n",
       "      <td>12490</td>\n",
       "    </tr>\n",
       "    <tr>\n",
       "      <th>1</th>\n",
       "      <td>False</td>\n",
       "      <td>/5zfVNTrkhMu673zma6qhFzG01ig.jpg</td>\n",
       "      <td>[878]</td>\n",
       "      <td>300668</td>\n",
       "      <td>en</td>\n",
       "      <td>Annihilation</td>\n",
       "      <td>A biologist signs up for a dangerous, secret e...</td>\n",
       "      <td>29.516</td>\n",
       "      <td>/d3qcpfNwbAMCNqWDHzPQsUYiUgS.jpg</td>\n",
       "      <td>2018-02-22</td>\n",
       "      <td>Annihilation</td>\n",
       "      <td>False</td>\n",
       "      <td>6.3</td>\n",
       "      <td>4232</td>\n",
       "    </tr>\n",
       "    <tr>\n",
       "      <th>2</th>\n",
       "      <td>False</td>\n",
       "      <td>/zjG95oDnBcFKMPgBEmmuNVOMC90.jpg</td>\n",
       "      <td>[35, 18]</td>\n",
       "      <td>299782</td>\n",
       "      <td>en</td>\n",
       "      <td>The Other Side of the Wind</td>\n",
       "      <td>Surrounded by fans and skeptics, grizzled dire...</td>\n",
       "      <td>6.820</td>\n",
       "      <td>/kFky1paYEfHxfCYByEc9g7gn6Zk.jpg</td>\n",
       "      <td>2018-11-02</td>\n",
       "      <td>The Other Side of the Wind</td>\n",
       "      <td>False</td>\n",
       "      <td>7.1</td>\n",
       "      <td>55</td>\n",
       "    </tr>\n",
       "    <tr>\n",
       "      <th>3</th>\n",
       "      <td>False</td>\n",
       "      <td>/q9hnJ9SzwcF30seRtXEzLd5l1gw.jpg</td>\n",
       "      <td>[18, 35, 14]</td>\n",
       "      <td>351044</td>\n",
       "      <td>en</td>\n",
       "      <td>Welcome to Marwen</td>\n",
       "      <td>When a devastating attack shatters Mark Hoganc...</td>\n",
       "      <td>61.973</td>\n",
       "      <td>/o45VIAUYDcVCGuzd43l8Sr5Dfti.jpg</td>\n",
       "      <td>2018-12-21</td>\n",
       "      <td>Welcome to Marwen</td>\n",
       "      <td>False</td>\n",
       "      <td>6.6</td>\n",
       "      <td>174</td>\n",
       "    </tr>\n",
       "    <tr>\n",
       "      <th>4</th>\n",
       "      <td>False</td>\n",
       "      <td>/AmO8I38bkHwKhgxPNrd6djBQyPU.jpg</td>\n",
       "      <td>[53, 9648, 27, 14]</td>\n",
       "      <td>361292</td>\n",
       "      <td>en</td>\n",
       "      <td>Suspiria</td>\n",
       "      <td>A darkness swirls at the center of a world-ren...</td>\n",
       "      <td>41.461</td>\n",
       "      <td>/dzWTnkert9EoiPWldWJ15dnfAFl.jpg</td>\n",
       "      <td>2018-10-11</td>\n",
       "      <td>Suspiria</td>\n",
       "      <td>False</td>\n",
       "      <td>7.2</td>\n",
       "      <td>579</td>\n",
       "    </tr>\n",
       "  </tbody>\n",
       "</table>\n",
       "</div>"
      ],
      "text/plain": [
       "   adult                     backdrop_path           genre_ids      id  \\\n",
       "0  False  /bOGkgRGdhrBYJSLpXaxhXVstddV.jpg        [12, 28, 14]  299536   \n",
       "1  False  /5zfVNTrkhMu673zma6qhFzG01ig.jpg               [878]  300668   \n",
       "2  False  /zjG95oDnBcFKMPgBEmmuNVOMC90.jpg            [35, 18]  299782   \n",
       "3  False  /q9hnJ9SzwcF30seRtXEzLd5l1gw.jpg        [18, 35, 14]  351044   \n",
       "4  False  /AmO8I38bkHwKhgxPNrd6djBQyPU.jpg  [53, 9648, 27, 14]  361292   \n",
       "\n",
       "  original_language              original_title  \\\n",
       "0                en      Avengers: Infinity War   \n",
       "1                en                Annihilation   \n",
       "2                en  The Other Side of the Wind   \n",
       "3                en           Welcome to Marwen   \n",
       "4                en                    Suspiria   \n",
       "\n",
       "                                            overview  popularity  \\\n",
       "0  As the Avengers and their allies have continue...     153.811   \n",
       "1  A biologist signs up for a dangerous, secret e...      29.516   \n",
       "2  Surrounded by fans and skeptics, grizzled dire...       6.820   \n",
       "3  When a devastating attack shatters Mark Hoganc...      61.973   \n",
       "4  A darkness swirls at the center of a world-ren...      41.461   \n",
       "\n",
       "                        poster_path release_date                       title  \\\n",
       "0  /7WsyChQLEftFiDOVTGkv3hFpyyt.jpg   2018-04-25      Avengers: Infinity War   \n",
       "1  /d3qcpfNwbAMCNqWDHzPQsUYiUgS.jpg   2018-02-22                Annihilation   \n",
       "2  /kFky1paYEfHxfCYByEc9g7gn6Zk.jpg   2018-11-02  The Other Side of the Wind   \n",
       "3  /o45VIAUYDcVCGuzd43l8Sr5Dfti.jpg   2018-12-21           Welcome to Marwen   \n",
       "4  /dzWTnkert9EoiPWldWJ15dnfAFl.jpg   2018-10-11                    Suspiria   \n",
       "\n",
       "   video  vote_average  vote_count  \n",
       "0  False           8.3       12490  \n",
       "1  False           6.3        4232  \n",
       "2  False           7.1          55  \n",
       "3  False           6.6         174  \n",
       "4  False           7.2         579  "
      ]
     },
     "execution_count": 57,
     "metadata": {},
     "output_type": "execute_result"
    }
   ],
   "source": [
    "movies = pd.read_csv(\"../data/tmdb_api_data.csv\", lineterminator=\"\\n\")\n",
    "movies.head()"
   ]
  },
  {
   "cell_type": "code",
   "execution_count": 58,
   "metadata": {},
   "outputs": [
    {
     "data": {
      "text/plain": [
       "(7353, 15)"
      ]
     },
     "execution_count": 58,
     "metadata": {},
     "output_type": "execute_result"
    }
   ],
   "source": [
    "movies = movies.dropna(subset=[\"id\", \"poster_path\", \"vote_average\"])\n",
    "movies[\"rating\"] = np.round(movies[\"vote_average\"])\n",
    "movies.shape"
   ]
  },
  {
   "cell_type": "code",
   "execution_count": 62,
   "metadata": {},
   "outputs": [],
   "source": [
    "all_ids = [str(i) for i in movies[\"id\"] if str(i) in posters and posters[str(i)].shape == (92, 140, 3)]"
   ]
  },
  {
   "cell_type": "code",
   "execution_count": 63,
   "metadata": {
    "scrolled": true
   },
   "outputs": [
    {
     "data": {
      "text/plain": [
       "-2137"
      ]
     },
     "execution_count": 63,
     "metadata": {},
     "output_type": "execute_result"
    }
   ],
   "source": [
    "len(np.unique(all_ids)) - len(all_ids)"
   ]
  },
  {
   "cell_type": "code",
   "execution_count": 64,
   "metadata": {},
   "outputs": [],
   "source": [
    "ids = np.unique(all_ids)"
   ]
  },
  {
   "cell_type": "code",
   "execution_count": 65,
   "metadata": {
    "scrolled": true
   },
   "outputs": [],
   "source": [
    "X = np.stack([posters[i] for i in ids])\n",
    "\n",
    "movies_by_id = movies.set_index(\"id\")\n",
    "y = np.stack([int(movies_by_id.loc[int(i),\"rating\"].iloc[0]) if type(movies_by_id.loc[int(i),\"rating\"]) \\\n",
    "              == pd.Series else int(movies_by_id.loc[int(i),\"rating\"]) for i in ids])"
   ]
  },
  {
   "cell_type": "code",
   "execution_count": 66,
   "metadata": {},
   "outputs": [
    {
     "data": {
      "text/plain": [
       "(5123, 92, 140, 3)"
      ]
     },
     "execution_count": 66,
     "metadata": {},
     "output_type": "execute_result"
    }
   ],
   "source": [
    "X.shape"
   ]
  },
  {
   "cell_type": "code",
   "execution_count": 67,
   "metadata": {},
   "outputs": [
    {
     "data": {
      "text/plain": [
       "(5123,)"
      ]
     },
     "execution_count": 67,
     "metadata": {},
     "output_type": "execute_result"
    }
   ],
   "source": [
    "y.shape"
   ]
  },
  {
   "cell_type": "code",
   "execution_count": 68,
   "metadata": {},
   "outputs": [],
   "source": [
    "# encode class values as integers\n",
    "encoder = LabelEncoder()\n",
    "encoder.fit(y)\n",
    "encoded_y = encoder.transform(y)\n",
    "# convert integers to dummy variables (i.e. one hot encoded)\n",
    "dummy_y = np_utils.to_categorical(encoded_y)"
   ]
  },
  {
   "cell_type": "code",
   "execution_count": 69,
   "metadata": {},
   "outputs": [],
   "source": [
    "from sklearn.model_selection import train_test_split"
   ]
  },
  {
   "cell_type": "code",
   "execution_count": 70,
   "metadata": {},
   "outputs": [],
   "source": [
    "X_train, X_test, y_train, y_test = train_test_split(X, dummy_y)"
   ]
  },
  {
   "cell_type": "code",
   "execution_count": 71,
   "metadata": {},
   "outputs": [],
   "source": [
    "# Importing all necessary libraries \n",
    "from keras.preprocessing.image import ImageDataGenerator \n",
    "from keras.models import Sequential \n",
    "from keras.layers import Conv2D, MaxPooling2D \n",
    "from keras.layers import Activation, Dropout, Flatten, Dense \n",
    "from keras import backend as K "
   ]
  },
  {
   "cell_type": "code",
   "execution_count": 75,
   "metadata": {},
   "outputs": [],
   "source": [
    "# train_data_dir = 'v_data/train'\n",
    "# validation_data_dir = 'v_data/test'\n",
    "# nb_train_samples =400\n",
    "# nb_validation_samples = 100\n",
    "epochs = 10\n",
    "batch_size = 16\n",
    "img_size = (92, 140)\n",
    "input_shape = img_size + (3,)"
   ]
  },
  {
   "cell_type": "code",
   "execution_count": 80,
   "metadata": {},
   "outputs": [],
   "source": [
    "def get_model():\n",
    "    model = Sequential() \n",
    "    model.add(Conv2D(32, (2, 2), input_shape=input_shape)) \n",
    "    model.add(Activation('relu')) \n",
    "    model.add(MaxPooling2D(pool_size=(2, 2))) \n",
    "\n",
    "    model.add(Conv2D(32, (2, 2))) \n",
    "    model.add(Activation('relu')) \n",
    "    model.add(MaxPooling2D(pool_size=(2, 2))) \n",
    "\n",
    "    model.add(Conv2D(64, (2, 2))) \n",
    "    model.add(Activation('relu')) \n",
    "    model.add(MaxPooling2D(pool_size=(2, 2))) \n",
    "\n",
    "    model.add(Flatten()) \n",
    "    model.add(Dense(64)) \n",
    "    model.add(Activation('relu')) \n",
    "    model.add(Dropout(0.5)) \n",
    "    model.add(Dense(dummy_y.shape[1])) \n",
    "    model.add(Activation('sigmoid'))\n",
    "    \n",
    "    model.compile(loss=\"categorical_crossentropy\", optimizer=\"adam\", metrics=[\"accuracy\"])\n",
    "\n",
    "    return model\n"
   ]
  },
  {
   "cell_type": "code",
   "execution_count": 82,
   "metadata": {},
   "outputs": [],
   "source": [
    "estimator = KerasClassifier(build_fn=get_model, epochs=5, batch_size=5, verbose=0)"
   ]
  },
  {
   "cell_type": "code",
   "execution_count": 83,
   "metadata": {},
   "outputs": [],
   "source": [
    "kfold = KFold(n_splits=10, shuffle=True)"
   ]
  },
  {
   "cell_type": "code",
   "execution_count": 84,
   "metadata": {
    "scrolled": false
   },
   "outputs": [
    {
     "name": "stdout",
     "output_type": "stream",
     "text": [
      "CPU times: user 163 ms, sys: 227 ms, total: 389 ms\n",
      "Wall time: 15min 58s\n"
     ]
    }
   ],
   "source": [
    "%%time\n",
    "results = cross_val_score(estimator, X_train, y_train, cv=kfold, n_jobs=-1)"
   ]
  },
  {
   "cell_type": "code",
   "execution_count": 85,
   "metadata": {},
   "outputs": [
    {
     "name": "stdout",
     "output_type": "stream",
     "text": [
      "Baseline: 64.47% (3.01%)\n"
     ]
    }
   ],
   "source": [
    "print(\"Baseline: %.2f%% (%.2f%%)\" % (results.mean()*100, results.std()*100))"
   ]
  },
  {
   "cell_type": "code",
   "execution_count": 86,
   "metadata": {},
   "outputs": [
    {
     "ename": "AttributeError",
     "evalue": "'KerasClassifier' object has no attribute 'model'",
     "output_type": "error",
     "traceback": [
      "\u001b[0;31m---------------------------------------------------------------------------\u001b[0m",
      "\u001b[0;31mAttributeError\u001b[0m                            Traceback (most recent call last)",
      "\u001b[0;32m<ipython-input-86-687bf9adead9>\u001b[0m in \u001b[0;36m<module>\u001b[0;34m()\u001b[0m\n\u001b[0;32m----> 1\u001b[0;31m \u001b[0mestimator\u001b[0m\u001b[0;34m.\u001b[0m\u001b[0mpredict\u001b[0m\u001b[0;34m(\u001b[0m\u001b[0mX_test\u001b[0m\u001b[0;34m)\u001b[0m\u001b[0;34m\u001b[0m\u001b[0m\n\u001b[0m",
      "\u001b[0;32m/Library/Frameworks/Python.framework/Versions/3.6/lib/python3.6/site-packages/keras/wrappers/scikit_learn.py\u001b[0m in \u001b[0;36mpredict\u001b[0;34m(self, x, **kwargs)\u001b[0m\n\u001b[1;32m    226\u001b[0m         \u001b[0mkwargs\u001b[0m \u001b[0;34m=\u001b[0m \u001b[0mself\u001b[0m\u001b[0;34m.\u001b[0m\u001b[0mfilter_sk_params\u001b[0m\u001b[0;34m(\u001b[0m\u001b[0mSequential\u001b[0m\u001b[0;34m.\u001b[0m\u001b[0mpredict_classes\u001b[0m\u001b[0;34m,\u001b[0m \u001b[0mkwargs\u001b[0m\u001b[0;34m)\u001b[0m\u001b[0;34m\u001b[0m\u001b[0m\n\u001b[1;32m    227\u001b[0m \u001b[0;34m\u001b[0m\u001b[0m\n\u001b[0;32m--> 228\u001b[0;31m         \u001b[0mproba\u001b[0m \u001b[0;34m=\u001b[0m \u001b[0mself\u001b[0m\u001b[0;34m.\u001b[0m\u001b[0mmodel\u001b[0m\u001b[0;34m.\u001b[0m\u001b[0mpredict\u001b[0m\u001b[0;34m(\u001b[0m\u001b[0mx\u001b[0m\u001b[0;34m,\u001b[0m \u001b[0;34m**\u001b[0m\u001b[0mkwargs\u001b[0m\u001b[0;34m)\u001b[0m\u001b[0;34m\u001b[0m\u001b[0m\n\u001b[0m\u001b[1;32m    229\u001b[0m         \u001b[0;32mif\u001b[0m \u001b[0mproba\u001b[0m\u001b[0;34m.\u001b[0m\u001b[0mshape\u001b[0m\u001b[0;34m[\u001b[0m\u001b[0;34m-\u001b[0m\u001b[0;36m1\u001b[0m\u001b[0;34m]\u001b[0m \u001b[0;34m>\u001b[0m \u001b[0;36m1\u001b[0m\u001b[0;34m:\u001b[0m\u001b[0;34m\u001b[0m\u001b[0m\n\u001b[1;32m    230\u001b[0m             \u001b[0mclasses\u001b[0m \u001b[0;34m=\u001b[0m \u001b[0mproba\u001b[0m\u001b[0;34m.\u001b[0m\u001b[0margmax\u001b[0m\u001b[0;34m(\u001b[0m\u001b[0maxis\u001b[0m\u001b[0;34m=\u001b[0m\u001b[0;34m-\u001b[0m\u001b[0;36m1\u001b[0m\u001b[0;34m)\u001b[0m\u001b[0;34m\u001b[0m\u001b[0m\n",
      "\u001b[0;31mAttributeError\u001b[0m: 'KerasClassifier' object has no attribute 'model'"
     ]
    }
   ],
   "source": [
    "estimator.predict(X_test)"
   ]
  }
 ],
 "metadata": {
  "@webio": {
   "lastCommId": null,
   "lastKernelId": null
  },
  "kernelspec": {
   "display_name": "Python 3",
   "language": "python",
   "name": "python3"
  },
  "language_info": {
   "codemirror_mode": {
    "name": "ipython",
    "version": 3
   },
   "file_extension": ".py",
   "mimetype": "text/x-python",
   "name": "python",
   "nbconvert_exporter": "python",
   "pygments_lexer": "ipython3",
   "version": "3.6.5"
  },
  "varInspector": {
   "cols": {
    "lenName": 16,
    "lenType": 16,
    "lenVar": 40
   },
   "kernels_config": {
    "python": {
     "delete_cmd_postfix": "",
     "delete_cmd_prefix": "del ",
     "library": "var_list.py",
     "varRefreshCmd": "print(var_dic_list())"
    },
    "r": {
     "delete_cmd_postfix": ") ",
     "delete_cmd_prefix": "rm(",
     "library": "var_list.r",
     "varRefreshCmd": "cat(var_dic_list()) "
    }
   },
   "types_to_exclude": [
    "module",
    "function",
    "builtin_function_or_method",
    "instance",
    "_Feature"
   ],
   "window_display": false
  }
 },
 "nbformat": 4,
 "nbformat_minor": 4
}
