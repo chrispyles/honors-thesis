{
 "cells": [
  {
   "cell_type": "code",
   "execution_count": 1,
   "metadata": {},
   "outputs": [
    {
     "data": {
      "text/html": [
       "<div>\n",
       "<style scoped>\n",
       "    .dataframe tbody tr th:only-of-type {\n",
       "        vertical-align: middle;\n",
       "    }\n",
       "\n",
       "    .dataframe tbody tr th {\n",
       "        vertical-align: top;\n",
       "    }\n",
       "\n",
       "    .dataframe thead th {\n",
       "        text-align: right;\n",
       "    }\n",
       "</style>\n",
       "<table border=\"1\" class=\"dataframe\">\n",
       "  <thead>\n",
       "    <tr style=\"text-align: right;\">\n",
       "      <th></th>\n",
       "      <th>adult</th>\n",
       "      <th>backdrop_path</th>\n",
       "      <th>id</th>\n",
       "      <th>original_language</th>\n",
       "      <th>original_title</th>\n",
       "      <th>overview</th>\n",
       "      <th>popularity</th>\n",
       "      <th>poster_path</th>\n",
       "      <th>release_date</th>\n",
       "      <th>title</th>\n",
       "      <th>...</th>\n",
       "      <th>Science Fiction</th>\n",
       "      <th>TV Movie</th>\n",
       "      <th>Thriller</th>\n",
       "      <th>War</th>\n",
       "      <th>Western</th>\n",
       "      <th>overview_len</th>\n",
       "      <th>month</th>\n",
       "      <th>day</th>\n",
       "      <th>day_of_week</th>\n",
       "      <th>noisy_month</th>\n",
       "    </tr>\n",
       "  </thead>\n",
       "  <tbody>\n",
       "    <tr>\n",
       "      <th>0</th>\n",
       "      <td>0</td>\n",
       "      <td>/bOGkgRGdhrBYJSLpXaxhXVstddV.jpg</td>\n",
       "      <td>299536</td>\n",
       "      <td>en</td>\n",
       "      <td>Avengers: Infinity War</td>\n",
       "      <td>as the avengers and their allies have continue...</td>\n",
       "      <td>153.811</td>\n",
       "      <td>/7WsyChQLEftFiDOVTGkv3hFpyyt.jpg</td>\n",
       "      <td>2018-04-25</td>\n",
       "      <td>Avengers: Infinity War</td>\n",
       "      <td>...</td>\n",
       "      <td>0</td>\n",
       "      <td>0</td>\n",
       "      <td>0</td>\n",
       "      <td>0</td>\n",
       "      <td>0</td>\n",
       "      <td>490</td>\n",
       "      <td>4</td>\n",
       "      <td>25</td>\n",
       "      <td>Wed</td>\n",
       "      <td>3.834536</td>\n",
       "    </tr>\n",
       "    <tr>\n",
       "      <th>1</th>\n",
       "      <td>0</td>\n",
       "      <td>/5zfVNTrkhMu673zma6qhFzG01ig.jpg</td>\n",
       "      <td>300668</td>\n",
       "      <td>en</td>\n",
       "      <td>Annihilation</td>\n",
       "      <td>a biologist signs up for a dangerous  secret e...</td>\n",
       "      <td>29.516</td>\n",
       "      <td>/d3qcpfNwbAMCNqWDHzPQsUYiUgS.jpg</td>\n",
       "      <td>2018-02-22</td>\n",
       "      <td>Annihilation</td>\n",
       "      <td>...</td>\n",
       "      <td>1</td>\n",
       "      <td>0</td>\n",
       "      <td>0</td>\n",
       "      <td>0</td>\n",
       "      <td>0</td>\n",
       "      <td>116</td>\n",
       "      <td>2</td>\n",
       "      <td>22</td>\n",
       "      <td>Thu</td>\n",
       "      <td>2.108673</td>\n",
       "    </tr>\n",
       "    <tr>\n",
       "      <th>2</th>\n",
       "      <td>0</td>\n",
       "      <td>/zjG95oDnBcFKMPgBEmmuNVOMC90.jpg</td>\n",
       "      <td>299782</td>\n",
       "      <td>en</td>\n",
       "      <td>The Other Side of the Wind</td>\n",
       "      <td>surrounded by fans and skeptics  grizzled dire...</td>\n",
       "      <td>6.820</td>\n",
       "      <td>/kFky1paYEfHxfCYByEc9g7gn6Zk.jpg</td>\n",
       "      <td>2018-11-02</td>\n",
       "      <td>The Other Side of the Wind</td>\n",
       "      <td>...</td>\n",
       "      <td>0</td>\n",
       "      <td>0</td>\n",
       "      <td>0</td>\n",
       "      <td>0</td>\n",
       "      <td>0</td>\n",
       "      <td>188</td>\n",
       "      <td>11</td>\n",
       "      <td>2</td>\n",
       "      <td>Fri</td>\n",
       "      <td>11.172691</td>\n",
       "    </tr>\n",
       "    <tr>\n",
       "      <th>3</th>\n",
       "      <td>0</td>\n",
       "      <td>/q9hnJ9SzwcF30seRtXEzLd5l1gw.jpg</td>\n",
       "      <td>351044</td>\n",
       "      <td>en</td>\n",
       "      <td>Welcome to Marwen</td>\n",
       "      <td>when a devastating attack shatters mark hoganc...</td>\n",
       "      <td>61.973</td>\n",
       "      <td>/o45VIAUYDcVCGuzd43l8Sr5Dfti.jpg</td>\n",
       "      <td>2018-12-21</td>\n",
       "      <td>Welcome to Marwen</td>\n",
       "      <td>...</td>\n",
       "      <td>0</td>\n",
       "      <td>0</td>\n",
       "      <td>0</td>\n",
       "      <td>0</td>\n",
       "      <td>0</td>\n",
       "      <td>413</td>\n",
       "      <td>12</td>\n",
       "      <td>21</td>\n",
       "      <td>Fri</td>\n",
       "      <td>12.084792</td>\n",
       "    </tr>\n",
       "    <tr>\n",
       "      <th>4</th>\n",
       "      <td>0</td>\n",
       "      <td>/AmO8I38bkHwKhgxPNrd6djBQyPU.jpg</td>\n",
       "      <td>361292</td>\n",
       "      <td>en</td>\n",
       "      <td>Suspiria</td>\n",
       "      <td>a darkness swirls at the center of a world ren...</td>\n",
       "      <td>41.461</td>\n",
       "      <td>/dzWTnkert9EoiPWldWJ15dnfAFl.jpg</td>\n",
       "      <td>2018-10-11</td>\n",
       "      <td>Suspiria</td>\n",
       "      <td>...</td>\n",
       "      <td>0</td>\n",
       "      <td>0</td>\n",
       "      <td>1</td>\n",
       "      <td>0</td>\n",
       "      <td>0</td>\n",
       "      <td>242</td>\n",
       "      <td>10</td>\n",
       "      <td>11</td>\n",
       "      <td>Thu</td>\n",
       "      <td>9.890125</td>\n",
       "    </tr>\n",
       "  </tbody>\n",
       "</table>\n",
       "<p>5 rows × 39 columns</p>\n",
       "</div>"
      ],
      "text/plain": [
       "   adult                     backdrop_path      id original_language  \\\n",
       "0      0  /bOGkgRGdhrBYJSLpXaxhXVstddV.jpg  299536                en   \n",
       "1      0  /5zfVNTrkhMu673zma6qhFzG01ig.jpg  300668                en   \n",
       "2      0  /zjG95oDnBcFKMPgBEmmuNVOMC90.jpg  299782                en   \n",
       "3      0  /q9hnJ9SzwcF30seRtXEzLd5l1gw.jpg  351044                en   \n",
       "4      0  /AmO8I38bkHwKhgxPNrd6djBQyPU.jpg  361292                en   \n",
       "\n",
       "               original_title  \\\n",
       "0      Avengers: Infinity War   \n",
       "1                Annihilation   \n",
       "2  The Other Side of the Wind   \n",
       "3           Welcome to Marwen   \n",
       "4                    Suspiria   \n",
       "\n",
       "                                            overview  popularity  \\\n",
       "0  as the avengers and their allies have continue...     153.811   \n",
       "1  a biologist signs up for a dangerous  secret e...      29.516   \n",
       "2  surrounded by fans and skeptics  grizzled dire...       6.820   \n",
       "3  when a devastating attack shatters mark hoganc...      61.973   \n",
       "4  a darkness swirls at the center of a world ren...      41.461   \n",
       "\n",
       "                        poster_path release_date                       title  \\\n",
       "0  /7WsyChQLEftFiDOVTGkv3hFpyyt.jpg   2018-04-25      Avengers: Infinity War   \n",
       "1  /d3qcpfNwbAMCNqWDHzPQsUYiUgS.jpg   2018-02-22                Annihilation   \n",
       "2  /kFky1paYEfHxfCYByEc9g7gn6Zk.jpg   2018-11-02  The Other Side of the Wind   \n",
       "3  /o45VIAUYDcVCGuzd43l8Sr5Dfti.jpg   2018-12-21           Welcome to Marwen   \n",
       "4  /dzWTnkert9EoiPWldWJ15dnfAFl.jpg   2018-10-11                    Suspiria   \n",
       "\n",
       "      ...       Science Fiction  TV Movie  Thriller  War Western  \\\n",
       "0     ...                     0         0         0    0       0   \n",
       "1     ...                     1         0         0    0       0   \n",
       "2     ...                     0         0         0    0       0   \n",
       "3     ...                     0         0         0    0       0   \n",
       "4     ...                     0         0         1    0       0   \n",
       "\n",
       "   overview_len  month  day  day_of_week  noisy_month  \n",
       "0           490      4   25          Wed     3.834536  \n",
       "1           116      2   22          Thu     2.108673  \n",
       "2           188     11    2          Fri    11.172691  \n",
       "3           413     12   21          Fri    12.084792  \n",
       "4           242     10   11          Thu     9.890125  \n",
       "\n",
       "[5 rows x 39 columns]"
      ]
     },
     "execution_count": 1,
     "metadata": {},
     "output_type": "execute_result"
    }
   ],
   "source": [
    "import pandas as pd\n",
    "import numpy as np\n",
    "import matplotlib.pyplot as plt\n",
    "import seaborn as sns\n",
    "from IPython.display import display\n",
    "import datetime as dt\n",
    "import ipywidgets as widgets\n",
    "%matplotlib inline\n",
    "plt.rcParams[\"figure.figsize\"] = (12, 6)\n",
    "\n",
    "movies = pd.read_csv(\"../data/cleaned_movie_data.csv\")\n",
    "movies.head()"
   ]
  },
  {
   "cell_type": "code",
   "execution_count": 2,
   "metadata": {},
   "outputs": [],
   "source": [
    "from sklearn.model_selection import train_test_split"
   ]
  },
  {
   "cell_type": "code",
   "execution_count": 3,
   "metadata": {},
   "outputs": [],
   "source": [
    "# split into training and test sets\n",
    "train, test = train_test_split(movies)"
   ]
  },
  {
   "cell_type": "markdown",
   "metadata": {},
   "source": [
    "### Processing the Data\n",
    "\n",
    "Before we can fit a model, we first need to process the data in the `train` dataframe so that we end up with only numerical feature columns. To this end, we define the helper function `cols` which selects a list of columns out of a dataframe and `process_data` which processes the dataframe and extract the list of features that we want to use. The `process_data` function first drops rows with `nan` values in the `overview_len` column and then one-hot encodes the `day_of_week` variable, before selecting out the desired feature columns `features`. Finally, we also define our loss function `rmse` which computes the root-mean-squared error."
   ]
  },
  {
   "cell_type": "code",
   "execution_count": 4,
   "metadata": {},
   "outputs": [],
   "source": [
    "def process_data(data, features):\n",
    "    \"\"\"\n",
    "    Processes input data for linear regression model, returns feature \n",
    "    matrix `X` and array of actual values `y`\n",
    "    \n",
    "    Args:\n",
    "        data     - dataframe with the data\n",
    "        features - columns of features to choose\n",
    "    \"\"\"\n",
    "    data = data.dropna(subset=[\"overview_len\"])\n",
    "    \n",
    "    data = pd.get_dummies(data,\n",
    "                          prefix = \"wkdy\",\n",
    "                          columns = [\"day_of_week\"],\n",
    "                          drop_first = True\n",
    "                         )\n",
    "        \n",
    "    X = data[features]\n",
    "    y = data[\"vote_average\"]\n",
    "    return X, y\n",
    "\n",
    "def rmse(y, y_hat):\n",
    "    \"\"\"\n",
    "    Compute the root-mean-squared error between actual values `y` \n",
    "    and fitted/predicted values `y_hat`\n",
    "    \n",
    "    Args:\n",
    "        y     - array of actual values\n",
    "        y_hat - array of fitted values\n",
    "    \"\"\"\n",
    "    return np.sqrt(np.mean((y - y_hat)**2))"
   ]
  },
  {
   "cell_type": "markdown",
   "metadata": {},
   "source": [
    "To test our functions above, we process the data in our training and test sets using three random features in `sample_features`."
   ]
  },
  {
   "cell_type": "code",
   "execution_count": 6,
   "metadata": {},
   "outputs": [],
   "source": [
    "sample_features = [\"vote_count\", \"adult\", \"day\"]\n",
    "sample_X_train, sample_y_train = process_data(train, sample_features)\n",
    "sample_X_test, sample_y_test = process_data(test, sample_features)"
   ]
  },
  {
   "cell_type": "markdown",
   "metadata": {},
   "source": [
    "In order to facilitate easy running of the linear regression model, we define the function `run_lin_reg` below which runs the `sklearn` linear regression pipeline. It starts by initializing a new `LinearRegression` instance, then fits the training data and then predicts the training and testing data. If its `verbose` argument is `True`, it prints out the training and testing RMSEs, and it returns the testing RMSE."
   ]
  },
  {
   "cell_type": "code",
   "execution_count": 7,
   "metadata": {},
   "outputs": [
    {
     "name": "stdout",
     "output_type": "stream",
     "text": [
      "Training RMSE: 2.131\n",
      "Testing RMSE: 2.059\n"
     ]
    },
    {
     "name": "stderr",
     "output_type": "stream",
     "text": [
      "/Library/Frameworks/Python.framework/Versions/3.6/lib/python3.6/site-packages/sklearn/linear_model/base.py:485: RuntimeWarning: internal gelsd driver lwork query error, required iwork dimension not returned. This is likely the result of LAPACK bug 0038, fixed in LAPACK 3.2.2 (released July 21, 2010). Falling back to 'gelss' driver.\n",
      "  linalg.lstsq(X, y)\n"
     ]
    },
    {
     "data": {
      "text/plain": [
       "2.0585210347959917"
      ]
     },
     "execution_count": 7,
     "metadata": {},
     "output_type": "execute_result"
    }
   ],
   "source": [
    "def run_lin_reg(X_train, y_train, X_test, y_test, verbose=True):\n",
    "    \"\"\"\n",
    "    Runs linear regression using `X_train`, `y_train` as training\n",
    "    set and `X_test`, `y_test` as test set. Returns test RMSE. If\n",
    "    `verbose`, will print out training and test RMSEs.\n",
    "    \n",
    "    Args:\n",
    "        X_train - dataframe or matrix of feature values (training \n",
    "                  set)\n",
    "        y_train - array of actual values for training set\n",
    "        X_test  - dataframe or matrix of feature values (test set)\n",
    "        y_test  - array of actual values for test set\n",
    "        verbose - boolean to indicate whether to print out results\n",
    "    \"\"\"\n",
    "    lr = lm.LinearRegression()\n",
    "    lr.fit(X_train, y_train)\n",
    "    y_fitted = lr.predict(X_train)\n",
    "    y_pred = lr.predict(X_test)\n",
    "\n",
    "    training_rmse = rmse(y_train, y_fitted)\n",
    "    testing_rmse = rmse(y_test, y_pred)\n",
    "\n",
    "    if verbose:\n",
    "        print(\"Training RMSE: {:.3f}\\nTesting RMSE: {:.3f}\".format(\n",
    "            training_rmse, testing_rmse\n",
    "        ))\n",
    "\n",
    "    return testing_rmse\n",
    "    \n",
    "run_lin_reg(sample_X_train, sample_y_train, sample_X_test, sample_y_test)"
   ]
  },
  {
   "cell_type": "markdown",
   "metadata": {},
   "source": [
    "This is a high RMSE given that the ratings are on a 10 point scale, but these are only sample features, and we will attempt to choose better ones below using $k$-fold cross validation. \n",
    "\n",
    "### 4-Fold Cross Validation\n",
    "\n",
    "To that end, we define the function `run_kfold` which takes in training data and features and runs 4-fold cross validation on the training set. It returns the average cross validation RMSE, which will then be used to select features in the next cell."
   ]
  },
  {
   "cell_type": "code",
   "execution_count": 8,
   "metadata": {},
   "outputs": [
    {
     "data": {
      "text/plain": [
       "2.1329752661561057"
      ]
     },
     "execution_count": 8,
     "metadata": {},
     "output_type": "execute_result"
    }
   ],
   "source": [
    "def run_kfold(train_data, features):\n",
    "    \"\"\"\n",
    "    Runs k-fold cv and returns RMSE\n",
    "    \n",
    "    Args:\n",
    "        train_data - dataframe of matrix, training set\n",
    "        features   - list of features to select from training\n",
    "                     set\n",
    "    \"\"\"\n",
    "    X, y = process_data(train_data, features)\n",
    "    \n",
    "    kf = KFold(n_splits = 4)\n",
    "    cv_rmses = []\n",
    "    for train_idx, valid_idx in kf.split(X):\n",
    "        X_train, X_valid = X.iloc[train_idx], X.iloc[valid_idx]\n",
    "        y_train, y_valid = y.iloc[train_idx], y.iloc[valid_idx]\n",
    "        cv_rmse = run_lin_reg(X_train, y_train, X_valid, y_valid, False)\n",
    "        cv_rmses += [cv_rmse]\n",
    "        \n",
    "    return np.mean(cv_rmses)\n",
    "\n",
    "run_kfold(train, sample_features)"
   ]
  },
  {
   "cell_type": "markdown",
   "metadata": {},
   "source": [
    "To choose features, we implement the function `choose_features`, which runs through a list of lists of features and returns the set of features with the lowest CV RMSE. To test the function, we create another feature set `more_sample_features` to run against `sample_features`."
   ]
  },
  {
   "cell_type": "code",
   "execution_count": 9,
   "metadata": {},
   "outputs": [
    {
     "name": "stderr",
     "output_type": "stream",
     "text": [
      "/Library/Frameworks/Python.framework/Versions/3.6/lib/python3.6/site-packages/ipykernel_launcher.py:7: DeprecationWarning: In future, it will be an error for 'np.bool_' scalars to be interpreted as an index\n",
      "  import sys\n"
     ]
    },
    {
     "name": "stdout",
     "output_type": "stream",
     "text": [
      "['vote_count', 'adult', 'day'] RMSE: 2.13298\n",
      "['vote_count', 'adult', 'Fantasy', 'overview_len'] RMSE: 2.14247\n",
      "`choose_features` chose: ['vote_count', 'adult', 'day']\n",
      "Function chose correct set: True\n"
     ]
    }
   ],
   "source": [
    "more_sample_features = [\"vote_count\", \"adult\", \"Fantasy\", \"overview_len\"]\n",
    "sample_features_rmse = run_kfold(train, sample_features)\n",
    "more_sample_features_rmse = run_kfold(train, more_sample_features)\n",
    "print(\"{} RMSE: {:.5f}\".format(sample_features, sample_features_rmse))\n",
    "print(\"{} RMSE: {:.5f}\".format(more_sample_features, more_sample_features_rmse))\n",
    "\n",
    "better_rmse = (sample_features, more_sample_features)[sample_features_rmse > more_sample_features_rmse]\n",
    "\n",
    "def choose_features(train_data, feature_sets):\n",
    "    \"\"\"\n",
    "    Function to run k-fold CV on a list of sets of features and\n",
    "    return the features with best mean RMSE.\n",
    "    \n",
    "    Args:\n",
    "        train_data   - dataframe of matrix, training set\n",
    "        feature_sets - list of sets of features (nested list)\n",
    "    \"\"\"\n",
    "    best_error, best_features = np.inf, []\n",
    "    for features in feature_sets:\n",
    "        cv_error = run_kfold(train_data, features)\n",
    "        if cv_error < best_error:\n",
    "            best_error = cv_error\n",
    "            best_features = features\n",
    "    \n",
    "    return best_features\n",
    "\n",
    "better_sample_features = choose_features(train, [sample_features, more_sample_features])\n",
    "print(\"`choose_features` chose: {}\".format(better_sample_features))\n",
    "print(\"Function chose correct set: {}\".format(better_sample_features == better_rmse))"
   ]
  },
  {
   "cell_type": "markdown",
   "metadata": {},
   "source": [
    "Now, in order to choose the best features, we import the list of genres to create a list of all possible features `possible_features`."
   ]
  },
  {
   "cell_type": "code",
   "execution_count": 10,
   "metadata": {},
   "outputs": [],
   "source": [
    "genres = pd.read_csv(\"../data/tmdb_genres.csv\")\n",
    "genres[\"id\"] = genres[\"id\"].astype(str)\n",
    "genre_dict = {d[\"id\"] : d[\"name\"] for d in genres.to_dict(orient=\"records\")}\n",
    "possible_features = list(genre_dict.values())\n",
    "possible_features.extend([\n",
    "    \"adult\", \"vote_count\", \"overview_len\", \"month\", \"day\", \"wkdy_Mon\", \"wkdy_Sat\", \"wkdy_Sun\",\n",
    "    \"wkdy_Thu\", \"wkdy_Tue\", \"wkdy_Wed\"\n",
    "])"
   ]
  },
  {
   "cell_type": "markdown",
   "metadata": {},
   "source": [
    "Because running through all of the possible combinations of features would take too long (if we only consider combinations of 15 features, there are 155117520 possibilities), we define a function `stochastic_choose_features` which uses a stochastic algorithm to choose the best set of features. The algorithm is fairly simple:\n",
    "\n",
    "1. Choose a random number of features $n \\in \\{1, 2, ..., x-1, x \\}$, where $x$ is the length of `possible_features` (for now, 30)\n",
    "2. Choose a simple random sample of $n$ features from the set of possible features\n",
    "3. Compare this set with the better set of features in the previous iteration (if iteration 1, a randomly chosen set of features)\n",
    "4. Set `best_features` to the better set of features\n",
    "5. Rinse and repeat until `maxiter` iterations have been done"
   ]
  },
  {
   "cell_type": "code",
   "execution_count": 11,
   "metadata": {},
   "outputs": [
    {
     "name": "stdout",
     "output_type": "stream",
     "text": [
      "Features chosen:  ['TV Movie', 'vote_count', 'Fantasy', 'Horror', 'day', 'Romance', 'month', 'Comedy', 'Thriller', 'wkdy_Mon', 'Crime', 'Drama', 'wkdy_Sat', 'Documentary', 'War', 'Family', 'adult', 'wkdy_Tue']\n",
      "Features KFold CV RMSE:  2.0558763370665973\n"
     ]
    }
   ],
   "source": [
    "def stochastic_choose_features(train_data, features, maxiter=1000):\n",
    "    \"\"\"\n",
    "    Uses a stochastic algorithm to find the best set of features by randomly\n",
    "    selecting the number of features to use in each iteration and then\n",
    "    running KFold CV to determine which feature set is best. Returns the set\n",
    "    of features that had lowest average CV RMSE\n",
    "    \n",
    "    Args:\n",
    "        train_data - dataframe of matrix, training set\n",
    "        features   - list of all possible features to consider\n",
    "        maxiter    - number of iterations to go through before returning best\n",
    "                     features; default = 1000\n",
    "    \"\"\"\n",
    "    n = np.random.choice(range(1, len(features)+1))\n",
    "    best_features = np.random.choice(features, size=n, replace=False)\n",
    "    for _ in range(maxiter):\n",
    "        n = np.random.choice(range(1, len(features)+1))\n",
    "        chosen_features = np.random.choice(features, size=n, replace=False)\n",
    "        best_features = choose_features(train_data, [chosen_features, best_features])\n",
    "        \n",
    "    return list(best_features)\n",
    "\n",
    "stochastic_features = stochastic_choose_features(train, possible_features)\n",
    "print(\"Features chosen: \", stochastic_features)\n",
    "print(\"Features KFold CV RMSE: \", run_kfold(train, stochastic_features))"
   ]
  },
  {
   "cell_type": "markdown",
   "metadata": {},
   "source": [
    "However, the algorithm in the above function takes a while to run since each iteration requires the previous one to complete before the next one can begin, and also because it doesn't take advantage of all of the cores on the computer."
   ]
  },
  {
   "cell_type": "markdown",
   "metadata": {},
   "source": [
    "### Parallelizing Computation\n",
    "\n",
    "In order to make up for the shortcomings of `stochastic_choose_features`, we create a pipeline below using the `ray` package to parallelize the choosing of the best set of features using a similar stochastic algorithm. The only difference here is that we will first initialize all `maxiter` feature sets and then apply a function to each pair of them using tree reduction until there is only one set of features left.\n",
    "\n",
    "To begin this process, we import `ray` below and initialize the workers."
   ]
  },
  {
   "cell_type": "code",
   "execution_count": 12,
   "metadata": {},
   "outputs": [
    {
     "name": "stderr",
     "output_type": "stream",
     "text": [
      "2019-04-30 16:22:39,976\tINFO node.py:469 -- Process STDOUT and STDERR is being redirected to /tmp/ray/session_2019-04-30_16-22-39_2928/logs.\n",
      "2019-04-30 16:22:40,087\tINFO services.py:407 -- Waiting for redis server at 127.0.0.1:29706 to respond...\n",
      "2019-04-30 16:22:40,247\tINFO services.py:407 -- Waiting for redis server at 127.0.0.1:17498 to respond...\n",
      "2019-04-30 16:22:40,251\tINFO services.py:804 -- Starting Redis shard with 3.44 GB max memory.\n",
      "2019-04-30 16:22:40,287\tINFO node.py:483 -- Process STDOUT and STDERR is being redirected to /tmp/ray/session_2019-04-30_16-22-39_2928/logs.\n",
      "2019-04-30 16:22:40,290\tINFO services.py:1427 -- Starting the Plasma object store with 5.15 GB memory using /tmp.\n"
     ]
    }
   ],
   "source": [
    "import ray\n",
    "\n",
    "ray.init(ignore_reinit_error=True);"
   ]
  },
  {
   "cell_type": "markdown",
   "metadata": {},
   "source": [
    "Using the `@ray.remote` decorator, we first define the function that will use the tree reduction algorithm on the list of items. It works by applying the reducer function to pairs of elements in the list until there is only 1 item left, which it returns. The comparator will be the function that chooses which set of features is better given two sets."
   ]
  },
  {
   "cell_type": "code",
   "execution_count": 13,
   "metadata": {},
   "outputs": [],
   "source": [
    "@ray.remote\n",
    "def reduce_iterations(f, train_data, items):\n",
    "    \"\"\"\n",
    "    \n",
    "    \"\"\"\n",
    "    while len(items) > 1:\n",
    "        reduced = [f.remote(train_data, items[2*i], items[2*i+1]) for i in range(len(items)//2)]\n",
    "        items = (reduced, reduced + [items[-1]])[len(items) % 2 == 1]\n",
    "    return items"
   ]
  },
  {
   "cell_type": "markdown",
   "metadata": {},
   "source": [
    "Next, we adapt the `choose_features` function from above to allow it to be used as a `ray` remote function. The new function is called `one_stochastic_iteration` because it is essentially doing the work of a single iteration of our stochastic feature choice algorithm."
   ]
  },
  {
   "cell_type": "code",
   "execution_count": 14,
   "metadata": {},
   "outputs": [],
   "source": [
    "@ray.remote\n",
    "def one_stochastic_iteration(train_data, features_1, features_2):\n",
    "    return list(choose_features(train_data, [features_1, features_2]))"
   ]
  },
  {
   "cell_type": "markdown",
   "metadata": {},
   "source": [
    "Now we define a function to help choose features. This function corresponds to steps 1 and 2 from the algorithm above."
   ]
  },
  {
   "cell_type": "code",
   "execution_count": 15,
   "metadata": {},
   "outputs": [],
   "source": [
    "def choose_random_features(features):\n",
    "    n = np.random.choice(range(1, len(features)+1))\n",
    "    chosen_features = np.random.choice(features, size=n, replace=False)\n",
    "    return list(chosen_features)"
   ]
  },
  {
   "cell_type": "markdown",
   "metadata": {},
   "source": [
    "Finally, we put the entire pipeline into a function `feature_pipeline` which we will be able to reuse later. It creates all `maxiter` feature sets before using the reducer function to apply tree reduction to the list of feature sets. It returns a ray `ObjectID`. We then call the function using the `train` dataframe, the `possible_features` list, and the three functions we defined above."
   ]
  },
  {
   "cell_type": "code",
   "execution_count": 16,
   "metadata": {},
   "outputs": [],
   "source": [
    "def feature_pipeline(one_iteration, chooser, reducer, train_data, features, maxiter=1000):\n",
    "    sets = []\n",
    "    for _ in range(maxiter):\n",
    "        sets += [chooser(features)]\n",
    "    result_id = reducer.remote(one_iteration, train_data, sets)\n",
    "    return result_id\n",
    "\n",
    "features_id = feature_pipeline(\n",
    "    one_stochastic_iteration, \n",
    "    choose_random_features,\n",
    "    reduce_iterations, \n",
    "    train, \n",
    "    possible_features\n",
    ")"
   ]
  },
  {
   "cell_type": "markdown",
   "metadata": {},
   "source": [
    "The function `feature_pipeline`, because of how it is designed, returns an `ObjectID` which points to a list containing another `ObjectID` which points to the actual result. For this reason, we need to call `ray.get` twice in order to extract the list of features."
   ]
  },
  {
   "cell_type": "code",
   "execution_count": 17,
   "metadata": {},
   "outputs": [
    {
     "name": "stdout",
     "output_type": "stream",
     "text": [
      "\u001b[2m\u001b[36m(pid=2981)\u001b[0m /Library/Frameworks/Python.framework/Versions/3.6/lib/python3.6/site-packages/sklearn/linear_model/base.py:485: RuntimeWarning: internal gelsd driver lwork query error, required iwork dimension not returned. This is likely the result of LAPACK bug 0038, fixed in LAPACK 3.2.2 (released July 21, 2010). Falling back to 'gelss' driver.\n",
      "\u001b[2m\u001b[36m(pid=2981)\u001b[0m   linalg.lstsq(X, y)\n",
      "\u001b[2m\u001b[36m(pid=2980)\u001b[0m /Library/Frameworks/Python.framework/Versions/3.6/lib/python3.6/site-packages/sklearn/linear_model/base.py:485: RuntimeWarning: internal gelsd driver lwork query error, required iwork dimension not returned. This is likely the result of LAPACK bug 0038, fixed in LAPACK 3.2.2 (released July 21, 2010). Falling back to 'gelss' driver.\n",
      "\u001b[2m\u001b[36m(pid=2980)\u001b[0m   linalg.lstsq(X, y)\n",
      "\u001b[2m\u001b[36m(pid=2987)\u001b[0m /Library/Frameworks/Python.framework/Versions/3.6/lib/python3.6/site-packages/sklearn/linear_model/base.py:485: RuntimeWarning: internal gelsd driver lwork query error, required iwork dimension not returned. This is likely the result of LAPACK bug 0038, fixed in LAPACK 3.2.2 (released July 21, 2010). Falling back to 'gelss' driver.\n",
      "\u001b[2m\u001b[36m(pid=2987)\u001b[0m   linalg.lstsq(X, y)\n",
      "\u001b[2m\u001b[36m(pid=2984)\u001b[0m /Library/Frameworks/Python.framework/Versions/3.6/lib/python3.6/site-packages/sklearn/linear_model/base.py:485: RuntimeWarning: internal gelsd driver lwork query error, required iwork dimension not returned. This is likely the result of LAPACK bug 0038, fixed in LAPACK 3.2.2 (released July 21, 2010). Falling back to 'gelss' driver.\n",
      "\u001b[2m\u001b[36m(pid=2984)\u001b[0m   linalg.lstsq(X, y)\n",
      "\u001b[2m\u001b[36m(pid=2986)\u001b[0m /Library/Frameworks/Python.framework/Versions/3.6/lib/python3.6/site-packages/sklearn/linear_model/base.py:485: RuntimeWarning: internal gelsd driver lwork query error, required iwork dimension not returned. This is likely the result of LAPACK bug 0038, fixed in LAPACK 3.2.2 (released July 21, 2010). Falling back to 'gelss' driver.\n",
      "\u001b[2m\u001b[36m(pid=2986)\u001b[0m   linalg.lstsq(X, y)\n",
      "\u001b[2m\u001b[36m(pid=2988)\u001b[0m /Library/Frameworks/Python.framework/Versions/3.6/lib/python3.6/site-packages/sklearn/linear_model/base.py:485: RuntimeWarning: internal gelsd driver lwork query error, required iwork dimension not returned. This is likely the result of LAPACK bug 0038, fixed in LAPACK 3.2.2 (released July 21, 2010). Falling back to 'gelss' driver.\n",
      "\u001b[2m\u001b[36m(pid=2988)\u001b[0m   linalg.lstsq(X, y)\n",
      "\u001b[2m\u001b[36m(pid=3055)\u001b[0m /Library/Frameworks/Python.framework/Versions/3.6/lib/python3.6/site-packages/sklearn/linear_model/base.py:485: RuntimeWarning: internal gelsd driver lwork query error, required iwork dimension not returned. This is likely the result of LAPACK bug 0038, fixed in LAPACK 3.2.2 (released July 21, 2010). Falling back to 'gelss' driver.\n",
      "\u001b[2m\u001b[36m(pid=3055)\u001b[0m   linalg.lstsq(X, y)\n",
      "\u001b[2m\u001b[36m(pid=2983)\u001b[0m /Library/Frameworks/Python.framework/Versions/3.6/lib/python3.6/site-packages/sklearn/linear_model/base.py:485: RuntimeWarning: internal gelsd driver lwork query error, required iwork dimension not returned. This is likely the result of LAPACK bug 0038, fixed in LAPACK 3.2.2 (released July 21, 2010). Falling back to 'gelss' driver.\n",
      "\u001b[2m\u001b[36m(pid=2983)\u001b[0m   linalg.lstsq(X, y)\n"
     ]
    },
    {
     "data": {
      "text/plain": [
       "['Action',\n",
       " 'Thriller',\n",
       " 'Documentary',\n",
       " 'Western',\n",
       " 'TV Movie',\n",
       " 'adult',\n",
       " 'Comedy',\n",
       " 'wkdy_Sat',\n",
       " 'day',\n",
       " 'vote_count',\n",
       " 'wkdy_Mon',\n",
       " 'Romance',\n",
       " 'Horror',\n",
       " 'Mystery',\n",
       " 'Drama',\n",
       " 'War']"
      ]
     },
     "execution_count": 17,
     "metadata": {},
     "output_type": "execute_result"
    }
   ],
   "source": [
    "stochastic_features = ray.get(ray.get(features_id))[0]\n",
    "stochastic_features"
   ]
  },
  {
   "cell_type": "markdown",
   "metadata": {},
   "source": [
    "Now, to test the set of features chosen by the `stochastic_choose_features` function, we run the linear regression on the test set and get the testing RMSE."
   ]
  },
  {
   "cell_type": "code",
   "execution_count": 18,
   "metadata": {},
   "outputs": [
    {
     "name": "stdout",
     "output_type": "stream",
     "text": [
      "Training RMSE: 2.039\n",
      "Testing RMSE: 1.936\n"
     ]
    },
    {
     "data": {
      "text/plain": [
       "1.9363291585515696"
      ]
     },
     "execution_count": 18,
     "metadata": {},
     "output_type": "execute_result"
    }
   ],
   "source": [
    "X_train, y_train = process_data(train, stochastic_features)\n",
    "X_test, y_test = process_data(test, stochastic_features)\n",
    "\n",
    "run_lin_reg(X_train, y_train, X_test, y_test)"
   ]
  },
  {
   "cell_type": "markdown",
   "metadata": {},
   "source": [
    "The RMSE is high given that the ratings are on a 10-point scale, so now we revisit feature engineering to see if we can come up with a better model."
   ]
  },
  {
   "cell_type": "markdown",
   "metadata": {},
   "source": [
    "## Feature Engineering II\n",
    "\n",
    "In this section of the notebook, we attempt to build a better model by doing some more EDA and feature engineering.\n",
    "\n",
    "### Words as Features\n",
    "\n",
    "To begin our consideration of new features, we consider the presence of words in plots. Below, we write a function to add a column to a dataframe that indicates whether or not a word is present in that movies overview (`1` for yes, `0` for no)."
   ]
  },
  {
   "cell_type": "code",
   "execution_count": 19,
   "metadata": {
    "scrolled": false
   },
   "outputs": [
    {
     "data": {
      "text/html": [
       "<div>\n",
       "<style scoped>\n",
       "    .dataframe tbody tr th:only-of-type {\n",
       "        vertical-align: middle;\n",
       "    }\n",
       "\n",
       "    .dataframe tbody tr th {\n",
       "        vertical-align: top;\n",
       "    }\n",
       "\n",
       "    .dataframe thead th {\n",
       "        text-align: right;\n",
       "    }\n",
       "</style>\n",
       "<table border=\"1\" class=\"dataframe\">\n",
       "  <thead>\n",
       "    <tr style=\"text-align: right;\">\n",
       "      <th></th>\n",
       "      <th>id</th>\n",
       "      <th>title</th>\n",
       "      <th>overview</th>\n",
       "      <th>genres</th>\n",
       "      <th>release_date</th>\n",
       "      <th>adult</th>\n",
       "      <th>vote_count</th>\n",
       "      <th>vote_average</th>\n",
       "      <th>Action</th>\n",
       "      <th>Adventure</th>\n",
       "      <th>...</th>\n",
       "      <th>Science Fiction</th>\n",
       "      <th>TV Movie</th>\n",
       "      <th>Thriller</th>\n",
       "      <th>War</th>\n",
       "      <th>Western</th>\n",
       "      <th>overview_len</th>\n",
       "      <th>month</th>\n",
       "      <th>day</th>\n",
       "      <th>day_of_week</th>\n",
       "      <th>love</th>\n",
       "    </tr>\n",
       "  </thead>\n",
       "  <tbody>\n",
       "    <tr>\n",
       "      <th>0</th>\n",
       "      <td>299536</td>\n",
       "      <td>Avengers: Infinity War</td>\n",
       "      <td>as the avengers and their allies have continue...</td>\n",
       "      <td>['Adventure', 'Action', 'Fantasy']</td>\n",
       "      <td>2018-04-25</td>\n",
       "      <td>False</td>\n",
       "      <td>12490</td>\n",
       "      <td>8.3</td>\n",
       "      <td>1</td>\n",
       "      <td>1</td>\n",
       "      <td>...</td>\n",
       "      <td>0</td>\n",
       "      <td>0</td>\n",
       "      <td>0</td>\n",
       "      <td>0</td>\n",
       "      <td>0</td>\n",
       "      <td>490.0</td>\n",
       "      <td>4</td>\n",
       "      <td>25</td>\n",
       "      <td>Wed</td>\n",
       "      <td>0</td>\n",
       "    </tr>\n",
       "    <tr>\n",
       "      <th>1</th>\n",
       "      <td>300668</td>\n",
       "      <td>Annihilation</td>\n",
       "      <td>a biologist signs up for a dangerous  secret e...</td>\n",
       "      <td>['Science Fiction']</td>\n",
       "      <td>2018-02-22</td>\n",
       "      <td>False</td>\n",
       "      <td>4232</td>\n",
       "      <td>6.3</td>\n",
       "      <td>0</td>\n",
       "      <td>0</td>\n",
       "      <td>...</td>\n",
       "      <td>1</td>\n",
       "      <td>0</td>\n",
       "      <td>0</td>\n",
       "      <td>0</td>\n",
       "      <td>0</td>\n",
       "      <td>116.0</td>\n",
       "      <td>2</td>\n",
       "      <td>22</td>\n",
       "      <td>Thu</td>\n",
       "      <td>0</td>\n",
       "    </tr>\n",
       "    <tr>\n",
       "      <th>2</th>\n",
       "      <td>299782</td>\n",
       "      <td>The Other Side of the Wind</td>\n",
       "      <td>surrounded by fans and skeptics  grizzled dire...</td>\n",
       "      <td>['Comedy', 'Drama']</td>\n",
       "      <td>2018-11-02</td>\n",
       "      <td>False</td>\n",
       "      <td>55</td>\n",
       "      <td>7.1</td>\n",
       "      <td>0</td>\n",
       "      <td>0</td>\n",
       "      <td>...</td>\n",
       "      <td>0</td>\n",
       "      <td>0</td>\n",
       "      <td>0</td>\n",
       "      <td>0</td>\n",
       "      <td>0</td>\n",
       "      <td>188.0</td>\n",
       "      <td>11</td>\n",
       "      <td>2</td>\n",
       "      <td>Fri</td>\n",
       "      <td>0</td>\n",
       "    </tr>\n",
       "    <tr>\n",
       "      <th>3</th>\n",
       "      <td>351044</td>\n",
       "      <td>Welcome to Marwen</td>\n",
       "      <td>when a devastating attack shatters mark hoganc...</td>\n",
       "      <td>['Drama', 'Comedy', 'Fantasy']</td>\n",
       "      <td>2018-12-21</td>\n",
       "      <td>False</td>\n",
       "      <td>174</td>\n",
       "      <td>6.6</td>\n",
       "      <td>0</td>\n",
       "      <td>0</td>\n",
       "      <td>...</td>\n",
       "      <td>0</td>\n",
       "      <td>0</td>\n",
       "      <td>0</td>\n",
       "      <td>0</td>\n",
       "      <td>0</td>\n",
       "      <td>413.0</td>\n",
       "      <td>12</td>\n",
       "      <td>21</td>\n",
       "      <td>Fri</td>\n",
       "      <td>0</td>\n",
       "    </tr>\n",
       "    <tr>\n",
       "      <th>4</th>\n",
       "      <td>361292</td>\n",
       "      <td>Suspiria</td>\n",
       "      <td>a darkness swirls at the center of a world ren...</td>\n",
       "      <td>['Thriller', 'Mystery', 'Horror', 'Fantasy']</td>\n",
       "      <td>2018-10-11</td>\n",
       "      <td>False</td>\n",
       "      <td>579</td>\n",
       "      <td>7.2</td>\n",
       "      <td>0</td>\n",
       "      <td>0</td>\n",
       "      <td>...</td>\n",
       "      <td>0</td>\n",
       "      <td>0</td>\n",
       "      <td>1</td>\n",
       "      <td>0</td>\n",
       "      <td>0</td>\n",
       "      <td>242.0</td>\n",
       "      <td>10</td>\n",
       "      <td>11</td>\n",
       "      <td>Thu</td>\n",
       "      <td>0</td>\n",
       "    </tr>\n",
       "  </tbody>\n",
       "</table>\n",
       "<p>5 rows × 32 columns</p>\n",
       "</div>"
      ],
      "text/plain": [
       "       id                       title  \\\n",
       "0  299536      Avengers: Infinity War   \n",
       "1  300668                Annihilation   \n",
       "2  299782  The Other Side of the Wind   \n",
       "3  351044           Welcome to Marwen   \n",
       "4  361292                    Suspiria   \n",
       "\n",
       "                                            overview  \\\n",
       "0  as the avengers and their allies have continue...   \n",
       "1  a biologist signs up for a dangerous  secret e...   \n",
       "2  surrounded by fans and skeptics  grizzled dire...   \n",
       "3  when a devastating attack shatters mark hoganc...   \n",
       "4  a darkness swirls at the center of a world ren...   \n",
       "\n",
       "                                         genres release_date  adult  \\\n",
       "0            ['Adventure', 'Action', 'Fantasy']   2018-04-25  False   \n",
       "1                           ['Science Fiction']   2018-02-22  False   \n",
       "2                           ['Comedy', 'Drama']   2018-11-02  False   \n",
       "3                ['Drama', 'Comedy', 'Fantasy']   2018-12-21  False   \n",
       "4  ['Thriller', 'Mystery', 'Horror', 'Fantasy']   2018-10-11  False   \n",
       "\n",
       "   vote_count  vote_average  Action  Adventure  ...  Science Fiction  \\\n",
       "0       12490           8.3       1          1  ...                0   \n",
       "1        4232           6.3       0          0  ...                1   \n",
       "2          55           7.1       0          0  ...                0   \n",
       "3         174           6.6       0          0  ...                0   \n",
       "4         579           7.2       0          0  ...                0   \n",
       "\n",
       "   TV Movie  Thriller  War  Western  overview_len  month  day  day_of_week  \\\n",
       "0         0         0    0        0         490.0      4   25          Wed   \n",
       "1         0         0    0        0         116.0      2   22          Thu   \n",
       "2         0         0    0        0         188.0     11    2          Fri   \n",
       "3         0         0    0        0         413.0     12   21          Fri   \n",
       "4         0         1    0        0         242.0     10   11          Thu   \n",
       "\n",
       "   love  \n",
       "0     0  \n",
       "1     0  \n",
       "2     0  \n",
       "3     0  \n",
       "4     0  \n",
       "\n",
       "[5 rows x 32 columns]"
      ]
     },
     "execution_count": 19,
     "metadata": {},
     "output_type": "execute_result"
    }
   ],
   "source": [
    "def add_word_in_plot(df, words):\n",
    "    \"\"\"\n",
    "    Adds column to dataframe indicating whether or not a word appears in\n",
    "    that movie's overview\n",
    "    \n",
    "    Args:\n",
    "        df    - dataframe to consider, must contain `overview` column\n",
    "        words - list of words to add as columns\n",
    "    \"\"\"\n",
    "    df = df.copy()\n",
    "    df = df.dropna(subset=[\"overview\"])\n",
    "    for word in words:\n",
    "        df[word] = df[\"overview\"].str.contains(word).astype(int)\n",
    "    return df\n",
    "\n",
    "add_word_in_plot(movies, [\"love\"]).head()"
   ]
  },
  {
   "cell_type": "markdown",
   "metadata": {},
   "source": [
    "Recall the `plot_vote_avg_dist_by_word` function from the last notebook which plots overlaid histograms of ratings for movies that do and do not contain the word argument passed to it. We import that function from the `utils.py` file below and create an interactive widget that will plot the distribution for the word you enter into the `Distribution` box."
   ]
  },
  {
   "cell_type": "code",
   "execution_count": 20,
   "metadata": {
    "tags": [
     "hidecode",
     "interactive"
    ]
   },
   "outputs": [
    {
     "data": {
      "application/vnd.jupyter.widget-view+json": {
       "model_id": "7e0682dc85df45c094c579872110d018",
       "version_major": 2,
       "version_minor": 0
      },
      "text/plain": [
       "interactive(children=(Text(value='love', description='Distribution: ', placeholder='Type something'), Output()…"
      ]
     },
     "metadata": {},
     "output_type": "display_data"
    }
   ],
   "source": [
    "from utils import *\n",
    "\n",
    "widgets.interact(\n",
    "    lambda word: plot_vote_avg_dist_by_word(word),\n",
    "    word = widgets.Text(\n",
    "        value = \"love\",\n",
    "        placeholder = \"Type something\",\n",
    "        description = \"Distribution: \"\n",
    "    )\n",
    ");"
   ]
  },
  {
   "cell_type": "markdown",
   "metadata": {},
   "source": [
    "For simplicity, we also choose some words that might make good features and provide a widget with a dropdown to select from those words to see their distributions."
   ]
  },
  {
   "cell_type": "code",
   "execution_count": 21,
   "metadata": {
    "scrolled": false,
    "tags": [
     "hidecode",
     "interactive"
    ]
   },
   "outputs": [
    {
     "data": {
      "application/vnd.jupyter.widget-view+json": {
       "model_id": "e59c0d8f03c14a549eedb4275cdfdeb5",
       "version_major": 2,
       "version_minor": 0
      },
      "text/plain": [
       "interactive(children=(Dropdown(description='Distribution: ', options=('money', 'america', 'earn', 'del', 'ques…"
      ]
     },
     "metadata": {},
     "output_type": "display_data"
    }
   ],
   "source": [
    "potential_word_features = [\n",
    "    \"money\", \"america\", \"earn\", \"del\", \"quest\", \"treasure\", \"hunt\", \"kidnap\", \"must\", \"fear\",\n",
    "    \"his\", \"her\", \"ring\"\n",
    "]\n",
    "\n",
    "widgets.interact(\n",
    "    lambda word: plot_vote_avg_dist_by_word(word),\n",
    "    word = widgets.Dropdown(\n",
    "        options = potential_word_features,\n",
    "        value = \"money\",\n",
    "        description = \"Distribution: \"\n",
    "    )\n",
    ");"
   ]
  },
  {
   "cell_type": "markdown",
   "metadata": {},
   "source": [
    "Based on an examination of the distributions above, we choose 6 words below that might make good features and use `add_word_in_plot` to add these as columns to the `movies` dataframe, storing the result as `movies_with_words`."
   ]
  },
  {
   "cell_type": "code",
   "execution_count": 22,
   "metadata": {},
   "outputs": [
    {
     "data": {
      "text/html": [
       "<div>\n",
       "<style scoped>\n",
       "    .dataframe tbody tr th:only-of-type {\n",
       "        vertical-align: middle;\n",
       "    }\n",
       "\n",
       "    .dataframe tbody tr th {\n",
       "        vertical-align: top;\n",
       "    }\n",
       "\n",
       "    .dataframe thead th {\n",
       "        text-align: right;\n",
       "    }\n",
       "</style>\n",
       "<table border=\"1\" class=\"dataframe\">\n",
       "  <thead>\n",
       "    <tr style=\"text-align: right;\">\n",
       "      <th></th>\n",
       "      <th>id</th>\n",
       "      <th>title</th>\n",
       "      <th>overview</th>\n",
       "      <th>genres</th>\n",
       "      <th>release_date</th>\n",
       "      <th>adult</th>\n",
       "      <th>vote_count</th>\n",
       "      <th>vote_average</th>\n",
       "      <th>Action</th>\n",
       "      <th>Adventure</th>\n",
       "      <th>...</th>\n",
       "      <th>overview_len</th>\n",
       "      <th>month</th>\n",
       "      <th>day</th>\n",
       "      <th>day_of_week</th>\n",
       "      <th>money</th>\n",
       "      <th>hunt</th>\n",
       "      <th>treasure</th>\n",
       "      <th>del</th>\n",
       "      <th>fear</th>\n",
       "      <th>ring</th>\n",
       "    </tr>\n",
       "  </thead>\n",
       "  <tbody>\n",
       "    <tr>\n",
       "      <th>0</th>\n",
       "      <td>299536</td>\n",
       "      <td>Avengers: Infinity War</td>\n",
       "      <td>as the avengers and their allies have continue...</td>\n",
       "      <td>['Adventure', 'Action', 'Fantasy']</td>\n",
       "      <td>2018-04-25</td>\n",
       "      <td>False</td>\n",
       "      <td>12490</td>\n",
       "      <td>8.3</td>\n",
       "      <td>1</td>\n",
       "      <td>1</td>\n",
       "      <td>...</td>\n",
       "      <td>490.0</td>\n",
       "      <td>4</td>\n",
       "      <td>25</td>\n",
       "      <td>Wed</td>\n",
       "      <td>0</td>\n",
       "      <td>0</td>\n",
       "      <td>0</td>\n",
       "      <td>0</td>\n",
       "      <td>0</td>\n",
       "      <td>0</td>\n",
       "    </tr>\n",
       "    <tr>\n",
       "      <th>1</th>\n",
       "      <td>300668</td>\n",
       "      <td>Annihilation</td>\n",
       "      <td>a biologist signs up for a dangerous  secret e...</td>\n",
       "      <td>['Science Fiction']</td>\n",
       "      <td>2018-02-22</td>\n",
       "      <td>False</td>\n",
       "      <td>4232</td>\n",
       "      <td>6.3</td>\n",
       "      <td>0</td>\n",
       "      <td>0</td>\n",
       "      <td>...</td>\n",
       "      <td>116.0</td>\n",
       "      <td>2</td>\n",
       "      <td>22</td>\n",
       "      <td>Thu</td>\n",
       "      <td>0</td>\n",
       "      <td>0</td>\n",
       "      <td>0</td>\n",
       "      <td>0</td>\n",
       "      <td>0</td>\n",
       "      <td>0</td>\n",
       "    </tr>\n",
       "    <tr>\n",
       "      <th>2</th>\n",
       "      <td>299782</td>\n",
       "      <td>The Other Side of the Wind</td>\n",
       "      <td>surrounded by fans and skeptics  grizzled dire...</td>\n",
       "      <td>['Comedy', 'Drama']</td>\n",
       "      <td>2018-11-02</td>\n",
       "      <td>False</td>\n",
       "      <td>55</td>\n",
       "      <td>7.1</td>\n",
       "      <td>0</td>\n",
       "      <td>0</td>\n",
       "      <td>...</td>\n",
       "      <td>188.0</td>\n",
       "      <td>11</td>\n",
       "      <td>2</td>\n",
       "      <td>Fri</td>\n",
       "      <td>0</td>\n",
       "      <td>0</td>\n",
       "      <td>0</td>\n",
       "      <td>0</td>\n",
       "      <td>0</td>\n",
       "      <td>0</td>\n",
       "    </tr>\n",
       "    <tr>\n",
       "      <th>3</th>\n",
       "      <td>351044</td>\n",
       "      <td>Welcome to Marwen</td>\n",
       "      <td>when a devastating attack shatters mark hoganc...</td>\n",
       "      <td>['Drama', 'Comedy', 'Fantasy']</td>\n",
       "      <td>2018-12-21</td>\n",
       "      <td>False</td>\n",
       "      <td>174</td>\n",
       "      <td>6.6</td>\n",
       "      <td>0</td>\n",
       "      <td>0</td>\n",
       "      <td>...</td>\n",
       "      <td>413.0</td>\n",
       "      <td>12</td>\n",
       "      <td>21</td>\n",
       "      <td>Fri</td>\n",
       "      <td>0</td>\n",
       "      <td>0</td>\n",
       "      <td>0</td>\n",
       "      <td>0</td>\n",
       "      <td>0</td>\n",
       "      <td>0</td>\n",
       "    </tr>\n",
       "    <tr>\n",
       "      <th>4</th>\n",
       "      <td>361292</td>\n",
       "      <td>Suspiria</td>\n",
       "      <td>a darkness swirls at the center of a world ren...</td>\n",
       "      <td>['Thriller', 'Mystery', 'Horror', 'Fantasy']</td>\n",
       "      <td>2018-10-11</td>\n",
       "      <td>False</td>\n",
       "      <td>579</td>\n",
       "      <td>7.2</td>\n",
       "      <td>0</td>\n",
       "      <td>0</td>\n",
       "      <td>...</td>\n",
       "      <td>242.0</td>\n",
       "      <td>10</td>\n",
       "      <td>11</td>\n",
       "      <td>Thu</td>\n",
       "      <td>0</td>\n",
       "      <td>0</td>\n",
       "      <td>0</td>\n",
       "      <td>0</td>\n",
       "      <td>0</td>\n",
       "      <td>0</td>\n",
       "    </tr>\n",
       "  </tbody>\n",
       "</table>\n",
       "<p>5 rows × 37 columns</p>\n",
       "</div>"
      ],
      "text/plain": [
       "       id                       title  \\\n",
       "0  299536      Avengers: Infinity War   \n",
       "1  300668                Annihilation   \n",
       "2  299782  The Other Side of the Wind   \n",
       "3  351044           Welcome to Marwen   \n",
       "4  361292                    Suspiria   \n",
       "\n",
       "                                            overview  \\\n",
       "0  as the avengers and their allies have continue...   \n",
       "1  a biologist signs up for a dangerous  secret e...   \n",
       "2  surrounded by fans and skeptics  grizzled dire...   \n",
       "3  when a devastating attack shatters mark hoganc...   \n",
       "4  a darkness swirls at the center of a world ren...   \n",
       "\n",
       "                                         genres release_date  adult  \\\n",
       "0            ['Adventure', 'Action', 'Fantasy']   2018-04-25  False   \n",
       "1                           ['Science Fiction']   2018-02-22  False   \n",
       "2                           ['Comedy', 'Drama']   2018-11-02  False   \n",
       "3                ['Drama', 'Comedy', 'Fantasy']   2018-12-21  False   \n",
       "4  ['Thriller', 'Mystery', 'Horror', 'Fantasy']   2018-10-11  False   \n",
       "\n",
       "   vote_count  vote_average  Action  Adventure  ...  overview_len  month  day  \\\n",
       "0       12490           8.3       1          1  ...         490.0      4   25   \n",
       "1        4232           6.3       0          0  ...         116.0      2   22   \n",
       "2          55           7.1       0          0  ...         188.0     11    2   \n",
       "3         174           6.6       0          0  ...         413.0     12   21   \n",
       "4         579           7.2       0          0  ...         242.0     10   11   \n",
       "\n",
       "   day_of_week  money  hunt  treasure  del  fear  ring  \n",
       "0          Wed      0     0         0    0     0     0  \n",
       "1          Thu      0     0         0    0     0     0  \n",
       "2          Fri      0     0         0    0     0     0  \n",
       "3          Fri      0     0         0    0     0     0  \n",
       "4          Thu      0     0         0    0     0     0  \n",
       "\n",
       "[5 rows x 37 columns]"
      ]
     },
     "execution_count": 22,
     "metadata": {},
     "output_type": "execute_result"
    }
   ],
   "source": [
    "good_word_features = [\"money\", \"hunt\", \"treasure\", \"del\", \"fear\", \"ring\"]\n",
    "\n",
    "movies_with_words = add_word_in_plot(movies, good_word_features)\n",
    "movies_with_words.head()"
   ]
  },
  {
   "cell_type": "markdown",
   "metadata": {},
   "source": [
    "### Testing with Word Features\n",
    "\n",
    "We now use sklearn's `train_test_split` function to create a train-test split of `movies_with_words` and concatenate the list of possible features with the list `good_word_features` to rerun the `stochastic_choose_features` function below."
   ]
  },
  {
   "cell_type": "code",
   "execution_count": 23,
   "metadata": {},
   "outputs": [],
   "source": [
    "train, test = train_test_split(movies_with_words)"
   ]
  },
  {
   "cell_type": "code",
   "execution_count": 24,
   "metadata": {},
   "outputs": [
    {
     "name": "stdout",
     "output_type": "stream",
     "text": [
      "Features chosen:  ['Western', 'TV Movie', 'Action', 'Thriller', 'Family', 'Documentary', 'wkdy_Sat', 'Romance', 'Animation', 'day', 'History', 'Crime', 'wkdy_Tue', 'Music', 'War', 'money', 'Science Fiction', 'Drama', 'Fantasy', 'Comedy', 'vote_count', 'Horror', 'adult']\n",
      "Features KFold CV RMSE:  2.0297106088066164\n"
     ]
    }
   ],
   "source": [
    "possible_features += good_word_features\n",
    "stochastic_features = feature_pipeline(\n",
    "    one_stochastic_iteration, \n",
    "    choose_random_features,\n",
    "    reduce_iterations, \n",
    "    train, \n",
    "    possible_features\n",
    ")\n",
    "stochastic_features = ray.get(ray.get(stochastic_features))[0]\n",
    "print(\"Features chosen: \", stochastic_features)\n",
    "print(\"Features KFold CV RMSE: \", run_kfold(train, stochastic_features))"
   ]
  },
  {
   "cell_type": "markdown",
   "metadata": {},
   "source": [
    "To test our newly chosen features, we process the `train` and `test` dataframes and run the predictor with `run_lin_reg`."
   ]
  },
  {
   "cell_type": "code",
   "execution_count": 25,
   "metadata": {},
   "outputs": [
    {
     "name": "stdout",
     "output_type": "stream",
     "text": [
      "Training RMSE: 2.010\n",
      "Testing RMSE: 1.993\n"
     ]
    },
    {
     "data": {
      "text/plain": [
       "1.9925003177477458"
      ]
     },
     "execution_count": 25,
     "metadata": {},
     "output_type": "execute_result"
    }
   ],
   "source": [
    "X_train, y_train = process_data(train, stochastic_features)\n",
    "X_test, y_test = process_data(test, stochastic_features)\n",
    "\n",
    "run_lin_reg(X_train, y_train, X_test, y_test)"
   ]
  },
  {
   "cell_type": "markdown",
   "metadata": {},
   "source": [
    "## L2 Regularization\n",
    "\n",
    "For the last portion of this notebook, we want to see if using Ridge Regression (L2 Regularization) will help improve the accuracy of the predictor. We begin by using `lm.RidgeCV` in conjunction with the train and test sets we just created to check the chosen value of $\\alpha$ and its RMSE."
   ]
  },
  {
   "cell_type": "code",
   "execution_count": 28,
   "metadata": {},
   "outputs": [
    {
     "name": "stdout",
     "output_type": "stream",
     "text": [
      "alpha: 0.100\n"
     ]
    }
   ],
   "source": [
    "kf = KFold(n_splits = 5)\n",
    "ridge = lm.RidgeCV(alphas = [0.0001, 0.001, 0.01, 0.1, 1, 10, 100, 1000, 10000], cv = kf, normalize=True)\n",
    "ridge.fit(X_train, y_train)\n",
    "print(\"alpha: {:.3f}\".format(ridge.alpha_))"
   ]
  },
  {
   "cell_type": "code",
   "execution_count": 29,
   "metadata": {},
   "outputs": [
    {
     "data": {
      "text/plain": [
       "2.011302981035286"
      ]
     },
     "execution_count": 29,
     "metadata": {},
     "output_type": "execute_result"
    }
   ],
   "source": [
    "rmse(y_train, ridge.predict(X_train))"
   ]
  },
  {
   "cell_type": "markdown",
   "metadata": {},
   "source": [
    "### Hyperparameter Search\n",
    "\n",
    "Because `sklearn.linear_model.RidgeCV` will choose the best hyperparameter $\\alpha$ for us, we define a function below which uses a gradient descent algorithm and `RidgeCV` to choose the value of $\\alpha$. The function `find_alpha` below uses the algorithm to find the optimal $\\alpha$; it runs until the absolute difference between the two values of $\\alpha$ being considered is less than `tol`."
   ]
  },
  {
   "cell_type": "code",
   "execution_count": 34,
   "metadata": {},
   "outputs": [],
   "source": [
    "def find_alpha(X_train, y_train, tol=1e-8, verbose=True):\n",
    "    alpha1, alpha2 = 0.1, 1\n",
    "    kf = KFold(n_splits = 5)\n",
    "    while abs(alpha1 - alpha2) > tol:\n",
    "        ridge = lm.RidgeCV(alphas = [alpha1, alpha2], cv = kf, normalize=True)\n",
    "        ridge.fit(X_train, y_train)\n",
    "        if ridge.alpha_ == alpha1:\n",
    "            alpha2 = alpha1 + 0.5 * (alpha2 - alpha1)\n",
    "        else:\n",
    "            alpha1 = alpha2 + 0.5 * (alpha1 - alpha2)\n",
    "    if verbose:\n",
    "        print(\"alpha: {:.5f}\".format(alpha1))\n",
    "    return alpha1, rmse(y_train, ridge.predict(X_train))"
   ]
  },
  {
   "cell_type": "code",
   "execution_count": 35,
   "metadata": {},
   "outputs": [
    {
     "name": "stdout",
     "output_type": "stream",
     "text": [
      "alpha: 0.14686\n"
     ]
    },
    {
     "data": {
      "text/plain": [
       "(0.14685733318328856, 2.012139794493347)"
      ]
     },
     "execution_count": 35,
     "metadata": {},
     "output_type": "execute_result"
    }
   ],
   "source": [
    "find_alpha(X_train, y_train)"
   ]
  },
  {
   "cell_type": "markdown",
   "metadata": {},
   "source": [
    "## Conclusions\n",
    "\n",
    "Despite all of the feature engineering that we've done, we can't get an RMSE lower than around 2 (40% error). This doesn't bode well for the success of the predictor. In later analyses, I will attempt to bring in other factors that don't come by default from the TMDb API."
   ]
  }
 ],
 "metadata": {
  "@webio": {
   "lastCommId": null,
   "lastKernelId": null
  },
  "kernelspec": {
   "display_name": "Python 3",
   "language": "python",
   "name": "python3"
  },
  "language_info": {
   "codemirror_mode": {
    "name": "ipython",
    "version": 3
   },
   "file_extension": ".py",
   "mimetype": "text/x-python",
   "name": "python",
   "nbconvert_exporter": "python",
   "pygments_lexer": "ipython3",
   "version": "3.6.5"
  },
  "notify_time": "5",
  "varInspector": {
   "cols": {
    "lenName": 16,
    "lenType": 16,
    "lenVar": 40
   },
   "kernels_config": {
    "python": {
     "delete_cmd_postfix": "",
     "delete_cmd_prefix": "del ",
     "library": "var_list.py",
     "varRefreshCmd": "print(var_dic_list())"
    },
    "r": {
     "delete_cmd_postfix": ") ",
     "delete_cmd_prefix": "rm(",
     "library": "var_list.r",
     "varRefreshCmd": "cat(var_dic_list()) "
    }
   },
   "types_to_exclude": [
    "module",
    "function",
    "builtin_function_or_method",
    "instance",
    "_Feature"
   ],
   "window_display": false
  }
 },
 "nbformat": 4,
 "nbformat_minor": 2
}
