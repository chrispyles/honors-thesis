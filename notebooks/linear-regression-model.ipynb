{
 "cells": [
  {
   "cell_type": "code",
   "execution_count": 15,
   "metadata": {},
   "outputs": [
    {
     "data": {
      "text/html": [
       "<div>\n",
       "<style scoped>\n",
       "    .dataframe tbody tr th:only-of-type {\n",
       "        vertical-align: middle;\n",
       "    }\n",
       "\n",
       "    .dataframe tbody tr th {\n",
       "        vertical-align: top;\n",
       "    }\n",
       "\n",
       "    .dataframe thead th {\n",
       "        text-align: right;\n",
       "    }\n",
       "</style>\n",
       "<table border=\"1\" class=\"dataframe\">\n",
       "  <thead>\n",
       "    <tr style=\"text-align: right;\">\n",
       "      <th></th>\n",
       "      <th>adult</th>\n",
       "      <th>backdrop_path</th>\n",
       "      <th>id</th>\n",
       "      <th>original_language</th>\n",
       "      <th>original_title</th>\n",
       "      <th>overview</th>\n",
       "      <th>popularity</th>\n",
       "      <th>poster_path</th>\n",
       "      <th>release_date</th>\n",
       "      <th>title</th>\n",
       "      <th>...</th>\n",
       "      <th>music</th>\n",
       "      <th>which</th>\n",
       "      <th>soon</th>\n",
       "      <th>know</th>\n",
       "      <th>them</th>\n",
       "      <th>wing</th>\n",
       "      <th>comedy</th>\n",
       "      <th>form</th>\n",
       "      <th>test</th>\n",
       "      <th>mall</th>\n",
       "    </tr>\n",
       "  </thead>\n",
       "  <tbody>\n",
       "    <tr>\n",
       "      <th>0</th>\n",
       "      <td>0</td>\n",
       "      <td>/bOGkgRGdhrBYJSLpXaxhXVstddV.jpg</td>\n",
       "      <td>299536</td>\n",
       "      <td>en</td>\n",
       "      <td>Avengers: Infinity War</td>\n",
       "      <td>as the avengers and their allies have continue...</td>\n",
       "      <td>153.811</td>\n",
       "      <td>/7WsyChQLEftFiDOVTGkv3hFpyyt.jpg</td>\n",
       "      <td>2018-04-25</td>\n",
       "      <td>Avengers: Infinity War</td>\n",
       "      <td>...</td>\n",
       "      <td>0</td>\n",
       "      <td>0</td>\n",
       "      <td>0</td>\n",
       "      <td>0</td>\n",
       "      <td>1</td>\n",
       "      <td>0</td>\n",
       "      <td>0</td>\n",
       "      <td>0</td>\n",
       "      <td>0</td>\n",
       "      <td>0</td>\n",
       "    </tr>\n",
       "    <tr>\n",
       "      <th>1</th>\n",
       "      <td>0</td>\n",
       "      <td>/5zfVNTrkhMu673zma6qhFzG01ig.jpg</td>\n",
       "      <td>300668</td>\n",
       "      <td>en</td>\n",
       "      <td>Annihilation</td>\n",
       "      <td>a biologist signs up for a dangerous  secret e...</td>\n",
       "      <td>29.516</td>\n",
       "      <td>/d3qcpfNwbAMCNqWDHzPQsUYiUgS.jpg</td>\n",
       "      <td>2018-02-22</td>\n",
       "      <td>Annihilation</td>\n",
       "      <td>...</td>\n",
       "      <td>0</td>\n",
       "      <td>0</td>\n",
       "      <td>0</td>\n",
       "      <td>0</td>\n",
       "      <td>0</td>\n",
       "      <td>0</td>\n",
       "      <td>0</td>\n",
       "      <td>0</td>\n",
       "      <td>0</td>\n",
       "      <td>0</td>\n",
       "    </tr>\n",
       "    <tr>\n",
       "      <th>2</th>\n",
       "      <td>0</td>\n",
       "      <td>/zjG95oDnBcFKMPgBEmmuNVOMC90.jpg</td>\n",
       "      <td>299782</td>\n",
       "      <td>en</td>\n",
       "      <td>The Other Side of the Wind</td>\n",
       "      <td>surrounded by fans and skeptics  grizzled dire...</td>\n",
       "      <td>6.820</td>\n",
       "      <td>/kFky1paYEfHxfCYByEc9g7gn6Zk.jpg</td>\n",
       "      <td>2018-11-02</td>\n",
       "      <td>The Other Side of the Wind</td>\n",
       "      <td>...</td>\n",
       "      <td>0</td>\n",
       "      <td>0</td>\n",
       "      <td>0</td>\n",
       "      <td>0</td>\n",
       "      <td>0</td>\n",
       "      <td>0</td>\n",
       "      <td>0</td>\n",
       "      <td>0</td>\n",
       "      <td>0</td>\n",
       "      <td>0</td>\n",
       "    </tr>\n",
       "    <tr>\n",
       "      <th>3</th>\n",
       "      <td>0</td>\n",
       "      <td>/q9hnJ9SzwcF30seRtXEzLd5l1gw.jpg</td>\n",
       "      <td>351044</td>\n",
       "      <td>en</td>\n",
       "      <td>Welcome to Marwen</td>\n",
       "      <td>when a devastating attack shatters mark hoganc...</td>\n",
       "      <td>61.973</td>\n",
       "      <td>/o45VIAUYDcVCGuzd43l8Sr5Dfti.jpg</td>\n",
       "      <td>2018-12-21</td>\n",
       "      <td>Welcome to Marwen</td>\n",
       "      <td>...</td>\n",
       "      <td>0</td>\n",
       "      <td>0</td>\n",
       "      <td>0</td>\n",
       "      <td>1</td>\n",
       "      <td>0</td>\n",
       "      <td>0</td>\n",
       "      <td>0</td>\n",
       "      <td>0</td>\n",
       "      <td>1</td>\n",
       "      <td>0</td>\n",
       "    </tr>\n",
       "    <tr>\n",
       "      <th>4</th>\n",
       "      <td>0</td>\n",
       "      <td>/AmO8I38bkHwKhgxPNrd6djBQyPU.jpg</td>\n",
       "      <td>361292</td>\n",
       "      <td>en</td>\n",
       "      <td>Suspiria</td>\n",
       "      <td>a darkness swirls at the center of a world ren...</td>\n",
       "      <td>41.461</td>\n",
       "      <td>/dzWTnkert9EoiPWldWJ15dnfAFl.jpg</td>\n",
       "      <td>2018-10-11</td>\n",
       "      <td>Suspiria</td>\n",
       "      <td>...</td>\n",
       "      <td>0</td>\n",
       "      <td>0</td>\n",
       "      <td>0</td>\n",
       "      <td>0</td>\n",
       "      <td>0</td>\n",
       "      <td>0</td>\n",
       "      <td>0</td>\n",
       "      <td>0</td>\n",
       "      <td>0</td>\n",
       "      <td>0</td>\n",
       "    </tr>\n",
       "  </tbody>\n",
       "</table>\n",
       "<p>5 rows × 149 columns</p>\n",
       "</div>"
      ],
      "text/plain": [
       "   adult                     backdrop_path      id original_language  \\\n",
       "0      0  /bOGkgRGdhrBYJSLpXaxhXVstddV.jpg  299536                en   \n",
       "1      0  /5zfVNTrkhMu673zma6qhFzG01ig.jpg  300668                en   \n",
       "2      0  /zjG95oDnBcFKMPgBEmmuNVOMC90.jpg  299782                en   \n",
       "3      0  /q9hnJ9SzwcF30seRtXEzLd5l1gw.jpg  351044                en   \n",
       "4      0  /AmO8I38bkHwKhgxPNrd6djBQyPU.jpg  361292                en   \n",
       "\n",
       "               original_title  \\\n",
       "0      Avengers: Infinity War   \n",
       "1                Annihilation   \n",
       "2  The Other Side of the Wind   \n",
       "3           Welcome to Marwen   \n",
       "4                    Suspiria   \n",
       "\n",
       "                                            overview  popularity  \\\n",
       "0  as the avengers and their allies have continue...     153.811   \n",
       "1  a biologist signs up for a dangerous  secret e...      29.516   \n",
       "2  surrounded by fans and skeptics  grizzled dire...       6.820   \n",
       "3  when a devastating attack shatters mark hoganc...      61.973   \n",
       "4  a darkness swirls at the center of a world ren...      41.461   \n",
       "\n",
       "                        poster_path release_date                       title  \\\n",
       "0  /7WsyChQLEftFiDOVTGkv3hFpyyt.jpg   2018-04-25      Avengers: Infinity War   \n",
       "1  /d3qcpfNwbAMCNqWDHzPQsUYiUgS.jpg   2018-02-22                Annihilation   \n",
       "2  /kFky1paYEfHxfCYByEc9g7gn6Zk.jpg   2018-11-02  The Other Side of the Wind   \n",
       "3  /o45VIAUYDcVCGuzd43l8Sr5Dfti.jpg   2018-12-21           Welcome to Marwen   \n",
       "4  /dzWTnkert9EoiPWldWJ15dnfAFl.jpg   2018-10-11                    Suspiria   \n",
       "\n",
       "   ...  music  which  soon  know them  wing  comedy  form  test  mall  \n",
       "0  ...      0      0     0     0    1     0       0     0     0     0  \n",
       "1  ...      0      0     0     0    0     0       0     0     0     0  \n",
       "2  ...      0      0     0     0    0     0       0     0     0     0  \n",
       "3  ...      0      0     0     1    0     0       0     0     1     0  \n",
       "4  ...      0      0     0     0    0     0       0     0     0     0  \n",
       "\n",
       "[5 rows x 149 columns]"
      ]
     },
     "execution_count": 15,
     "metadata": {},
     "output_type": "execute_result"
    }
   ],
   "source": [
    "import pandas as pd\n",
    "import numpy as np\n",
    "import matplotlib.pyplot as plt\n",
    "import seaborn as sns\n",
    "from IPython.display import display\n",
    "import datetime as dt\n",
    "import ipywidgets as widgets\n",
    "%matplotlib inline\n",
    "plt.rcParams[\"figure.figsize\"] = (12, 6)\n",
    "import warnings\n",
    "warnings.simplefilter(\"ignore\")\n",
    "\n",
    "movies = pd.read_csv(\"../data/movies_with_words.csv\")\n",
    "movies.head()"
   ]
  },
  {
   "cell_type": "code",
   "execution_count": 16,
   "metadata": {},
   "outputs": [],
   "source": [
    "from sklearn.model_selection import train_test_split"
   ]
  },
  {
   "cell_type": "code",
   "execution_count": 17,
   "metadata": {},
   "outputs": [],
   "source": [
    "# split into training and test sets\n",
    "train, test = train_test_split(movies)"
   ]
  },
  {
   "cell_type": "markdown",
   "metadata": {},
   "source": [
    "### Processing the Data\n",
    "\n",
    "Before we can fit a model, we first need to process the data in the `train` dataframe so that we end up with only numerical feature columns. To this end, we define the helper function `cols` which selects a list of columns out of a dataframe and `process_data` which processes the dataframe and extract the list of features that we want to use. The `process_data` function first drops rows with `nan` values in the `overview_len` column and then one-hot encodes the `day_of_week` variable, before selecting out the desired feature columns `features`. Finally, we also define our loss function `rmse` which computes the root-mean-squared error."
   ]
  },
  {
   "cell_type": "code",
   "execution_count": 18,
   "metadata": {},
   "outputs": [],
   "source": [
    "def process_data(data, features):\n",
    "    \"\"\"\n",
    "    Processes input data for linear regression model, returns feature \n",
    "    matrix `X` and array of actual values `y`\n",
    "    \n",
    "    Args:\n",
    "        data     - dataframe with the data\n",
    "        features - columns of features to choose\n",
    "    \"\"\"\n",
    "    data = data.dropna(subset=[\"overview_len\"])\n",
    "    \n",
    "    data = pd.get_dummies(data,\n",
    "                          prefix = \"wkdy\",\n",
    "                          columns = [\"day_of_week\"],\n",
    "                          drop_first = True\n",
    "                         )\n",
    "        \n",
    "    X = data[features]\n",
    "    y = data[\"rating\"]\n",
    "    return X, y"
   ]
  },
  {
   "cell_type": "markdown",
   "metadata": {},
   "source": [
    "To test our functions above, we process the data in our training and test sets using three random features in `sample_features`."
   ]
  },
  {
   "cell_type": "code",
   "execution_count": 19,
   "metadata": {},
   "outputs": [],
   "source": [
    "features = ['adult', 'popularity', 'vote_count',\n",
    "       'Action', 'Adventure', 'Animation', 'Comedy',\n",
    "       'Crime', 'Documentary', 'Drama', 'Family', 'Fantasy', 'History',\n",
    "       'Horror', 'Music', 'Mystery', 'Romance', 'Science Fiction',\n",
    "       'TV Movie', 'Thriller', 'War', 'Western', 'overview_len', 'month',\n",
    "       'day', 'wkdy_Sun', 'wkdy_Mon', 'wkdy_Tue', 'wkdy_Wed', 'wkdy_Thu', 'wkdy_Sat', \n",
    "       'this', 'after', 'known','side', 'killer', 'business', 'seem', 'follows', 'become', 'house',\n",
    "       'meets', 'aunt', 'each', 'making', 'place', 'only', 'foot',\n",
    "       'perform', 'lore', 'give', 'found', 'front', 'women', 'ours',\n",
    "       'behind', 'kill', 'attempt', 'disco', 'mysterious', 'king', 'less',\n",
    "       'turn', 'begin', 'years', 'range', 'discover', 'through', 'take',\n",
    "       'group', 'film', 'gain', 'great', 'trip', 'care', 'couple', 'even',\n",
    "       'party', 'cove', 'down', 'dire', 'story', 'father', 'disc',\n",
    "       'under', 'ller', 'busi', 'direct', 'light', 'does', 'dangerous',\n",
    "       'break', 'evil', 'host', 'survive', 'meet', 'realize', 'murder',\n",
    "       'college', 'documentary', 'self', 'super', 'across', 'cover',\n",
    "       'rough', 'cross', 'hard', 'brother', 'childhood', 'small',\n",
    "       'director', 'feat', 'danger', 'dang', 'between', 'mean',\n",
    "       'christmas', 'year', 'press', 'ross', 'dark', 'follow', 'document',\n",
    "       'first', 'brea', 'anger', 'strange', 'hunt', 'secret', 'takes',\n",
    "       'fall', 'music', 'which', 'soon', 'know', 'them', 'wing', 'comedy',\n",
    "       'form', 'test', 'mall']"
   ]
  },
  {
   "cell_type": "code",
   "execution_count": 20,
   "metadata": {},
   "outputs": [],
   "source": [
    "X_train, y_train = process_data(train, features)\n",
    "X_test, y_test = process_data(test, features)"
   ]
  },
  {
   "cell_type": "markdown",
   "metadata": {},
   "source": [
    "use RMSE as a metric, since it measures closeness not just 0-1 accuracy"
   ]
  },
  {
   "cell_type": "code",
   "execution_count": 21,
   "metadata": {},
   "outputs": [],
   "source": [
    "def rmse(y, y_hat):\n",
    "    return np.sqrt(np.mean((y - y_hat)**2))"
   ]
  },
  {
   "cell_type": "markdown",
   "metadata": {},
   "source": [
    "also mae"
   ]
  },
  {
   "cell_type": "code",
   "execution_count": 22,
   "metadata": {},
   "outputs": [],
   "source": [
    "def mae(y, y_hat):\n",
    "    return np.mean(np.abs(y - y_hat))"
   ]
  },
  {
   "cell_type": "code",
   "execution_count": 23,
   "metadata": {},
   "outputs": [],
   "source": [
    "from sklearn.feature_selection import SelectKBest, chi2, f_classif, mutual_info_classif"
   ]
  },
  {
   "cell_type": "code",
   "execution_count": 24,
   "metadata": {},
   "outputs": [],
   "source": [
    "from sklearn.linear_model import RidgeClassifier\n",
    "from sklearn.svm import SVC\n",
    "from sklearn.neighbors import KNeighborsClassifier\n",
    "from sklearn.tree import DecisionTreeClassifier"
   ]
  },
  {
   "cell_type": "code",
   "execution_count": 25,
   "metadata": {},
   "outputs": [],
   "source": [
    "def select_features(selector):\n",
    "    if selector is None:\n",
    "        return X_train.columns\n",
    "    return X_train.columns[SelectKBest(selector).fit(X_train, y_train).get_support()]"
   ]
  },
  {
   "cell_type": "code",
   "execution_count": 26,
   "metadata": {},
   "outputs": [],
   "source": [
    "def hparam_search(model, X, y, error_fn=mae, **hparams):\n",
    "    cv = GridSearchCV(model, hparams, n_jobs=-1)\n",
    "    cv.fit(X, y)\n",
    "    return cv.best_estimator_, error_fn(cv.best_estimator_.predict(X), y_train)"
   ]
  },
  {
   "cell_type": "code",
   "execution_count": 27,
   "metadata": {},
   "outputs": [],
   "source": [
    "def run_feature_selection_and_tuning(model, selector, error_fn=mae, **hparams):\n",
    "    X = X_train[select_features(selector)]\n",
    "    return hparam_search(model, X, y_train, error_fn=error_fn, **hparams)"
   ]
  },
  {
   "cell_type": "code",
   "execution_count": 14,
   "metadata": {},
   "outputs": [
    {
     "ename": "NameError",
     "evalue": "name 'GridSearchCV' is not defined",
     "output_type": "error",
     "traceback": [
      "\u001b[0;31m---------------------------------------------------------------------------\u001b[0m",
      "\u001b[0;31mNameError\u001b[0m                                 Traceback (most recent call last)",
      "\u001b[0;32m<ipython-input-14-acd5a9ddc147>\u001b[0m in \u001b[0;36m<module>\u001b[0;34m()\u001b[0m\n\u001b[1;32m      3\u001b[0m         \u001b[0mRidgeClassifier\u001b[0m\u001b[0;34m(\u001b[0m\u001b[0;34m)\u001b[0m\u001b[0;34m,\u001b[0m\u001b[0;34m\u001b[0m\u001b[0m\n\u001b[1;32m      4\u001b[0m         \u001b[0ms\u001b[0m\u001b[0;34m,\u001b[0m\u001b[0;34m\u001b[0m\u001b[0m\n\u001b[0;32m----> 5\u001b[0;31m         \u001b[0malpha\u001b[0m\u001b[0;34m=\u001b[0m\u001b[0mnp\u001b[0m\u001b[0;34m.\u001b[0m\u001b[0mappend\u001b[0m\u001b[0;34m(\u001b[0m\u001b[0;36m0\u001b[0m\u001b[0;34m,\u001b[0m \u001b[0;36m10\u001b[0m\u001b[0;34m**\u001b[0m\u001b[0mnp\u001b[0m\u001b[0;34m.\u001b[0m\u001b[0marange\u001b[0m\u001b[0;34m(\u001b[0m\u001b[0;34m-\u001b[0m\u001b[0;36m20\u001b[0m\u001b[0;34m,\u001b[0m \u001b[0;36m3\u001b[0m\u001b[0;34m,\u001b[0m \u001b[0mdtype\u001b[0m\u001b[0;34m=\u001b[0m\u001b[0mfloat\u001b[0m\u001b[0;34m)\u001b[0m\u001b[0;34m)\u001b[0m\u001b[0;34m\u001b[0m\u001b[0m\n\u001b[0m\u001b[1;32m      6\u001b[0m     ))\n",
      "\u001b[0;32m<ipython-input-13-92964a96eafc>\u001b[0m in \u001b[0;36mrun_feature_selection_and_tuning\u001b[0;34m(model, selector, error_fn, **hparams)\u001b[0m\n\u001b[1;32m      1\u001b[0m \u001b[0;32mdef\u001b[0m \u001b[0mrun_feature_selection_and_tuning\u001b[0m\u001b[0;34m(\u001b[0m\u001b[0mmodel\u001b[0m\u001b[0;34m,\u001b[0m \u001b[0mselector\u001b[0m\u001b[0;34m,\u001b[0m \u001b[0merror_fn\u001b[0m\u001b[0;34m=\u001b[0m\u001b[0mmae\u001b[0m\u001b[0;34m,\u001b[0m \u001b[0;34m**\u001b[0m\u001b[0mhparams\u001b[0m\u001b[0;34m)\u001b[0m\u001b[0;34m:\u001b[0m\u001b[0;34m\u001b[0m\u001b[0m\n\u001b[1;32m      2\u001b[0m     \u001b[0mX\u001b[0m \u001b[0;34m=\u001b[0m \u001b[0mX_train\u001b[0m\u001b[0;34m[\u001b[0m\u001b[0mselect_features\u001b[0m\u001b[0;34m(\u001b[0m\u001b[0mselector\u001b[0m\u001b[0;34m)\u001b[0m\u001b[0;34m]\u001b[0m\u001b[0;34m\u001b[0m\u001b[0m\n\u001b[0;32m----> 3\u001b[0;31m     \u001b[0;32mreturn\u001b[0m \u001b[0mhparam_search\u001b[0m\u001b[0;34m(\u001b[0m\u001b[0mmodel\u001b[0m\u001b[0;34m,\u001b[0m \u001b[0mX\u001b[0m\u001b[0;34m,\u001b[0m \u001b[0my_train\u001b[0m\u001b[0;34m,\u001b[0m \u001b[0merror_fn\u001b[0m\u001b[0;34m=\u001b[0m\u001b[0merror_fn\u001b[0m\u001b[0;34m,\u001b[0m \u001b[0;34m**\u001b[0m\u001b[0mhparams\u001b[0m\u001b[0;34m)\u001b[0m\u001b[0;34m\u001b[0m\u001b[0m\n\u001b[0m",
      "\u001b[0;32m<ipython-input-12-7a341b9b07f6>\u001b[0m in \u001b[0;36mhparam_search\u001b[0;34m(model, X, y, error_fn, **hparams)\u001b[0m\n\u001b[1;32m      1\u001b[0m \u001b[0;32mdef\u001b[0m \u001b[0mhparam_search\u001b[0m\u001b[0;34m(\u001b[0m\u001b[0mmodel\u001b[0m\u001b[0;34m,\u001b[0m \u001b[0mX\u001b[0m\u001b[0;34m,\u001b[0m \u001b[0my\u001b[0m\u001b[0;34m,\u001b[0m \u001b[0merror_fn\u001b[0m\u001b[0;34m=\u001b[0m\u001b[0mmae\u001b[0m\u001b[0;34m,\u001b[0m \u001b[0;34m**\u001b[0m\u001b[0mhparams\u001b[0m\u001b[0;34m)\u001b[0m\u001b[0;34m:\u001b[0m\u001b[0;34m\u001b[0m\u001b[0m\n\u001b[0;32m----> 2\u001b[0;31m     \u001b[0mcv\u001b[0m \u001b[0;34m=\u001b[0m \u001b[0mGridSearchCV\u001b[0m\u001b[0;34m(\u001b[0m\u001b[0mmodel\u001b[0m\u001b[0;34m,\u001b[0m \u001b[0mhparams\u001b[0m\u001b[0;34m,\u001b[0m \u001b[0mn_jobs\u001b[0m\u001b[0;34m=\u001b[0m\u001b[0;34m-\u001b[0m\u001b[0;36m1\u001b[0m\u001b[0;34m)\u001b[0m\u001b[0;34m\u001b[0m\u001b[0m\n\u001b[0m\u001b[1;32m      3\u001b[0m     \u001b[0mcv\u001b[0m\u001b[0;34m.\u001b[0m\u001b[0mfit\u001b[0m\u001b[0;34m(\u001b[0m\u001b[0mX\u001b[0m\u001b[0;34m,\u001b[0m \u001b[0my\u001b[0m\u001b[0;34m)\u001b[0m\u001b[0;34m\u001b[0m\u001b[0m\n\u001b[1;32m      4\u001b[0m     \u001b[0;32mreturn\u001b[0m \u001b[0mcv\u001b[0m\u001b[0;34m.\u001b[0m\u001b[0mbest_estimator_\u001b[0m\u001b[0;34m,\u001b[0m \u001b[0merror_fn\u001b[0m\u001b[0;34m(\u001b[0m\u001b[0mcv\u001b[0m\u001b[0;34m.\u001b[0m\u001b[0mbest_estimator_\u001b[0m\u001b[0;34m.\u001b[0m\u001b[0mpredict\u001b[0m\u001b[0;34m(\u001b[0m\u001b[0mX\u001b[0m\u001b[0;34m)\u001b[0m\u001b[0;34m,\u001b[0m \u001b[0my_train\u001b[0m\u001b[0;34m)\u001b[0m\u001b[0;34m\u001b[0m\u001b[0m\n",
      "\u001b[0;31mNameError\u001b[0m: name 'GridSearchCV' is not defined"
     ]
    }
   ],
   "source": [
    "for s in [None, chi2, f_classif, lambda X, y: mutual_info_classif(X, y, random_state=42)]:\n",
    "    print(run_feature_selection_and_tuning(\n",
    "        RidgeClassifier(), \n",
    "        s,\n",
    "        alpha=np.append(0, 10**np.arange(-20, 3, dtype=float))\n",
    "    ))"
   ]
  },
  {
   "cell_type": "code",
   "execution_count": 126,
   "metadata": {},
   "outputs": [
    {
     "name": "stdout",
     "output_type": "stream",
     "text": [
      "(SVC(C=100.0, cache_size=200, class_weight=None, coef0=0.0,\n",
      "  decision_function_shape='ovr', degree=3, gamma='auto_deprecated',\n",
      "  kernel='rbf', max_iter=-1, probability=False, random_state=42,\n",
      "  shrinking=True, tol=0.001, verbose=False), 0.0)\n",
      "(SVC(C=10.0, cache_size=200, class_weight=None, coef0=0.0,\n",
      "  decision_function_shape='ovr', degree=3, gamma='auto_deprecated',\n",
      "  kernel='rbf', max_iter=-1, probability=False, random_state=42,\n",
      "  shrinking=True, tol=0.001, verbose=False), 0.0)\n",
      "(SVC(C=100.0, cache_size=200, class_weight=None, coef0=0.0,\n",
      "  decision_function_shape='ovr', degree=3, gamma='auto_deprecated',\n",
      "  kernel='rbf', max_iter=-1, probability=False, random_state=42,\n",
      "  shrinking=True, tol=0.001, verbose=False), 1.1599783080260304)\n",
      "(SVC(C=10.0, cache_size=200, class_weight=None, coef0=0.0,\n",
      "  decision_function_shape='ovr', degree=3, gamma='auto_deprecated',\n",
      "  kernel='rbf', max_iter=-1, probability=False, random_state=42,\n",
      "  shrinking=True, tol=0.001, verbose=False), 0.0)\n"
     ]
    }
   ],
   "source": [
    "for s in [None, chi2, f_classif, lambda X, y: mutual_info_classif(X, y, random_state=42)]:\n",
    "    print(run_feature_selection_and_tuning(\n",
    "        SVC(random_state=42), \n",
    "        s,\n",
    "        C=10**np.arange(-9, 3, dtype=float)\n",
    "    ))"
   ]
  },
  {
   "cell_type": "code",
   "execution_count": 122,
   "metadata": {},
   "outputs": [
    {
     "name": "stdout",
     "output_type": "stream",
     "text": [
      "(DecisionTreeClassifier(class_weight=None, criterion='gini', max_depth=None,\n",
      "            max_features=None, max_leaf_nodes=None,\n",
      "            min_impurity_decrease=0.0, min_impurity_split=None,\n",
      "            min_samples_leaf=1, min_samples_split=2,\n",
      "            min_weight_fraction_leaf=0.0, presort=False, random_state=42,\n",
      "            splitter='best'), 0.0)\n",
      "(DecisionTreeClassifier(class_weight=None, criterion='gini', max_depth=None,\n",
      "            max_features=None, max_leaf_nodes=None,\n",
      "            min_impurity_decrease=0.0, min_impurity_split=None,\n",
      "            min_samples_leaf=1, min_samples_split=2,\n",
      "            min_weight_fraction_leaf=0.0, presort=False, random_state=42,\n",
      "            splitter='best'), 0.0)\n",
      "(DecisionTreeClassifier(class_weight=None, criterion='gini', max_depth=None,\n",
      "            max_features=None, max_leaf_nodes=None,\n",
      "            min_impurity_decrease=0.0, min_impurity_split=None,\n",
      "            min_samples_leaf=1, min_samples_split=2,\n",
      "            min_weight_fraction_leaf=0.0, presort=False, random_state=42,\n",
      "            splitter='best'), 0.279826464208243)\n",
      "(DecisionTreeClassifier(class_weight=None, criterion='gini', max_depth=None,\n",
      "            max_features=None, max_leaf_nodes=None,\n",
      "            min_impurity_decrease=0.0, min_impurity_split=None,\n",
      "            min_samples_leaf=1, min_samples_split=2,\n",
      "            min_weight_fraction_leaf=0.0, presort=False, random_state=42,\n",
      "            splitter='best'), 0.0)\n"
     ]
    }
   ],
   "source": [
    "for s in [None, chi2, f_classif, lambda X, y: mutual_info_classif(X, y, random_state=42)]:\n",
    "    print(run_feature_selection_and_tuning(\n",
    "        DecisionTreeClassifier(random_state=42), \n",
    "        s\n",
    "    ))"
   ]
  },
  {
   "cell_type": "code",
   "execution_count": 130,
   "metadata": {},
   "outputs": [
    {
     "name": "stdout",
     "output_type": "stream",
     "text": [
      "(KNeighborsClassifier(algorithm='auto', leaf_size=30, metric='minkowski',\n",
      "           metric_params=None, n_jobs=None, n_neighbors=1, p=2,\n",
      "           weights='uniform'), 0.0)\n",
      "(KNeighborsClassifier(algorithm='auto', leaf_size=30, metric='minkowski',\n",
      "           metric_params=None, n_jobs=None, n_neighbors=1, p=2,\n",
      "           weights='uniform'), 0.0)\n",
      "(KNeighborsClassifier(algorithm='auto', leaf_size=30, metric='minkowski',\n",
      "           metric_params=None, n_jobs=None, n_neighbors=1, p=2,\n",
      "           weights='uniform'), 0.32483731019522777)\n",
      "(KNeighborsClassifier(algorithm='auto', leaf_size=30, metric='minkowski',\n",
      "           metric_params=None, n_jobs=None, n_neighbors=1, p=2,\n",
      "           weights='uniform'), 0.0)\n"
     ]
    }
   ],
   "source": [
    "for s in [None, chi2, f_classif, lambda X, y: mutual_info_classif(X, y, random_state=42)]:\n",
    "    print(run_feature_selection_and_tuning(\n",
    "        KNeighborsClassifier(), \n",
    "        s,\n",
    "        n_neighbors=np.arange(1, 20, 2)\n",
    "    ))"
   ]
  },
  {
   "cell_type": "code",
   "execution_count": 159,
   "metadata": {},
   "outputs": [],
   "source": [
    "test_errors = {}\n",
    "\n",
    "def get_test_errors(model, selector):\n",
    "    model_name = repr(model).split(\"(\")[0]\n",
    "    if selector is None:\n",
    "        selector_name = \"None\"\n",
    "    else:\n",
    "        selector_name = repr(selector).split(\" \")[1]\n",
    "        if selector_name == \"<lambda>\":\n",
    "            selector_name = \"mutual_info_classif\"\n",
    "        \n",
    "    if model_name not in test_errors:\n",
    "        test_errors[model_name] = {}\n",
    "    if selector_name not in test_errors[model_name]:\n",
    "        test_errors[model_name][selector_name] = {}\n",
    "    \n",
    "    X = X_train[select_features(selector)]\n",
    "    model.fit(X, y_train)\n",
    "    pred = model.predict(X_test[select_features(selector)])\n",
    "    test_errors[model_name][selector_name][\"MAE\"] = mae(y_test, pred)\n",
    "    test_errors[model_name][selector_name][\"RMSE\"] = rmse(y_test, pred)"
   ]
  },
  {
   "cell_type": "code",
   "execution_count": 160,
   "metadata": {},
   "outputs": [],
   "source": [
    "for model in [RidgeClassifier(alpha=0), SVC(random_state=42, C=100), \n",
    "              DecisionTreeClassifier(random_state=42), KNeighborsClassifier(n_neighbors=1)]:\n",
    "    for s in [None, chi2, f_classif, lambda X, y: mutual_info_classif(X, y, random_state=42)]:\n",
    "        get_test_errors(model, s)"
   ]
  },
  {
   "cell_type": "code",
   "execution_count": 161,
   "metadata": {},
   "outputs": [
    {
     "data": {
      "text/html": [
       "<div>\n",
       "<style scoped>\n",
       "    .dataframe tbody tr th:only-of-type {\n",
       "        vertical-align: middle;\n",
       "    }\n",
       "\n",
       "    .dataframe tbody tr th {\n",
       "        vertical-align: top;\n",
       "    }\n",
       "\n",
       "    .dataframe thead th {\n",
       "        text-align: right;\n",
       "    }\n",
       "</style>\n",
       "<table border=\"1\" class=\"dataframe\">\n",
       "  <thead>\n",
       "    <tr style=\"text-align: right;\">\n",
       "      <th></th>\n",
       "      <th>DecisionTreeClassifier</th>\n",
       "      <th>KNeighborsClassifier</th>\n",
       "      <th>RidgeClassifier</th>\n",
       "      <th>SVC</th>\n",
       "    </tr>\n",
       "  </thead>\n",
       "  <tbody>\n",
       "    <tr>\n",
       "      <th>None</th>\n",
       "      <td>{'MAE': 0.9560975609756097, 'RMSE': 1.94309283...</td>\n",
       "      <td>{'MAE': 1.078048780487805, 'RMSE': 1.945183754...</td>\n",
       "      <td>{'MAE': 1.4601626016260163, 'RMSE': 2.14438195...</td>\n",
       "      <td>{'MAE': 0.9577235772357724, 'RMSE': 1.80288837...</td>\n",
       "    </tr>\n",
       "    <tr>\n",
       "      <th>chi2</th>\n",
       "      <td>{'MAE': 1.0178861788617886, 'RMSE': 2.01377370...</td>\n",
       "      <td>{'MAE': 1.0796747967479674, 'RMSE': 1.96638416...</td>\n",
       "      <td>{'MAE': 1.3626016260162601, 'RMSE': 1.98449272...</td>\n",
       "      <td>{'MAE': 0.9056910569105691, 'RMSE': 1.76460226...</td>\n",
       "    </tr>\n",
       "    <tr>\n",
       "      <th>f_classif</th>\n",
       "      <td>{'MAE': 1.1447154471544716, 'RMSE': 2.15270674...</td>\n",
       "      <td>{'MAE': 1.1869918699186992, 'RMSE': 2.20420883...</td>\n",
       "      <td>{'MAE': 1.3853658536585365, 'RMSE': 2.03385972...</td>\n",
       "      <td>{'MAE': 1.4357723577235773, 'RMSE': 2.15836433...</td>\n",
       "    </tr>\n",
       "    <tr>\n",
       "      <th>mutual_info_classif</th>\n",
       "      <td>{'MAE': 1.0308943089430895, 'RMSE': 1.96886331...</td>\n",
       "      <td>{'MAE': 1.0861788617886179, 'RMSE': 1.96803727...</td>\n",
       "      <td>{'MAE': 1.469918699186992, 'RMSE': 2.046611317...</td>\n",
       "      <td>{'MAE': 0.8715447154471545, 'RMSE': 1.72499558...</td>\n",
       "    </tr>\n",
       "  </tbody>\n",
       "</table>\n",
       "</div>"
      ],
      "text/plain": [
       "                                                DecisionTreeClassifier  \\\n",
       "None                 {'MAE': 0.9560975609756097, 'RMSE': 1.94309283...   \n",
       "chi2                 {'MAE': 1.0178861788617886, 'RMSE': 2.01377370...   \n",
       "f_classif            {'MAE': 1.1447154471544716, 'RMSE': 2.15270674...   \n",
       "mutual_info_classif  {'MAE': 1.0308943089430895, 'RMSE': 1.96886331...   \n",
       "\n",
       "                                                  KNeighborsClassifier  \\\n",
       "None                 {'MAE': 1.078048780487805, 'RMSE': 1.945183754...   \n",
       "chi2                 {'MAE': 1.0796747967479674, 'RMSE': 1.96638416...   \n",
       "f_classif            {'MAE': 1.1869918699186992, 'RMSE': 2.20420883...   \n",
       "mutual_info_classif  {'MAE': 1.0861788617886179, 'RMSE': 1.96803727...   \n",
       "\n",
       "                                                       RidgeClassifier  \\\n",
       "None                 {'MAE': 1.4601626016260163, 'RMSE': 2.14438195...   \n",
       "chi2                 {'MAE': 1.3626016260162601, 'RMSE': 1.98449272...   \n",
       "f_classif            {'MAE': 1.3853658536585365, 'RMSE': 2.03385972...   \n",
       "mutual_info_classif  {'MAE': 1.469918699186992, 'RMSE': 2.046611317...   \n",
       "\n",
       "                                                                   SVC  \n",
       "None                 {'MAE': 0.9577235772357724, 'RMSE': 1.80288837...  \n",
       "chi2                 {'MAE': 0.9056910569105691, 'RMSE': 1.76460226...  \n",
       "f_classif            {'MAE': 1.4357723577235773, 'RMSE': 2.15836433...  \n",
       "mutual_info_classif  {'MAE': 0.8715447154471545, 'RMSE': 1.72499558...  "
      ]
     },
     "execution_count": 161,
     "metadata": {},
     "output_type": "execute_result"
    }
   ],
   "source": [
    "pd.DataFrame(test_errors)"
   ]
  },
  {
   "cell_type": "markdown",
   "metadata": {},
   "source": [
    "SVC with mutual_info_classif performs best"
   ]
  },
  {
   "cell_type": "code",
   "execution_count": 163,
   "metadata": {},
   "outputs": [
    {
     "data": {
      "text/plain": [
       "{'MAE': 0.8715447154471545, 'RMSE': 1.724995581471895}"
      ]
     },
     "execution_count": 163,
     "metadata": {},
     "output_type": "execute_result"
    }
   ],
   "source": [
    "test_errors[\"SVC\"][\"mutual_info_classif\"]"
   ]
  },
  {
   "cell_type": "code",
   "execution_count": 165,
   "metadata": {},
   "outputs": [],
   "source": [
    "for m in test_errors:\n",
    "    for s in test_errors[m]:\n",
    "        for e in test_errors[m][s]:\n",
    "            test_errors[m][s][e] = np.round(test_errors[m][s][e], 5)"
   ]
  },
  {
   "cell_type": "code",
   "execution_count": 166,
   "metadata": {},
   "outputs": [
    {
     "data": {
      "text/plain": [
       "{'DecisionTreeClassifier': {'None': {'MAE': 0.9561, 'RMSE': 1.94309},\n",
       "  'chi2': {'MAE': 1.01789, 'RMSE': 2.01377},\n",
       "  'f_classif': {'MAE': 1.14472, 'RMSE': 2.15271},\n",
       "  'mutual_info_classif': {'MAE': 1.03089, 'RMSE': 1.96886}},\n",
       " 'KNeighborsClassifier': {'None': {'MAE': 1.07805, 'RMSE': 1.94518},\n",
       "  'chi2': {'MAE': 1.07967, 'RMSE': 1.96638},\n",
       "  'f_classif': {'MAE': 1.18699, 'RMSE': 2.20421},\n",
       "  'mutual_info_classif': {'MAE': 1.08618, 'RMSE': 1.96804}},\n",
       " 'RidgeClassifier': {'None': {'MAE': 1.46016, 'RMSE': 2.14438},\n",
       "  'chi2': {'MAE': 1.3626, 'RMSE': 1.98449},\n",
       "  'f_classif': {'MAE': 1.38537, 'RMSE': 2.03386},\n",
       "  'mutual_info_classif': {'MAE': 1.46992, 'RMSE': 2.04661}},\n",
       " 'SVC': {'None': {'MAE': 0.95772, 'RMSE': 1.80289},\n",
       "  'chi2': {'MAE': 0.90569, 'RMSE': 1.7646},\n",
       "  'f_classif': {'MAE': 1.43577, 'RMSE': 2.15836},\n",
       "  'mutual_info_classif': {'MAE': 0.87154, 'RMSE': 1.725}}}"
      ]
     },
     "execution_count": 166,
     "metadata": {},
     "output_type": "execute_result"
    }
   ],
   "source": [
    "test_errors"
   ]
  },
  {
   "cell_type": "code",
   "execution_count": 28,
   "metadata": {},
   "outputs": [],
   "source": [
    "selected_X_train  = X_train[select_features(lambda X, y: mutual_info_classif(X, y, random_state=42))]\n",
    "model = SVC(random_state=42, C=100)\n",
    "model.fit(selected_X_train, y_train)\n",
    "y_pred = model.predict(X_test[select_features(lambda X, y: mutual_info_classif(X, y, random_state=42))])"
   ]
  },
  {
   "cell_type": "code",
   "execution_count": 29,
   "metadata": {},
   "outputs": [
    {
     "data": {
      "text/plain": [
       "Index(['popularity', 'vote_count', 'Animation', 'Documentary', 'Horror',\n",
       "       'overview_len', 'day', 'film', 'childhood', 'feat'],\n",
       "      dtype='object')"
      ]
     },
     "execution_count": 29,
     "metadata": {},
     "output_type": "execute_result"
    }
   ],
   "source": [
    "selected_X_train.columns"
   ]
  },
  {
   "cell_type": "code",
   "execution_count": 30,
   "metadata": {
    "scrolled": false
   },
   "outputs": [
    {
     "data": {
      "image/png": "[encoded data removed]",
      "text/plain": [
       "<Figure size 864x432 with 1 Axes>"
      ]
     },
     "metadata": {
      "needs_background": "light"
     },
     "output_type": "display_data"
    }
   ],
   "source": [
    "plt.figure(figsize=[12,6])\n",
    "x_jitter = np.random.uniform(-0.2, 0.2, len(y_test))\n",
    "y_jitter = np.random.uniform(-0.2, 0.2, len(y_test))\n",
    "sns.scatterplot(y_test + x_jitter, y_pred + y_jitter, color=\"steelblue\")\n",
    "plt.xlabel(\"Actual Rating\")\n",
    "plt.ylabel(\"Predicted Rating\")\n",
    "plt.title(r\"Predicted vs. Actual Rating for SVC with $C=100$ and Mutual Information Feature Selection\")\n",
    "plt.savefig(\"../figures/no_poster_test_results.png\");"
   ]
  },
  {
   "cell_type": "code",
   "execution_count": null,
   "metadata": {},
   "outputs": [],
   "source": []
  },
  {
   "cell_type": "code",
   "execution_count": null,
   "metadata": {},
   "outputs": [],
   "source": []
  },
  {
   "cell_type": "code",
   "execution_count": null,
   "metadata": {},
   "outputs": [],
   "source": []
  },
  {
   "cell_type": "code",
   "execution_count": null,
   "metadata": {},
   "outputs": [],
   "source": []
  }
 ],
 "metadata": {
  "@webio": {
   "lastCommId": null,
   "lastKernelId": null
  },
  "kernelspec": {
   "display_name": "Python 3",
   "language": "python",
   "name": "python3"
  },
  "language_info": {
   "codemirror_mode": {
    "name": "ipython",
    "version": 3
   },
   "file_extension": ".py",
   "mimetype": "text/x-python",
   "name": "python",
   "nbconvert_exporter": "python",
   "pygments_lexer": "ipython3",
   "version": "3.6.5"
  },
  "notify_time": "5",
  "varInspector": {
   "cols": {
    "lenName": 16,
    "lenType": 16,
    "lenVar": 40
   },
   "kernels_config": {
    "python": {
     "delete_cmd_postfix": "",
     "delete_cmd_prefix": "del ",
     "library": "var_list.py",
     "varRefreshCmd": "print(var_dic_list())"
    },
    "r": {
     "delete_cmd_postfix": ") ",
     "delete_cmd_prefix": "rm(",
     "library": "var_list.r",
     "varRefreshCmd": "cat(var_dic_list()) "
    }
   },
   "types_to_exclude": [
    "module",
    "function",
    "builtin_function_or_method",
    "instance",
    "_Feature"
   ],
   "window_display": false
  }
 },
 "nbformat": 4,
 "nbformat_minor": 2
}
