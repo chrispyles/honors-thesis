{
 "cells": [
  {
   "cell_type": "code",
   "execution_count": 61,
   "metadata": {},
   "outputs": [
    {
     "data": {
      "text/html": [
       "<div>\n",
       "<style scoped>\n",
       "    .dataframe tbody tr th:only-of-type {\n",
       "        vertical-align: middle;\n",
       "    }\n",
       "\n",
       "    .dataframe tbody tr th {\n",
       "        vertical-align: top;\n",
       "    }\n",
       "\n",
       "    .dataframe thead th {\n",
       "        text-align: right;\n",
       "    }\n",
       "</style>\n",
       "<table border=\"1\" class=\"dataframe\">\n",
       "  <thead>\n",
       "    <tr style=\"text-align: right;\">\n",
       "      <th></th>\n",
       "      <th>Series;\"Time\";\"Value\"</th>\n",
       "    </tr>\n",
       "  </thead>\n",
       "  <tbody>\n",
       "    <tr>\n",
       "      <th>0</th>\n",
       "      <td>200;\"2019-03-15T12:00:00-07:00\";null</td>\n",
       "    </tr>\n",
       "    <tr>\n",
       "      <th>1</th>\n",
       "      <td>200;\"2019-03-16T00:00:00-07:00\";null</td>\n",
       "    </tr>\n",
       "    <tr>\n",
       "      <th>2</th>\n",
       "      <td>200;\"2019-03-16T12:00:00-07:00\";null</td>\n",
       "    </tr>\n",
       "    <tr>\n",
       "      <th>3</th>\n",
       "      <td>200;\"2019-03-17T00:00:00-07:00\";null</td>\n",
       "    </tr>\n",
       "    <tr>\n",
       "      <th>4</th>\n",
       "      <td>200;\"2019-03-17T12:00:00-07:00\";null</td>\n",
       "    </tr>\n",
       "  </tbody>\n",
       "</table>\n",
       "</div>"
      ],
      "text/plain": [
       "                  Series;\"Time\";\"Value\"\n",
       "0  200;\"2019-03-15T12:00:00-07:00\";null\n",
       "1  200;\"2019-03-16T00:00:00-07:00\";null\n",
       "2  200;\"2019-03-16T12:00:00-07:00\";null\n",
       "3  200;\"2019-03-17T00:00:00-07:00\";null\n",
       "4  200;\"2019-03-17T12:00:00-07:00\";null"
      ]
     },
     "execution_count": 61,
     "metadata": {},
     "output_type": "execute_result"
    }
   ],
   "source": [
    "import pandas as pd\n",
    "import numpy as np\n",
    "import datetime as dt\n",
    "import seaborn as sns\n",
    "import matplotlib.pyplot as plt\n",
    "%matplotlib inline\n",
    "plt.rcParams[\"figure.figsize\"] = [12,8]\n",
    "plt.rcParams[\"font.size\"] = 14\n",
    "import warnings\n",
    "warnings.simplefilter(\"ignore\")\n",
    "import datetime as dt\n",
    "\n",
    "responses_raw = pd.read_csv(\"../data/hub_response_codes.csv\")\n",
    "responses_raw.head()"
   ]
  },
  {
   "cell_type": "code",
   "execution_count": 34,
   "metadata": {},
   "outputs": [
    {
     "data": {
      "text/html": [
       "<div>\n",
       "<style scoped>\n",
       "    .dataframe tbody tr th:only-of-type {\n",
       "        vertical-align: middle;\n",
       "    }\n",
       "\n",
       "    .dataframe tbody tr th {\n",
       "        vertical-align: top;\n",
       "    }\n",
       "\n",
       "    .dataframe thead th {\n",
       "        text-align: right;\n",
       "    }\n",
       "</style>\n",
       "<table border=\"1\" class=\"dataframe\">\n",
       "  <thead>\n",
       "    <tr style=\"text-align: right;\">\n",
       "      <th></th>\n",
       "      <th>status</th>\n",
       "      <th>timestamp</th>\n",
       "      <th>value</th>\n",
       "    </tr>\n",
       "  </thead>\n",
       "  <tbody>\n",
       "    <tr>\n",
       "      <th>360</th>\n",
       "      <td>200</td>\n",
       "      <td>2019-09-11T12:00:00-07:00</td>\n",
       "      <td>938.75</td>\n",
       "    </tr>\n",
       "    <tr>\n",
       "      <th>361</th>\n",
       "      <td>200</td>\n",
       "      <td>2019-09-12T00:00:00-07:00</td>\n",
       "      <td>738.75</td>\n",
       "    </tr>\n",
       "    <tr>\n",
       "      <th>362</th>\n",
       "      <td>200</td>\n",
       "      <td>2019-09-12T12:00:00-07:00</td>\n",
       "      <td>610.00</td>\n",
       "    </tr>\n",
       "    <tr>\n",
       "      <th>363</th>\n",
       "      <td>200</td>\n",
       "      <td>2019-09-13T00:00:00-07:00</td>\n",
       "      <td>411.25</td>\n",
       "    </tr>\n",
       "    <tr>\n",
       "      <th>364</th>\n",
       "      <td>200</td>\n",
       "      <td>2019-09-13T12:00:00-07:00</td>\n",
       "      <td>688.75</td>\n",
       "    </tr>\n",
       "  </tbody>\n",
       "</table>\n",
       "</div>"
      ],
      "text/plain": [
       "     status                  timestamp   value\n",
       "360     200  2019-09-11T12:00:00-07:00  938.75\n",
       "361     200  2019-09-12T00:00:00-07:00  738.75\n",
       "362     200  2019-09-12T12:00:00-07:00  610.00\n",
       "363     200  2019-09-13T00:00:00-07:00  411.25\n",
       "364     200  2019-09-13T12:00:00-07:00  688.75"
      ]
     },
     "execution_count": 34,
     "metadata": {},
     "output_type": "execute_result"
    }
   ],
   "source": [
    "responses_raw[\"status\"] = responses_raw.iloc[:,0].str.split(\";\").str[0].astype(int)\n",
    "responses_raw[\"timestamp\"] = responses_raw.iloc[:,0].str.split(\";\").str[1].str[1:-1]\n",
    "responses_raw[\"value\"] = responses_raw.iloc[:,0].str.split(\";\").str[2]\n",
    "responses_raw = responses_raw[responses_raw[\"value\"] != \"null\"]\n",
    "responses_raw[\"value\"] = responses_raw[\"value\"].astype(float)\n",
    "responses = responses_raw.iloc[:,1:]\n",
    "responses.head()"
   ]
  },
  {
   "cell_type": "code",
   "execution_count": 42,
   "metadata": {},
   "outputs": [
    {
     "data": {
      "text/html": [
       "<div>\n",
       "<style scoped>\n",
       "    .dataframe tbody tr th:only-of-type {\n",
       "        vertical-align: middle;\n",
       "    }\n",
       "\n",
       "    .dataframe tbody tr th {\n",
       "        vertical-align: top;\n",
       "    }\n",
       "\n",
       "    .dataframe thead th {\n",
       "        text-align: right;\n",
       "    }\n",
       "</style>\n",
       "<table border=\"1\" class=\"dataframe\">\n",
       "  <thead>\n",
       "    <tr style=\"text-align: right;\">\n",
       "      <th></th>\n",
       "      <th>status</th>\n",
       "      <th>timestamp</th>\n",
       "      <th>value</th>\n",
       "    </tr>\n",
       "  </thead>\n",
       "  <tbody>\n",
       "    <tr>\n",
       "      <th>9889</th>\n",
       "      <td>503</td>\n",
       "      <td>2019-09-11 19:00:00</td>\n",
       "      <td>501.25</td>\n",
       "    </tr>\n",
       "    <tr>\n",
       "      <th>9890</th>\n",
       "      <td>503</td>\n",
       "      <td>2019-09-12 07:00:00</td>\n",
       "      <td>108.75</td>\n",
       "    </tr>\n",
       "    <tr>\n",
       "      <th>9891</th>\n",
       "      <td>503</td>\n",
       "      <td>2019-09-12 19:00:00</td>\n",
       "      <td>308.75</td>\n",
       "    </tr>\n",
       "    <tr>\n",
       "      <th>9892</th>\n",
       "      <td>503</td>\n",
       "      <td>2019-09-13 07:00:00</td>\n",
       "      <td>302.50</td>\n",
       "    </tr>\n",
       "    <tr>\n",
       "      <th>9893</th>\n",
       "      <td>503</td>\n",
       "      <td>2019-09-13 19:00:00</td>\n",
       "      <td>125.00</td>\n",
       "    </tr>\n",
       "  </tbody>\n",
       "</table>\n",
       "</div>"
      ],
      "text/plain": [
       "      status           timestamp   value\n",
       "9889     503 2019-09-11 19:00:00  501.25\n",
       "9890     503 2019-09-12 07:00:00  108.75\n",
       "9891     503 2019-09-12 19:00:00  308.75\n",
       "9892     503 2019-09-13 07:00:00  302.50\n",
       "9893     503 2019-09-13 19:00:00  125.00"
      ]
     },
     "execution_count": 42,
     "metadata": {},
     "output_type": "execute_result"
    }
   ],
   "source": [
    "errors = responses[responses[\"status\"].isin([\"500\", \"503\"]) & responses[\"value\"] != 0]\n",
    "errors[\"timestamp\"] = errors[\"timestamp\"].apply(pd.to_datetime)\n",
    "errors.head()"
   ]
  },
  {
   "cell_type": "code",
   "execution_count": 45,
   "metadata": {},
   "outputs": [
    {
     "data": {
      "text/html": [
       "<div>\n",
       "<style scoped>\n",
       "    .dataframe tbody tr th:only-of-type {\n",
       "        vertical-align: middle;\n",
       "    }\n",
       "\n",
       "    .dataframe tbody tr th {\n",
       "        vertical-align: top;\n",
       "    }\n",
       "\n",
       "    .dataframe thead th {\n",
       "        text-align: right;\n",
       "    }\n",
       "</style>\n",
       "<table border=\"1\" class=\"dataframe\">\n",
       "  <thead>\n",
       "    <tr style=\"text-align: right;\">\n",
       "      <th></th>\n",
       "      <th>status</th>\n",
       "      <th>timestamp</th>\n",
       "      <th>value</th>\n",
       "      <th>date</th>\n",
       "    </tr>\n",
       "  </thead>\n",
       "  <tbody>\n",
       "    <tr>\n",
       "      <th>9889</th>\n",
       "      <td>503</td>\n",
       "      <td>2019-09-11 19:00:00</td>\n",
       "      <td>501.25</td>\n",
       "      <td>2019-09-11</td>\n",
       "    </tr>\n",
       "    <tr>\n",
       "      <th>9890</th>\n",
       "      <td>503</td>\n",
       "      <td>2019-09-12 07:00:00</td>\n",
       "      <td>108.75</td>\n",
       "      <td>2019-09-12</td>\n",
       "    </tr>\n",
       "    <tr>\n",
       "      <th>9891</th>\n",
       "      <td>503</td>\n",
       "      <td>2019-09-12 19:00:00</td>\n",
       "      <td>308.75</td>\n",
       "      <td>2019-09-12</td>\n",
       "    </tr>\n",
       "    <tr>\n",
       "      <th>9892</th>\n",
       "      <td>503</td>\n",
       "      <td>2019-09-13 07:00:00</td>\n",
       "      <td>302.50</td>\n",
       "      <td>2019-09-13</td>\n",
       "    </tr>\n",
       "    <tr>\n",
       "      <th>9893</th>\n",
       "      <td>503</td>\n",
       "      <td>2019-09-13 19:00:00</td>\n",
       "      <td>125.00</td>\n",
       "      <td>2019-09-13</td>\n",
       "    </tr>\n",
       "  </tbody>\n",
       "</table>\n",
       "</div>"
      ],
      "text/plain": [
       "      status           timestamp   value        date\n",
       "9889     503 2019-09-11 19:00:00  501.25  2019-09-11\n",
       "9890     503 2019-09-12 07:00:00  108.75  2019-09-12\n",
       "9891     503 2019-09-12 19:00:00  308.75  2019-09-12\n",
       "9892     503 2019-09-13 07:00:00  302.50  2019-09-13\n",
       "9893     503 2019-09-13 19:00:00  125.00  2019-09-13"
      ]
     },
     "execution_count": 45,
     "metadata": {},
     "output_type": "execute_result"
    }
   ],
   "source": [
    "errors[\"date\"] = errors[\"timestamp\"].apply(lambda t: t.date())\n",
    "errors.head()"
   ]
  },
  {
   "cell_type": "code",
   "execution_count": 60,
   "metadata": {},
   "outputs": [
    {
     "data": {
      "image/png": "[encoded data removed]",
      "text/plain": [
       "<Figure size 864x576 with 1 Axes>"
      ]
     },
     "metadata": {
      "needs_background": "light"
     },
     "output_type": "display_data"
    }
   ],
   "source": [
    "errors.groupby(\"date\").sum().sort_index().reset_index().plot.line(\"date\", \"value\", legend=False)\n",
    "plt.xticks([dt.datetime(2019, 9, 15) + dt.timedelta(days=i//1) for i in np.linspace(0, 120, 6)])\n",
    "plt.ylabel(\"Number of 500/503 Errors\")\n",
    "plt.title(\"DataHub Errors Over Time\")\n",
    "plt.savefig(\"../figures/nb04-errors-over-time.png\")"
   ]
  },
  {
   "cell_type": "code",
   "execution_count": 65,
   "metadata": {},
   "outputs": [],
   "source": [
    "num_errors = errors.groupby(\"timestamp\").sum().reset_index()[[\"timestamp\", \"value\"]].sort_values(\"timestamp\")\n",
    "num_errors.to_csv(\"../data/num_errors.csv\", index=False)"
   ]
  },
  {
   "cell_type": "code",
   "execution_count": null,
   "metadata": {},
   "outputs": [],
   "source": []
  },
  {
   "cell_type": "code",
   "execution_count": null,
   "metadata": {},
   "outputs": [],
   "source": []
  },
  {
   "cell_type": "code",
   "execution_count": null,
   "metadata": {},
   "outputs": [],
   "source": []
  },
  {
   "cell_type": "code",
   "execution_count": null,
   "metadata": {},
   "outputs": [],
   "source": []
  },
  {
   "cell_type": "code",
   "execution_count": null,
   "metadata": {},
   "outputs": [],
   "source": []
  }
 ],
 "metadata": {
  "kernelspec": {
   "display_name": "Python 3",
   "language": "python",
   "name": "python3"
  },
  "language_info": {
   "codemirror_mode": {
    "name": "ipython",
    "version": 3
   },
   "file_extension": ".py",
   "mimetype": "text/x-python",
   "name": "python",
   "nbconvert_exporter": "python",
   "pygments_lexer": "ipython3",
   "version": "3.6.5"
  },
  "varInspector": {
   "cols": {
    "lenName": 16,
    "lenType": 16,
    "lenVar": 40
   },
   "kernels_config": {
    "python": {
     "delete_cmd_postfix": "",
     "delete_cmd_prefix": "del ",
     "library": "var_list.py",
     "varRefreshCmd": "print(var_dic_list())"
    },
    "r": {
     "delete_cmd_postfix": ") ",
     "delete_cmd_prefix": "rm(",
     "library": "var_list.r",
     "varRefreshCmd": "cat(var_dic_list()) "
    }
   },
   "types_to_exclude": [
    "module",
    "function",
    "builtin_function_or_method",
    "instance",
    "_Feature"
   ],
   "window_display": false
  }
 },
 "nbformat": 4,
 "nbformat_minor": 4
}
