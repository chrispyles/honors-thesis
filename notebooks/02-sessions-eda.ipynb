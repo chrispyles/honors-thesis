{
 "cells": [
  {
   "cell_type": "code",
   "execution_count": 1,
   "metadata": {
    "scrolled": true
   },
   "outputs": [
    {
     "data": {
      "text/html": [
       "<div>\n",
       "<style scoped>\n",
       "    .dataframe tbody tr th:only-of-type {\n",
       "        vertical-align: middle;\n",
       "    }\n",
       "\n",
       "    .dataframe tbody tr th {\n",
       "        vertical-align: top;\n",
       "    }\n",
       "\n",
       "    .dataframe thead th {\n",
       "        text-align: right;\n",
       "    }\n",
       "</style>\n",
       "<table border=\"1\" class=\"dataframe\">\n",
       "  <thead>\n",
       "    <tr style=\"text-align: right;\">\n",
       "      <th></th>\n",
       "      <th>action</th>\n",
       "      <th>timestamp</th>\n",
       "      <th>user</th>\n",
       "    </tr>\n",
       "  </thead>\n",
       "  <tbody>\n",
       "    <tr>\n",
       "      <th>0</th>\n",
       "      <td>start</td>\n",
       "      <td>2019-07-09 12:00:00</td>\n",
       "      <td>0284654d2019df7e37c9a9cbd03ab568eec1815efc2bec...</td>\n",
       "    </tr>\n",
       "    <tr>\n",
       "      <th>1</th>\n",
       "      <td>start</td>\n",
       "      <td>2019-07-09 12:00:00</td>\n",
       "      <td>7bee9fde455eb141a9e8d1512579f633e8b14ceb5fc745...</td>\n",
       "    </tr>\n",
       "    <tr>\n",
       "      <th>2</th>\n",
       "      <td>start</td>\n",
       "      <td>2019-07-09 13:00:00</td>\n",
       "      <td>34882eac8231d42507374f54bd154230d9211cf2be0de7...</td>\n",
       "    </tr>\n",
       "    <tr>\n",
       "      <th>3</th>\n",
       "      <td>start</td>\n",
       "      <td>2019-07-09 13:00:00</td>\n",
       "      <td>26325d454e9e6c2b872d3c7bb39ca8132ad959d43af7ff...</td>\n",
       "    </tr>\n",
       "    <tr>\n",
       "      <th>4</th>\n",
       "      <td>start</td>\n",
       "      <td>2019-07-09 13:00:00</td>\n",
       "      <td>1ea6eb8e8511d4a7af81d63cf50b7fd546546328672f87...</td>\n",
       "    </tr>\n",
       "  </tbody>\n",
       "</table>\n",
       "</div>"
      ],
      "text/plain": [
       "  action           timestamp  \\\n",
       "0  start 2019-07-09 12:00:00   \n",
       "1  start 2019-07-09 12:00:00   \n",
       "2  start 2019-07-09 13:00:00   \n",
       "3  start 2019-07-09 13:00:00   \n",
       "4  start 2019-07-09 13:00:00   \n",
       "\n",
       "                                                user  \n",
       "0  0284654d2019df7e37c9a9cbd03ab568eec1815efc2bec...  \n",
       "1  7bee9fde455eb141a9e8d1512579f633e8b14ceb5fc745...  \n",
       "2  34882eac8231d42507374f54bd154230d9211cf2be0de7...  \n",
       "3  26325d454e9e6c2b872d3c7bb39ca8132ad959d43af7ff...  \n",
       "4  1ea6eb8e8511d4a7af81d63cf50b7fd546546328672f87...  "
      ]
     },
     "execution_count": 1,
     "metadata": {},
     "output_type": "execute_result"
    }
   ],
   "source": [
    "import jsonlines\n",
    "import pandas as pd\n",
    "import numpy as np\n",
    "import datetime as dt\n",
    "import seaborn as sns\n",
    "import matplotlib.pyplot as plt\n",
    "%matplotlib inline\n",
    "plt.rcParams[\"figure.figsize\"] = [12,8]\n",
    "plt.rcParams[\"font.size\"] = 14\n",
    "\n",
    "sessions = pd.read_json(\"../data/datahub_sessions.jsonl\", lines=True)\n",
    "sessions.head()"
   ]
  },
  {
   "cell_type": "code",
   "execution_count": 7,
   "metadata": {},
   "outputs": [
    {
     "data": {
      "text/plain": [
       "(239051, 4)"
      ]
     },
     "execution_count": 7,
     "metadata": {},
     "output_type": "execute_result"
    }
   ],
   "source": [
    "sessions.shape"
   ]
  },
  {
   "cell_type": "code",
   "execution_count": 2,
   "metadata": {},
   "outputs": [
    {
     "data": {
      "text/html": [
       "<div>\n",
       "<style scoped>\n",
       "    .dataframe tbody tr th:only-of-type {\n",
       "        vertical-align: middle;\n",
       "    }\n",
       "\n",
       "    .dataframe tbody tr th {\n",
       "        vertical-align: top;\n",
       "    }\n",
       "\n",
       "    .dataframe thead th {\n",
       "        text-align: right;\n",
       "    }\n",
       "</style>\n",
       "<table border=\"1\" class=\"dataframe\">\n",
       "  <thead>\n",
       "    <tr style=\"text-align: right;\">\n",
       "      <th></th>\n",
       "      <th>action</th>\n",
       "      <th>timestamp</th>\n",
       "      <th>user</th>\n",
       "      <th>month</th>\n",
       "    </tr>\n",
       "  </thead>\n",
       "  <tbody>\n",
       "    <tr>\n",
       "      <th>0</th>\n",
       "      <td>start</td>\n",
       "      <td>2019-07-09 12:00:00</td>\n",
       "      <td>0284654d2019df7e37c9a9cbd03ab568eec1815efc2bec...</td>\n",
       "      <td>7</td>\n",
       "    </tr>\n",
       "    <tr>\n",
       "      <th>1</th>\n",
       "      <td>start</td>\n",
       "      <td>2019-07-09 12:00:00</td>\n",
       "      <td>7bee9fde455eb141a9e8d1512579f633e8b14ceb5fc745...</td>\n",
       "      <td>7</td>\n",
       "    </tr>\n",
       "    <tr>\n",
       "      <th>2</th>\n",
       "      <td>start</td>\n",
       "      <td>2019-07-09 13:00:00</td>\n",
       "      <td>34882eac8231d42507374f54bd154230d9211cf2be0de7...</td>\n",
       "      <td>7</td>\n",
       "    </tr>\n",
       "    <tr>\n",
       "      <th>3</th>\n",
       "      <td>start</td>\n",
       "      <td>2019-07-09 13:00:00</td>\n",
       "      <td>26325d454e9e6c2b872d3c7bb39ca8132ad959d43af7ff...</td>\n",
       "      <td>7</td>\n",
       "    </tr>\n",
       "    <tr>\n",
       "      <th>4</th>\n",
       "      <td>start</td>\n",
       "      <td>2019-07-09 13:00:00</td>\n",
       "      <td>1ea6eb8e8511d4a7af81d63cf50b7fd546546328672f87...</td>\n",
       "      <td>7</td>\n",
       "    </tr>\n",
       "  </tbody>\n",
       "</table>\n",
       "</div>"
      ],
      "text/plain": [
       "  action           timestamp  \\\n",
       "0  start 2019-07-09 12:00:00   \n",
       "1  start 2019-07-09 12:00:00   \n",
       "2  start 2019-07-09 13:00:00   \n",
       "3  start 2019-07-09 13:00:00   \n",
       "4  start 2019-07-09 13:00:00   \n",
       "\n",
       "                                                user  month  \n",
       "0  0284654d2019df7e37c9a9cbd03ab568eec1815efc2bec...      7  \n",
       "1  7bee9fde455eb141a9e8d1512579f633e8b14ceb5fc745...      7  \n",
       "2  34882eac8231d42507374f54bd154230d9211cf2be0de7...      7  \n",
       "3  26325d454e9e6c2b872d3c7bb39ca8132ad959d43af7ff...      7  \n",
       "4  1ea6eb8e8511d4a7af81d63cf50b7fd546546328672f87...      7  "
      ]
     },
     "execution_count": 2,
     "metadata": {},
     "output_type": "execute_result"
    }
   ],
   "source": [
    "sessions[\"month\"] = sessions[\"timestamp\"].map(lambda t: t.month)\n",
    "sessions.head()"
   ]
  },
  {
   "cell_type": "code",
   "execution_count": 3,
   "metadata": {},
   "outputs": [
    {
     "data": {
      "image/png": "[encoded data removed]",
      "text/plain": [
       "<Figure size 432x288 with 1 Axes>"
      ]
     },
     "metadata": {
      "needs_background": "light"
     },
     "output_type": "display_data"
    }
   ],
   "source": [
    "sns.barplot(x=\"month\", y=\"action\", \n",
    "            data=sessions[sessions[\"action\"] == \"start\"].groupby(\"month\").count().reset_index())\n",
    "plt.title(\"Number of Sessions Started\")\n",
    "plt.xlabel(\"Month (2019)\")\n",
    "plt.ylabel(\"Number of Starts\")\n",
    "plt.savefig(\"../figures/nb02-num-sessions-started.png\")"
   ]
  },
  {
   "cell_type": "code",
   "execution_count": 23,
   "metadata": {},
   "outputs": [
    {
     "data": {
      "text/html": [
       "<div>\n",
       "<style scoped>\n",
       "    .dataframe tbody tr th:only-of-type {\n",
       "        vertical-align: middle;\n",
       "    }\n",
       "\n",
       "    .dataframe tbody tr th {\n",
       "        vertical-align: top;\n",
       "    }\n",
       "\n",
       "    .dataframe thead th {\n",
       "        text-align: right;\n",
       "    }\n",
       "</style>\n",
       "<table border=\"1\" class=\"dataframe\">\n",
       "  <thead>\n",
       "    <tr style=\"text-align: right;\">\n",
       "      <th>action</th>\n",
       "      <th>user</th>\n",
       "      <th>start</th>\n",
       "      <th>stop</th>\n",
       "      <th>breaks</th>\n",
       "    </tr>\n",
       "  </thead>\n",
       "  <tbody>\n",
       "    <tr>\n",
       "      <th>37</th>\n",
       "      <td>01306c8de25f93c4329f16844060ac9e91cdf411a78fb2...</td>\n",
       "      <td>11.0</td>\n",
       "      <td>10.0</td>\n",
       "      <td>1.0</td>\n",
       "    </tr>\n",
       "    <tr>\n",
       "      <th>51</th>\n",
       "      <td>019a84362adc3aa8081dda5e69b109c23fa5ac3277992f...</td>\n",
       "      <td>5.0</td>\n",
       "      <td>4.0</td>\n",
       "      <td>1.0</td>\n",
       "    </tr>\n",
       "    <tr>\n",
       "      <th>68</th>\n",
       "      <td>020c4ec4aeb4405753df2464609e64f7bd72332dff429b...</td>\n",
       "      <td>3.0</td>\n",
       "      <td>2.0</td>\n",
       "      <td>1.0</td>\n",
       "    </tr>\n",
       "    <tr>\n",
       "      <th>73</th>\n",
       "      <td>02384af4d44fbd8fe781f086484fe37b4fab947ed2d267...</td>\n",
       "      <td>39.0</td>\n",
       "      <td>37.0</td>\n",
       "      <td>2.0</td>\n",
       "    </tr>\n",
       "    <tr>\n",
       "      <th>74</th>\n",
       "      <td>0239293efd860e22a43b389e5d930f277e7398bc3671b0...</td>\n",
       "      <td>41.0</td>\n",
       "      <td>39.0</td>\n",
       "      <td>2.0</td>\n",
       "    </tr>\n",
       "  </tbody>\n",
       "</table>\n",
       "</div>"
      ],
      "text/plain": [
       "action                                               user  start  stop  breaks\n",
       "37      01306c8de25f93c4329f16844060ac9e91cdf411a78fb2...   11.0  10.0     1.0\n",
       "51      019a84362adc3aa8081dda5e69b109c23fa5ac3277992f...    5.0   4.0     1.0\n",
       "68      020c4ec4aeb4405753df2464609e64f7bd72332dff429b...    3.0   2.0     1.0\n",
       "73      02384af4d44fbd8fe781f086484fe37b4fab947ed2d267...   39.0  37.0     2.0\n",
       "74      0239293efd860e22a43b389e5d930f277e7398bc3671b0...   41.0  39.0     2.0"
      ]
     },
     "execution_count": 23,
     "metadata": {},
     "output_type": "execute_result"
    }
   ],
   "source": [
    "starts_and_stops = (sessions\n",
    "                    .groupby([\"user\", \"action\"])\n",
    "                    .count()\n",
    "                    .reset_index()\n",
    "                    .pivot(\"user\", \"action\", \"timestamp\")\n",
    "                    .reset_index())\n",
    "starts_and_stops[\"breaks\"] = starts_and_stops[\"start\"] - starts_and_stops[\"stop\"]\n",
    "breaks = starts_and_stops[starts_and_stops[\"breaks\"] > 0]\n",
    "breaks.head()"
   ]
  },
  {
   "cell_type": "code",
   "execution_count": 33,
   "metadata": {},
   "outputs": [
    {
     "name": "stderr",
     "output_type": "stream",
     "text": [
      "/Library/Frameworks/Python.framework/Versions/3.6/lib/python3.6/site-packages/scipy/stats/stats.py:1713: FutureWarning: Using a non-tuple sequence for multidimensional indexing is deprecated; use `arr[tuple(seq)]` instead of `arr[seq]`. In the future this will be interpreted as an array index, `arr[np.array(seq)]`, which will result either in an error or a different result.\n",
      "  return np.add.reduce(sorted[indexer] * weights, axis=axis) / sumval\n"
     ]
    },
    {
     "data": {
      "image/png": "[encoded data removed]",
      "text/plain": [
       "<Figure size 432x288 with 1 Axes>"
      ]
     },
     "metadata": {
      "needs_background": "light"
     },
     "output_type": "display_data"
    }
   ],
   "source": [
    "sns.distplot(breaks[\"breaks\"], bins=50)\n",
    "plt.xlim([.5,4.5])\n",
    "plt.xlabel(\"Number of Breaks\")\n",
    "plt.title(\"Distribution of Number of Breaks\");"
   ]
  },
  {
   "cell_type": "code",
   "execution_count": null,
   "metadata": {},
   "outputs": [],
   "source": []
  },
  {
   "cell_type": "code",
   "execution_count": null,
   "metadata": {},
   "outputs": [],
   "source": []
  }
 ],
 "metadata": {
  "kernelspec": {
   "display_name": "Python 3",
   "language": "python",
   "name": "python3"
  },
  "language_info": {
   "codemirror_mode": {
    "name": "ipython",
    "version": 3
   },
   "file_extension": ".py",
   "mimetype": "text/x-python",
   "name": "python",
   "nbconvert_exporter": "python",
   "pygments_lexer": "ipython3",
   "version": "3.6.5"
  },
  "varInspector": {
   "cols": {
    "lenName": 16,
    "lenType": 16,
    "lenVar": 40
   },
   "kernels_config": {
    "python": {
     "delete_cmd_postfix": "",
     "delete_cmd_prefix": "del ",
     "library": "var_list.py",
     "varRefreshCmd": "print(var_dic_list())"
    },
    "r": {
     "delete_cmd_postfix": ") ",
     "delete_cmd_prefix": "rm(",
     "library": "var_list.r",
     "varRefreshCmd": "cat(var_dic_list()) "
    }
   },
   "types_to_exclude": [
    "module",
    "function",
    "builtin_function_or_method",
    "instance",
    "_Feature"
   ],
   "window_display": false
  }
 },
 "nbformat": 4,
 "nbformat_minor": 2
}
