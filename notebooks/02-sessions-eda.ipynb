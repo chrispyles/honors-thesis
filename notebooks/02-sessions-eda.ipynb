{
 "cells": [
  {
   "cell_type": "code",
   "execution_count": 47,
   "metadata": {
    "scrolled": true
   },
   "outputs": [
    {
     "data": {
      "text/html": [
       "<div>\n",
       "<style scoped>\n",
       "    .dataframe tbody tr th:only-of-type {\n",
       "        vertical-align: middle;\n",
       "    }\n",
       "\n",
       "    .dataframe tbody tr th {\n",
       "        vertical-align: top;\n",
       "    }\n",
       "\n",
       "    .dataframe thead th {\n",
       "        text-align: right;\n",
       "    }\n",
       "</style>\n",
       "<table border=\"1\" class=\"dataframe\">\n",
       "  <thead>\n",
       "    <tr style=\"text-align: right;\">\n",
       "      <th></th>\n",
       "      <th>action</th>\n",
       "      <th>timestamp</th>\n",
       "      <th>user</th>\n",
       "    </tr>\n",
       "  </thead>\n",
       "  <tbody>\n",
       "    <tr>\n",
       "      <th>0</th>\n",
       "      <td>start</td>\n",
       "      <td>2019-07-09 12:00:00</td>\n",
       "      <td>0284654d2019df7e37c9a9cbd03ab568eec1815efc2bec...</td>\n",
       "    </tr>\n",
       "    <tr>\n",
       "      <th>1</th>\n",
       "      <td>start</td>\n",
       "      <td>2019-07-09 12:00:00</td>\n",
       "      <td>7bee9fde455eb141a9e8d1512579f633e8b14ceb5fc745...</td>\n",
       "    </tr>\n",
       "    <tr>\n",
       "      <th>2</th>\n",
       "      <td>start</td>\n",
       "      <td>2019-07-09 13:00:00</td>\n",
       "      <td>34882eac8231d42507374f54bd154230d9211cf2be0de7...</td>\n",
       "    </tr>\n",
       "    <tr>\n",
       "      <th>3</th>\n",
       "      <td>start</td>\n",
       "      <td>2019-07-09 13:00:00</td>\n",
       "      <td>26325d454e9e6c2b872d3c7bb39ca8132ad959d43af7ff...</td>\n",
       "    </tr>\n",
       "    <tr>\n",
       "      <th>4</th>\n",
       "      <td>start</td>\n",
       "      <td>2019-07-09 13:00:00</td>\n",
       "      <td>1ea6eb8e8511d4a7af81d63cf50b7fd546546328672f87...</td>\n",
       "    </tr>\n",
       "  </tbody>\n",
       "</table>\n",
       "</div>"
      ],
      "text/plain": [
       "  action           timestamp  \\\n",
       "0  start 2019-07-09 12:00:00   \n",
       "1  start 2019-07-09 12:00:00   \n",
       "2  start 2019-07-09 13:00:00   \n",
       "3  start 2019-07-09 13:00:00   \n",
       "4  start 2019-07-09 13:00:00   \n",
       "\n",
       "                                                user  \n",
       "0  0284654d2019df7e37c9a9cbd03ab568eec1815efc2bec...  \n",
       "1  7bee9fde455eb141a9e8d1512579f633e8b14ceb5fc745...  \n",
       "2  34882eac8231d42507374f54bd154230d9211cf2be0de7...  \n",
       "3  26325d454e9e6c2b872d3c7bb39ca8132ad959d43af7ff...  \n",
       "4  1ea6eb8e8511d4a7af81d63cf50b7fd546546328672f87...  "
      ]
     },
     "execution_count": 47,
     "metadata": {},
     "output_type": "execute_result"
    }
   ],
   "source": [
    "import jsonlines\n",
    "import pandas as pd\n",
    "import numpy as np\n",
    "import datetime as dt\n",
    "import seaborn as sns\n",
    "import matplotlib.pyplot as plt\n",
    "%matplotlib inline\n",
    "plt.rcParams[\"figure.figsize\"] = [12,8]\n",
    "plt.rcParams[\"font.size\"] = 14\n",
    "\n",
    "sessions = pd.read_json(\"../data/datahub_sessions.jsonl\", lines=True)\n",
    "sessions.head()"
   ]
  },
  {
   "cell_type": "code",
   "execution_count": 48,
   "metadata": {},
   "outputs": [
    {
     "data": {
      "text/html": [
       "<div>\n",
       "<style scoped>\n",
       "    .dataframe tbody tr th:only-of-type {\n",
       "        vertical-align: middle;\n",
       "    }\n",
       "\n",
       "    .dataframe tbody tr th {\n",
       "        vertical-align: top;\n",
       "    }\n",
       "\n",
       "    .dataframe thead th {\n",
       "        text-align: right;\n",
       "    }\n",
       "</style>\n",
       "<table border=\"1\" class=\"dataframe\">\n",
       "  <thead>\n",
       "    <tr style=\"text-align: right;\">\n",
       "      <th></th>\n",
       "      <th>action</th>\n",
       "      <th>timestamp</th>\n",
       "      <th>user</th>\n",
       "      <th>month</th>\n",
       "    </tr>\n",
       "  </thead>\n",
       "  <tbody>\n",
       "    <tr>\n",
       "      <th>0</th>\n",
       "      <td>start</td>\n",
       "      <td>2019-07-09 12:00:00</td>\n",
       "      <td>0284654d2019df7e37c9a9cbd03ab568eec1815efc2bec...</td>\n",
       "      <td>7</td>\n",
       "    </tr>\n",
       "    <tr>\n",
       "      <th>1</th>\n",
       "      <td>start</td>\n",
       "      <td>2019-07-09 12:00:00</td>\n",
       "      <td>7bee9fde455eb141a9e8d1512579f633e8b14ceb5fc745...</td>\n",
       "      <td>7</td>\n",
       "    </tr>\n",
       "    <tr>\n",
       "      <th>2</th>\n",
       "      <td>start</td>\n",
       "      <td>2019-07-09 13:00:00</td>\n",
       "      <td>34882eac8231d42507374f54bd154230d9211cf2be0de7...</td>\n",
       "      <td>7</td>\n",
       "    </tr>\n",
       "    <tr>\n",
       "      <th>3</th>\n",
       "      <td>start</td>\n",
       "      <td>2019-07-09 13:00:00</td>\n",
       "      <td>26325d454e9e6c2b872d3c7bb39ca8132ad959d43af7ff...</td>\n",
       "      <td>7</td>\n",
       "    </tr>\n",
       "    <tr>\n",
       "      <th>4</th>\n",
       "      <td>start</td>\n",
       "      <td>2019-07-09 13:00:00</td>\n",
       "      <td>1ea6eb8e8511d4a7af81d63cf50b7fd546546328672f87...</td>\n",
       "      <td>7</td>\n",
       "    </tr>\n",
       "  </tbody>\n",
       "</table>\n",
       "</div>"
      ],
      "text/plain": [
       "  action           timestamp  \\\n",
       "0  start 2019-07-09 12:00:00   \n",
       "1  start 2019-07-09 12:00:00   \n",
       "2  start 2019-07-09 13:00:00   \n",
       "3  start 2019-07-09 13:00:00   \n",
       "4  start 2019-07-09 13:00:00   \n",
       "\n",
       "                                                user  month  \n",
       "0  0284654d2019df7e37c9a9cbd03ab568eec1815efc2bec...      7  \n",
       "1  7bee9fde455eb141a9e8d1512579f633e8b14ceb5fc745...      7  \n",
       "2  34882eac8231d42507374f54bd154230d9211cf2be0de7...      7  \n",
       "3  26325d454e9e6c2b872d3c7bb39ca8132ad959d43af7ff...      7  \n",
       "4  1ea6eb8e8511d4a7af81d63cf50b7fd546546328672f87...      7  "
      ]
     },
     "execution_count": 48,
     "metadata": {},
     "output_type": "execute_result"
    }
   ],
   "source": [
    "sessions[\"month\"] = sessions[\"timestamp\"].map(lambda t: t.month)\n",
    "sessions.head()"
   ]
  },
  {
   "cell_type": "code",
   "execution_count": 50,
   "metadata": {},
   "outputs": [
    {
     "data": {
      "image/png": "[encoded data removed]",
      "text/plain": [
       "<Figure size 864x576 with 1 Axes>"
      ]
     },
     "metadata": {},
     "output_type": "display_data"
    }
   ],
   "source": [
    "sns.barplot(x=\"month\", y=\"action\", \n",
    "            data=sessions[sessions[\"action\"] == \"start\"].groupby(\"month\").count().reset_index())\n",
    "plt.title(\"Number of Sessions Started\")\n",
    "plt.xlabel(\"Month (2019)\")\n",
    "plt.ylabel(\"Number of Starts\")\n",
    "plt.savefig(\"../figures/nb02-num-sessions-started.png\")"
   ]
  },
  {
   "cell_type": "code",
   "execution_count": null,
   "metadata": {},
   "outputs": [],
   "source": []
  }
 ],
 "metadata": {
  "kernelspec": {
   "display_name": "Python 3",
   "language": "python",
   "name": "python3"
  },
  "language_info": {
   "codemirror_mode": {
    "name": "ipython",
    "version": 3
   },
   "file_extension": ".py",
   "mimetype": "text/x-python",
   "name": "python",
   "nbconvert_exporter": "python",
   "pygments_lexer": "ipython3",
   "version": "3.6.5"
  },
  "varInspector": {
   "cols": {
    "lenName": 16,
    "lenType": 16,
    "lenVar": 40
   },
   "kernels_config": {
    "python": {
     "delete_cmd_postfix": "",
     "delete_cmd_prefix": "del ",
     "library": "var_list.py",
     "varRefreshCmd": "print(var_dic_list())"
    },
    "r": {
     "delete_cmd_postfix": ") ",
     "delete_cmd_prefix": "rm(",
     "library": "var_list.r",
     "varRefreshCmd": "cat(var_dic_list()) "
    }
   },
   "types_to_exclude": [
    "module",
    "function",
    "builtin_function_or_method",
    "instance",
    "_Feature"
   ],
   "window_display": false
  }
 },
 "nbformat": 4,
 "nbformat_minor": 2
}
