{
 "cells": [
  {
   "cell_type": "code",
   "execution_count": 26,
   "metadata": {},
   "outputs": [
    {
     "data": {
      "text/html": [
       "<div>\n",
       "<style scoped>\n",
       "    .dataframe tbody tr th:only-of-type {\n",
       "        vertical-align: middle;\n",
       "    }\n",
       "\n",
       "    .dataframe tbody tr th {\n",
       "        vertical-align: top;\n",
       "    }\n",
       "\n",
       "    .dataframe thead th {\n",
       "        text-align: right;\n",
       "    }\n",
       "</style>\n",
       "<table border=\"1\" class=\"dataframe\">\n",
       "  <thead>\n",
       "    <tr style=\"text-align: right;\">\n",
       "      <th></th>\n",
       "      <th>class</th>\n",
       "      <th>timestamp</th>\n",
       "      <th>org</th>\n",
       "      <th>repo</th>\n",
       "      <th>size_KB</th>\n",
       "      <th>size</th>\n",
       "      <th>pull_count</th>\n",
       "      <th>errors</th>\n",
       "    </tr>\n",
       "  </thead>\n",
       "  <tbody>\n",
       "    <tr>\n",
       "      <th>0</th>\n",
       "      <td>COGSCI 1</td>\n",
       "      <td>2019-09-11 19:00:00</td>\n",
       "      <td>ds-modules</td>\n",
       "      <td>COGSCI-1</td>\n",
       "      <td>185.0</td>\n",
       "      <td>145.0</td>\n",
       "      <td>4</td>\n",
       "      <td>501.25</td>\n",
       "    </tr>\n",
       "    <tr>\n",
       "      <th>1</th>\n",
       "      <td>COGSCI 1</td>\n",
       "      <td>2019-09-11 20:00:00</td>\n",
       "      <td>ds-modules</td>\n",
       "      <td>COGSCI-1</td>\n",
       "      <td>26153.0</td>\n",
       "      <td>145.0</td>\n",
       "      <td>7</td>\n",
       "      <td>0.00</td>\n",
       "    </tr>\n",
       "    <tr>\n",
       "      <th>2</th>\n",
       "      <td>COGSCI 1</td>\n",
       "      <td>2019-09-11 22:00:00</td>\n",
       "      <td>ds-modules</td>\n",
       "      <td>COGSCI-1</td>\n",
       "      <td>185.0</td>\n",
       "      <td>145.0</td>\n",
       "      <td>5</td>\n",
       "      <td>0.00</td>\n",
       "    </tr>\n",
       "    <tr>\n",
       "      <th>3</th>\n",
       "      <td>COGSCI 1</td>\n",
       "      <td>2019-09-11 23:00:00</td>\n",
       "      <td>ds-modules</td>\n",
       "      <td>COGSCI-1</td>\n",
       "      <td>185.0</td>\n",
       "      <td>145.0</td>\n",
       "      <td>46</td>\n",
       "      <td>0.00</td>\n",
       "    </tr>\n",
       "    <tr>\n",
       "      <th>4</th>\n",
       "      <td>COGSCI 1</td>\n",
       "      <td>2019-09-12 00:00:00</td>\n",
       "      <td>ds-modules</td>\n",
       "      <td>COGSCI-1</td>\n",
       "      <td>185.0</td>\n",
       "      <td>145.0</td>\n",
       "      <td>2</td>\n",
       "      <td>0.00</td>\n",
       "    </tr>\n",
       "  </tbody>\n",
       "</table>\n",
       "</div>"
      ],
      "text/plain": [
       "      class           timestamp         org      repo  size_KB   size  \\\n",
       "0  COGSCI 1 2019-09-11 19:00:00  ds-modules  COGSCI-1    185.0  145.0   \n",
       "1  COGSCI 1 2019-09-11 20:00:00  ds-modules  COGSCI-1  26153.0  145.0   \n",
       "2  COGSCI 1 2019-09-11 22:00:00  ds-modules  COGSCI-1    185.0  145.0   \n",
       "3  COGSCI 1 2019-09-11 23:00:00  ds-modules  COGSCI-1    185.0  145.0   \n",
       "4  COGSCI 1 2019-09-12 00:00:00  ds-modules  COGSCI-1    185.0  145.0   \n",
       "\n",
       "   pull_count  errors  \n",
       "0           4  501.25  \n",
       "1           7    0.00  \n",
       "2           5    0.00  \n",
       "3          46    0.00  \n",
       "4           2    0.00  "
      ]
     },
     "execution_count": 26,
     "metadata": {},
     "output_type": "execute_result"
    }
   ],
   "source": [
    "import pandas as pd\n",
    "import numpy as np\n",
    "import datetime as dt\n",
    "import seaborn as sns\n",
    "import matplotlib.pyplot as plt\n",
    "%matplotlib inline\n",
    "plt.rcParams[\"figure.figsize\"] = [12,8]\n",
    "plt.rcParams[\"font.size\"] = 14\n",
    "import warnings\n",
    "warnings.simplefilter(\"ignore\")\n",
    "import datetime as dt\n",
    "from scipy import io\n",
    "from joblib import load\n",
    "\n",
    "data = pd.read_csv(\"../data/classes_and_errors.csv\")\n",
    "data[\"timestamp\"] = data[\"timestamp\"].apply(pd.to_datetime)\n",
    "data.head()"
   ]
  },
  {
   "cell_type": "code",
   "execution_count": 23,
   "metadata": {},
   "outputs": [
    {
     "data": {
      "image/png": "[encoded data removed]",
      "text/plain": [
       "<Figure size 864x576 with 1 Axes>"
      ]
     },
     "metadata": {
      "needs_background": "light"
     },
     "output_type": "display_data"
    }
   ],
   "source": [
    "data[\"pull_count\"].plot.hist(bins=50)\n",
    "plt.xlabel(\"Number of Pulls\")\n",
    "plt.title(\"Distribution of Number of Pulls by Class and Hour\");"
   ]
  },
  {
   "cell_type": "code",
   "execution_count": 52,
   "metadata": {},
   "outputs": [
    {
     "data": {
      "text/html": [
       "<div>\n",
       "<style scoped>\n",
       "    .dataframe tbody tr th:only-of-type {\n",
       "        vertical-align: middle;\n",
       "    }\n",
       "\n",
       "    .dataframe tbody tr th {\n",
       "        vertical-align: top;\n",
       "    }\n",
       "\n",
       "    .dataframe thead th {\n",
       "        text-align: right;\n",
       "    }\n",
       "</style>\n",
       "<table border=\"1\" class=\"dataframe\">\n",
       "  <thead>\n",
       "    <tr style=\"text-align: right;\">\n",
       "      <th></th>\n",
       "      <th>class</th>\n",
       "      <th>timestamp</th>\n",
       "      <th>org</th>\n",
       "      <th>repo</th>\n",
       "      <th>size_KB</th>\n",
       "      <th>size</th>\n",
       "      <th>pull_count</th>\n",
       "      <th>errors</th>\n",
       "      <th>dow</th>\n",
       "      <th>hour</th>\n",
       "      <th>pulls_relative</th>\n",
       "    </tr>\n",
       "  </thead>\n",
       "  <tbody>\n",
       "    <tr>\n",
       "      <th>5625</th>\n",
       "      <td>ESPM/IB C105</td>\n",
       "      <td>2019-10-07 19:00:00</td>\n",
       "      <td>ds-modules</td>\n",
       "      <td>IB-ESPM-105</td>\n",
       "      <td>31983.0</td>\n",
       "      <td>17.0</td>\n",
       "      <td>67</td>\n",
       "      <td>338.75</td>\n",
       "      <td>0</td>\n",
       "      <td>19</td>\n",
       "      <td>3.941176</td>\n",
       "    </tr>\n",
       "    <tr>\n",
       "      <th>8705</th>\n",
       "      <td>XRHETOR R1A</td>\n",
       "      <td>2019-10-07 19:00:00</td>\n",
       "      <td>ds-modules</td>\n",
       "      <td>XRHETOR-R1A</td>\n",
       "      <td>31983.0</td>\n",
       "      <td>17.0</td>\n",
       "      <td>67</td>\n",
       "      <td>338.75</td>\n",
       "      <td>0</td>\n",
       "      <td>19</td>\n",
       "      <td>3.941176</td>\n",
       "    </tr>\n",
       "    <tr>\n",
       "      <th>5569</th>\n",
       "      <td>ESPM/IB C105</td>\n",
       "      <td>2019-10-04 19:00:00</td>\n",
       "      <td>ds-modules</td>\n",
       "      <td>IB-ESPM-105</td>\n",
       "      <td>980.0</td>\n",
       "      <td>17.0</td>\n",
       "      <td>61</td>\n",
       "      <td>657.50</td>\n",
       "      <td>4</td>\n",
       "      <td>19</td>\n",
       "      <td>3.588235</td>\n",
       "    </tr>\n",
       "    <tr>\n",
       "      <th>8649</th>\n",
       "      <td>XRHETOR R1A</td>\n",
       "      <td>2019-10-04 19:00:00</td>\n",
       "      <td>ds-modules</td>\n",
       "      <td>XRHETOR-R1A</td>\n",
       "      <td>980.0</td>\n",
       "      <td>17.0</td>\n",
       "      <td>61</td>\n",
       "      <td>657.50</td>\n",
       "      <td>4</td>\n",
       "      <td>19</td>\n",
       "      <td>3.588235</td>\n",
       "    </tr>\n",
       "    <tr>\n",
       "      <th>5645</th>\n",
       "      <td>ESPM/IB C105</td>\n",
       "      <td>2019-10-08 19:00:00</td>\n",
       "      <td>ds-modules</td>\n",
       "      <td>IB-ESPM-105</td>\n",
       "      <td>980.0</td>\n",
       "      <td>17.0</td>\n",
       "      <td>59</td>\n",
       "      <td>302.50</td>\n",
       "      <td>1</td>\n",
       "      <td>19</td>\n",
       "      <td>3.470588</td>\n",
       "    </tr>\n",
       "  </tbody>\n",
       "</table>\n",
       "</div>"
      ],
      "text/plain": [
       "             class           timestamp         org         repo  size_KB  \\\n",
       "5625  ESPM/IB C105 2019-10-07 19:00:00  ds-modules  IB-ESPM-105  31983.0   \n",
       "8705   XRHETOR R1A 2019-10-07 19:00:00  ds-modules  XRHETOR-R1A  31983.0   \n",
       "5569  ESPM/IB C105 2019-10-04 19:00:00  ds-modules  IB-ESPM-105    980.0   \n",
       "8649   XRHETOR R1A 2019-10-04 19:00:00  ds-modules  XRHETOR-R1A    980.0   \n",
       "5645  ESPM/IB C105 2019-10-08 19:00:00  ds-modules  IB-ESPM-105    980.0   \n",
       "\n",
       "      size  pull_count  errors  dow  hour  pulls_relative  \n",
       "5625  17.0          67  338.75    0    19        3.941176  \n",
       "8705  17.0          67  338.75    0    19        3.941176  \n",
       "5569  17.0          61  657.50    4    19        3.588235  \n",
       "8649  17.0          61  657.50    4    19        3.588235  \n",
       "5645  17.0          59  302.50    1    19        3.470588  "
      ]
     },
     "execution_count": 52,
     "metadata": {},
     "output_type": "execute_result"
    }
   ],
   "source": [
    "data[\"pulls_relative\"] = data[\"pull_count\"] / data[\"size\"]\n",
    "by_pulls = data.sort_values(\"pulls_relative\", ascending=False)\n",
    "by_pulls[by_pulls[\"errors\"] > 0].head()"
   ]
  },
  {
   "cell_type": "code",
   "execution_count": 64,
   "metadata": {},
   "outputs": [
    {
     "data": {
      "text/plain": [
       "<matplotlib.axes._subplots.AxesSubplot at 0x122640908>"
      ]
     },
     "execution_count": 64,
     "metadata": {},
     "output_type": "execute_result"
    },
    {
     "data": {
      "image/png": "[encoded data removed]",
      "text/plain": [
       "<Figure size 864x576 with 1 Axes>"
      ]
     },
     "metadata": {
      "needs_background": "light"
     },
     "output_type": "display_data"
    }
   ],
   "source": [
    "by_pulls.plot.scatter(\"pulls_relative\", \"errors\")"
   ]
  },
  {
   "cell_type": "code",
   "execution_count": null,
   "metadata": {},
   "outputs": [],
   "source": []
  }
 ],
 "metadata": {
  "kernelspec": {
   "display_name": "Python 3",
   "language": "python",
   "name": "python3"
  },
  "language_info": {
   "codemirror_mode": {
    "name": "ipython",
    "version": 3
   },
   "file_extension": ".py",
   "mimetype": "text/x-python",
   "name": "python",
   "nbconvert_exporter": "python",
   "pygments_lexer": "ipython3",
   "version": "3.6.5"
  },
  "varInspector": {
   "cols": {
    "lenName": 16,
    "lenType": 16,
    "lenVar": 40
   },
   "kernels_config": {
    "python": {
     "delete_cmd_postfix": "",
     "delete_cmd_prefix": "del ",
     "library": "var_list.py",
     "varRefreshCmd": "print(var_dic_list())"
    },
    "r": {
     "delete_cmd_postfix": ") ",
     "delete_cmd_prefix": "rm(",
     "library": "var_list.r",
     "varRefreshCmd": "cat(var_dic_list()) "
    }
   },
   "types_to_exclude": [
    "module",
    "function",
    "builtin_function_or_method",
    "instance",
    "_Feature"
   ],
   "window_display": false
  }
 },
 "nbformat": 4,
 "nbformat_minor": 4
}
