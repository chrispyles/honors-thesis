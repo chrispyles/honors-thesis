{
 "cells": [
  {
   "cell_type": "markdown",
   "metadata": {},
   "source": [
    "\n",
    "\n",
    "# Loading Data\n",
    "\n",
    "This notebook contains the code that I used to query the TMDb API to download the data for this project. To begin, we import the dependencies."
   ]
  },
  {
   "cell_type": "code",
   "execution_count": 4,
   "metadata": {},
   "outputs": [],
   "source": [
    "import config\n",
    "import pandas as pd\n",
    "import numpy as np\n",
    "from IPython.display import display\n",
    "import requests, json"
   ]
  },
  {
   "cell_type": "markdown",
   "metadata": {},
   "source": [
    "As an example of an API query, we construct the dictionary below and use `requests` and `json` to query the API. The query below selects the first page of movies released in 2018 in English, sorted by descending order of popularity."
   ]
  },
  {
   "cell_type": "code",
   "execution_count": 3,
   "metadata": {
    "scrolled": true
   },
   "outputs": [],
   "source": [
    "api_url = \"https://api.themoviedb.org/3/discover/movie/?\"\n",
    "api_params = {\n",
    "    \"api_key\" : config.api_key,\n",
    "    \"primary_release_year\" : 2018,\n",
    "    \"sort_by\" : \"poularity.desc\",\n",
    "    \"page\" : 1,\n",
    "    \"with_original_language\" : \"en\"\n",
    "}\n",
    "response = requests.get(api_url, params=api_params)\n",
    "page = json.loads(response.text)"
   ]
  },
  {
   "cell_type": "markdown",
   "metadata": {},
   "source": [
    "To reuse this pipeline, we define a function `get_movies` below that reconstructs the above query for a specific year and then returns a list of JSON responses for each page of the results."
   ]
  },
  {
   "cell_type": "code",
   "execution_count": null,
   "metadata": {
    "scrolled": true
   },
   "outputs": [
    {
     "name": "stdout",
     "output_type": "stream",
     "text": [
      "434 pages to load\n"
     ]
    }
   ],
   "source": [
    "def get_movies(year):\n",
    "    \"\"\"\n",
    "    \n",
    "    Queries TMDb API to get list of movies released in `year`\n",
    "    \n",
    "    Returns:\n",
    "        a list of dictionaries, where each item corresponds to a page\n",
    "        of results\n",
    "    \n",
    "    \"\"\"\n",
    "    api_url = \"https://api.themoviedb.org/3/discover/movie/?\"\n",
    "    api_params = {\n",
    "        \"api_key\" : config.api_key,\n",
    "        \"primary_release_year\" : year,\n",
    "        \"sort_by\" : \"poularity.desc\",\n",
    "        \"page\" : 1,\n",
    "        \"with_original_language\" : \"en\",\n",
    "        \"include_adult\" : True\n",
    "    }\n",
    "    response = requests.get(api_url, params=api_params)\n",
    "    response = json.loads(response.text)\n",
    "    n = response[\"total_pages\"]\n",
    "    pages = []\n",
    "    print(\"{} pages to load\".format(n))\n",
    "    for i in range(1, n+1):\n",
    "        if i % 50 == 0:\n",
    "            print(\"Loaded page {}\".format(i))\n",
    "        api_params[\"page\"] = i\n",
    "        response = requests.get(api_url, params=api_params)\n",
    "        response = json.loads(response.text)\n",
    "        pages.append(response)\n",
    "        \n",
    "    print(\"Finished downloading data\")\n",
    "    return pages\n",
    "\n",
    "pages = get_movies(2018)"
   ]
  },
  {
   "cell_type": "markdown",
   "metadata": {},
   "source": [
    "In order to load the data into a CSV file, we first need to expand each page of results into a list of results. The function `expand_pages` below takes a list of pages and expands them all into one concatenated list."
   ]
  },
  {
   "cell_type": "code",
   "execution_count": 18,
   "metadata": {},
   "outputs": [],
   "source": [
    "def expand_pages(pages):\n",
    "    \"\"\"\n",
    "    Expands the results into a single list of dictionaries\n",
    "    \"\"\"\n",
    "    results = [page[\"results\"] for page in pages]\n",
    "    data = []\n",
    "    for page in results:\n",
    "        data.extend(page)\n",
    "    return data"
   ]
  },
  {
   "cell_type": "markdown",
   "metadata": {},
   "source": [
    "Finally, we create a dataframe from the list of results and save the results as `tmdb_api_data.csv` in the `data` folder."
   ]
  },
  {
   "cell_type": "code",
   "execution_count": 37,
   "metadata": {},
   "outputs": [
    {
     "name": "stdout",
     "output_type": "stream",
     "text": [
      "DataFrame has 8473 rows\n"
     ]
    },
    {
     "data": {
      "text/html": [
       "<div>\n",
       "<style scoped>\n",
       "    .dataframe tbody tr th:only-of-type {\n",
       "        vertical-align: middle;\n",
       "    }\n",
       "\n",
       "    .dataframe tbody tr th {\n",
       "        vertical-align: top;\n",
       "    }\n",
       "\n",
       "    .dataframe thead th {\n",
       "        text-align: right;\n",
       "    }\n",
       "</style>\n",
       "<table border=\"1\" class=\"dataframe\">\n",
       "  <thead>\n",
       "    <tr style=\"text-align: right;\">\n",
       "      <th></th>\n",
       "      <th>adult</th>\n",
       "      <th>backdrop_path</th>\n",
       "      <th>genre_ids</th>\n",
       "      <th>id</th>\n",
       "      <th>original_language</th>\n",
       "      <th>original_title</th>\n",
       "      <th>overview</th>\n",
       "      <th>popularity</th>\n",
       "      <th>poster_path</th>\n",
       "      <th>release_date</th>\n",
       "      <th>title</th>\n",
       "      <th>video</th>\n",
       "      <th>vote_average</th>\n",
       "      <th>vote_count</th>\n",
       "    </tr>\n",
       "  </thead>\n",
       "  <tbody>\n",
       "    <tr>\n",
       "      <th>0</th>\n",
       "      <td>False</td>\n",
       "      <td>/bOGkgRGdhrBYJSLpXaxhXVstddV.jpg</td>\n",
       "      <td>[12, 28, 14]</td>\n",
       "      <td>299536</td>\n",
       "      <td>en</td>\n",
       "      <td>Avengers: Infinity War</td>\n",
       "      <td>As the Avengers and their allies have continue...</td>\n",
       "      <td>153.811</td>\n",
       "      <td>/7WsyChQLEftFiDOVTGkv3hFpyyt.jpg</td>\n",
       "      <td>2018-04-25</td>\n",
       "      <td>Avengers: Infinity War</td>\n",
       "      <td>False</td>\n",
       "      <td>8.3</td>\n",
       "      <td>12490</td>\n",
       "    </tr>\n",
       "    <tr>\n",
       "      <th>1</th>\n",
       "      <td>False</td>\n",
       "      <td>/5zfVNTrkhMu673zma6qhFzG01ig.jpg</td>\n",
       "      <td>[878]</td>\n",
       "      <td>300668</td>\n",
       "      <td>en</td>\n",
       "      <td>Annihilation</td>\n",
       "      <td>A biologist signs up for a dangerous, secret e...</td>\n",
       "      <td>29.516</td>\n",
       "      <td>/d3qcpfNwbAMCNqWDHzPQsUYiUgS.jpg</td>\n",
       "      <td>2018-02-22</td>\n",
       "      <td>Annihilation</td>\n",
       "      <td>False</td>\n",
       "      <td>6.3</td>\n",
       "      <td>4232</td>\n",
       "    </tr>\n",
       "    <tr>\n",
       "      <th>2</th>\n",
       "      <td>False</td>\n",
       "      <td>/zjG95oDnBcFKMPgBEmmuNVOMC90.jpg</td>\n",
       "      <td>[35, 18]</td>\n",
       "      <td>299782</td>\n",
       "      <td>en</td>\n",
       "      <td>The Other Side of the Wind</td>\n",
       "      <td>Surrounded by fans and skeptics, grizzled dire...</td>\n",
       "      <td>6.820</td>\n",
       "      <td>/kFky1paYEfHxfCYByEc9g7gn6Zk.jpg</td>\n",
       "      <td>2018-11-02</td>\n",
       "      <td>The Other Side of the Wind</td>\n",
       "      <td>False</td>\n",
       "      <td>7.1</td>\n",
       "      <td>55</td>\n",
       "    </tr>\n",
       "    <tr>\n",
       "      <th>3</th>\n",
       "      <td>False</td>\n",
       "      <td>/q9hnJ9SzwcF30seRtXEzLd5l1gw.jpg</td>\n",
       "      <td>[18, 35, 14]</td>\n",
       "      <td>351044</td>\n",
       "      <td>en</td>\n",
       "      <td>Welcome to Marwen</td>\n",
       "      <td>When a devastating attack shatters Mark Hoganc...</td>\n",
       "      <td>61.973</td>\n",
       "      <td>/o45VIAUYDcVCGuzd43l8Sr5Dfti.jpg</td>\n",
       "      <td>2018-12-21</td>\n",
       "      <td>Welcome to Marwen</td>\n",
       "      <td>False</td>\n",
       "      <td>6.6</td>\n",
       "      <td>174</td>\n",
       "    </tr>\n",
       "    <tr>\n",
       "      <th>4</th>\n",
       "      <td>False</td>\n",
       "      <td>/AmO8I38bkHwKhgxPNrd6djBQyPU.jpg</td>\n",
       "      <td>[53, 9648, 27, 14]</td>\n",
       "      <td>361292</td>\n",
       "      <td>en</td>\n",
       "      <td>Suspiria</td>\n",
       "      <td>A darkness swirls at the center of a world-ren...</td>\n",
       "      <td>41.461</td>\n",
       "      <td>/dzWTnkert9EoiPWldWJ15dnfAFl.jpg</td>\n",
       "      <td>2018-10-11</td>\n",
       "      <td>Suspiria</td>\n",
       "      <td>False</td>\n",
       "      <td>7.2</td>\n",
       "      <td>579</td>\n",
       "    </tr>\n",
       "  </tbody>\n",
       "</table>\n",
       "</div>"
      ],
      "text/plain": [
       "   adult                     backdrop_path           genre_ids      id  \\\n",
       "0  False  /bOGkgRGdhrBYJSLpXaxhXVstddV.jpg        [12, 28, 14]  299536   \n",
       "1  False  /5zfVNTrkhMu673zma6qhFzG01ig.jpg               [878]  300668   \n",
       "2  False  /zjG95oDnBcFKMPgBEmmuNVOMC90.jpg            [35, 18]  299782   \n",
       "3  False  /q9hnJ9SzwcF30seRtXEzLd5l1gw.jpg        [18, 35, 14]  351044   \n",
       "4  False  /AmO8I38bkHwKhgxPNrd6djBQyPU.jpg  [53, 9648, 27, 14]  361292   \n",
       "\n",
       "  original_language              original_title  \\\n",
       "0                en      Avengers: Infinity War   \n",
       "1                en                Annihilation   \n",
       "2                en  The Other Side of the Wind   \n",
       "3                en           Welcome to Marwen   \n",
       "4                en                    Suspiria   \n",
       "\n",
       "                                            overview  popularity  \\\n",
       "0  As the Avengers and their allies have continue...     153.811   \n",
       "1  A biologist signs up for a dangerous, secret e...      29.516   \n",
       "2  Surrounded by fans and skeptics, grizzled dire...       6.820   \n",
       "3  When a devastating attack shatters Mark Hoganc...      61.973   \n",
       "4  A darkness swirls at the center of a world-ren...      41.461   \n",
       "\n",
       "                        poster_path release_date                       title  \\\n",
       "0  /7WsyChQLEftFiDOVTGkv3hFpyyt.jpg   2018-04-25      Avengers: Infinity War   \n",
       "1  /d3qcpfNwbAMCNqWDHzPQsUYiUgS.jpg   2018-02-22                Annihilation   \n",
       "2  /kFky1paYEfHxfCYByEc9g7gn6Zk.jpg   2018-11-02  The Other Side of the Wind   \n",
       "3  /o45VIAUYDcVCGuzd43l8Sr5Dfti.jpg   2018-12-21           Welcome to Marwen   \n",
       "4  /dzWTnkert9EoiPWldWJ15dnfAFl.jpg   2018-10-11                    Suspiria   \n",
       "\n",
       "   video  vote_average  vote_count  \n",
       "0  False           8.3       12490  \n",
       "1  False           6.3        4232  \n",
       "2  False           7.1          55  \n",
       "3  False           6.6         174  \n",
       "4  False           7.2         579  "
      ]
     },
     "metadata": {},
     "output_type": "display_data"
    }
   ],
   "source": [
    "data = expand_pages(pages)\n",
    "data = pd.DataFrame(data)\n",
    "print(\"DataFrame has {} rows\".format(data.shape[0]))\n",
    "display(data.head())\n",
    "data.to_csv(\"../data/tmdb_api_data.csv\", index=False)"
   ]
  },
  {
   "cell_type": "markdown",
   "metadata": {},
   "source": [
    "Finally, to get the mapping from genre IDs to strings, we query the API again and save the genres dataframe as `tmdb_genres.csv` in the `data` folder."
   ]
  },
  {
   "cell_type": "code",
   "execution_count": 33,
   "metadata": {},
   "outputs": [
    {
     "data": {
      "text/html": [
       "<div>\n",
       "<style scoped>\n",
       "    .dataframe tbody tr th:only-of-type {\n",
       "        vertical-align: middle;\n",
       "    }\n",
       "\n",
       "    .dataframe tbody tr th {\n",
       "        vertical-align: top;\n",
       "    }\n",
       "\n",
       "    .dataframe thead th {\n",
       "        text-align: right;\n",
       "    }\n",
       "</style>\n",
       "<table border=\"1\" class=\"dataframe\">\n",
       "  <thead>\n",
       "    <tr style=\"text-align: right;\">\n",
       "      <th></th>\n",
       "      <th>id</th>\n",
       "      <th>name</th>\n",
       "    </tr>\n",
       "  </thead>\n",
       "  <tbody>\n",
       "    <tr>\n",
       "      <th>0</th>\n",
       "      <td>28</td>\n",
       "      <td>Action</td>\n",
       "    </tr>\n",
       "    <tr>\n",
       "      <th>1</th>\n",
       "      <td>12</td>\n",
       "      <td>Adventure</td>\n",
       "    </tr>\n",
       "    <tr>\n",
       "      <th>2</th>\n",
       "      <td>16</td>\n",
       "      <td>Animation</td>\n",
       "    </tr>\n",
       "    <tr>\n",
       "      <th>3</th>\n",
       "      <td>35</td>\n",
       "      <td>Comedy</td>\n",
       "    </tr>\n",
       "    <tr>\n",
       "      <th>4</th>\n",
       "      <td>80</td>\n",
       "      <td>Crime</td>\n",
       "    </tr>\n",
       "  </tbody>\n",
       "</table>\n",
       "</div>"
      ],
      "text/plain": [
       "   id       name\n",
       "0  28     Action\n",
       "1  12  Adventure\n",
       "2  16  Animation\n",
       "3  35     Comedy\n",
       "4  80      Crime"
      ]
     },
     "metadata": {},
     "output_type": "display_data"
    }
   ],
   "source": [
    "# get genre list\n",
    "api_url = \"https://api.themoviedb.org/3/genre/movie/list?\"\n",
    "api_params = {\n",
    "    \"api_key\" : config.api_key,\n",
    "    \"language\" : \"en-US\"\n",
    "}\n",
    "genres = requests.get(api_url, params=api_params)\n",
    "genres = json.loads(genres.text)\n",
    "genres = pd.DataFrame(genres[\"genres\"])\n",
    "display(genres.head())\n",
    "genres.to_csv(\"../data/tmdb_genres.csv\", index=False)"
   ]
  },
  {
   "cell_type": "markdown",
   "metadata": {},
   "source": [
    "filtering"
   ]
  },
  {
   "cell_type": "code",
   "execution_count": 22,
   "metadata": {},
   "outputs": [],
   "source": [
    "movies = pd.read_csv(\"../data/tmdb_api_data.csv\", lineterminator=\"\\n\")"
   ]
  },
  {
   "cell_type": "code",
   "execution_count": 23,
   "metadata": {},
   "outputs": [
    {
     "data": {
      "text/plain": [
       "(7275, 14)"
      ]
     },
     "execution_count": 23,
     "metadata": {},
     "output_type": "execute_result"
    }
   ],
   "source": [
    "cols_of_interest = [\n",
    "    \"genre_ids\", \"overview\", \"original_title\", \"original_language\", \"poster_path\", \"release_date\",\n",
    "    \"vote_average\", \"vote_count\"\n",
    "]\n",
    "\n",
    "movies = movies.dropna(subset=cols_of_interest)\n",
    "movies.shape"
   ]
  },
  {
   "cell_type": "markdown",
   "metadata": {},
   "source": [
    "### Filtering `nan` Rows\n",
    "\n",
    "Before we can movie on, we first need to get an idea of how many rows have values in the `vote_average` and `vote_count` columns that do not make sense. We only want rows where the rating is nonzero *or* where there is at least one vote."
   ]
  },
  {
   "cell_type": "code",
   "execution_count": 24,
   "metadata": {},
   "outputs": [
    {
     "name": "stdout",
     "output_type": "stream",
     "text": [
      "Total number of movies: 7275\n",
      "Movies with nonzero rating: 2638\n",
      "Movies with nonzero vote count: 2700\n"
     ]
    }
   ],
   "source": [
    "print(\"Total number of movies: {}\".format(movies.shape[0]))\n",
    "print(\"Movies with nonzero rating: {}\".format(movies[movies[\"vote_average\"] != 0].shape[0]))\n",
    "print(\"Movies with nonzero vote count: {}\".format(movies[movies[\"vote_count\"] != 0].shape[0]))"
   ]
  },
  {
   "cell_type": "markdown",
   "metadata": {},
   "source": [
    "In the cell below, we filter the rows that either have a nonzero rating or at least 1 vote."
   ]
  },
  {
   "cell_type": "code",
   "execution_count": 25,
   "metadata": {},
   "outputs": [],
   "source": [
    "movies = movies[(movies[\"vote_average\"] != 0) | (movies[\"vote_count\"] != 0)]"
   ]
  },
  {
   "cell_type": "code",
   "execution_count": 26,
   "metadata": {},
   "outputs": [
    {
     "data": {
      "text/plain": [
       "(2700, 14)"
      ]
     },
     "execution_count": 26,
     "metadata": {},
     "output_type": "execute_result"
    }
   ],
   "source": [
    "movies.shape"
   ]
  },
  {
   "cell_type": "markdown",
   "metadata": {},
   "source": [
    "images"
   ]
  },
  {
   "cell_type": "code",
   "execution_count": 27,
   "metadata": {},
   "outputs": [],
   "source": [
    "from PIL import Image\n",
    "import urllib\n",
    "from concurrent.futures import ThreadPoolExecutor, wait"
   ]
  },
  {
   "cell_type": "code",
   "execution_count": 28,
   "metadata": {},
   "outputs": [],
   "source": [
    "posters = {}\n",
    "\n",
    "img_size = (140, 92)\n",
    "\n",
    "def get_poster(row):\n",
    "    if (row[0] + 1) % 1000 == 0:\n",
    "        print(row[0] + 1)\n",
    "    row = row[1]\n",
    "    if not pd.isna(row[\"poster_path\"]):\n",
    "        im = Image.open(urllib.request.urlopen(\"http://image.tmdb.org/t/p/w185/\" + row[\"poster_path\"]))\n",
    "        im = im.resize(img_size)\n",
    "        arr = np.asarray(im)\n",
    "        posters[str(row[\"id\"])] = arr"
   ]
  },
  {
   "cell_type": "code",
   "execution_count": 29,
   "metadata": {},
   "outputs": [
    {
     "name": "stdout",
     "output_type": "stream",
     "text": [
      "1000\n",
      "8000\n"
     ]
    }
   ],
   "source": [
    "poster_pool = ThreadPoolExecutor()\n",
    "poster_futures = []\n",
    "for r in movies.iterrows():\n",
    "    if r[1][\"id\"] not in posters:\n",
    "        poster_futures.append(poster_pool.submit(get_poster, row=r))\n",
    "    \n",
    "poster_results = wait(poster_futures)"
   ]
  },
  {
   "cell_type": "code",
   "execution_count": 32,
   "metadata": {},
   "outputs": [
    {
     "data": {
      "text/plain": [
       "1876"
      ]
     },
     "execution_count": 32,
     "metadata": {},
     "output_type": "execute_result"
    }
   ],
   "source": [
    "len(posters.keys())"
   ]
  },
  {
   "cell_type": "code",
   "execution_count": 34,
   "metadata": {},
   "outputs": [],
   "source": [
    "from scipy import io\n",
    "\n",
    "io.savemat(\"../data/posters.mat\", posters)"
   ]
  },
  {
   "cell_type": "code",
   "execution_count": 35,
   "metadata": {
    "scrolled": true
   },
   "outputs": [
    {
     "data": {
      "text/plain": [
       "(92, 140, 3)"
      ]
     },
     "execution_count": 35,
     "metadata": {},
     "output_type": "execute_result"
    }
   ],
   "source": [
    "posters[\"373209\"].shape"
   ]
  },
  {
   "cell_type": "code",
   "execution_count": 36,
   "metadata": {},
   "outputs": [],
   "source": [
    "movies.to_csv(\"../data/filtered_movies.csv\", index=False)"
   ]
  },
  {
   "cell_type": "code",
   "execution_count": null,
   "metadata": {},
   "outputs": [],
   "source": []
  }
 ],
 "metadata": {
  "kernelspec": {
   "display_name": "Python 3",
   "language": "python",
   "name": "python3"
  },
  "language_info": {
   "codemirror_mode": {
    "name": "ipython",
    "version": 3
   },
   "file_extension": ".py",
   "mimetype": "text/x-python",
   "name": "python",
   "nbconvert_exporter": "python",
   "pygments_lexer": "ipython3",
   "version": "3.6.5"
  },
  "notify_time": "5",
  "varInspector": {
   "cols": {
    "lenName": 16,
    "lenType": 16,
    "lenVar": 40
   },
   "kernels_config": {
    "python": {
     "delete_cmd_postfix": "",
     "delete_cmd_prefix": "del ",
     "library": "var_list.py",
     "varRefreshCmd": "print(var_dic_list())"
    },
    "r": {
     "delete_cmd_postfix": ") ",
     "delete_cmd_prefix": "rm(",
     "library": "var_list.r",
     "varRefreshCmd": "cat(var_dic_list()) "
    }
   },
   "types_to_exclude": [
    "module",
    "function",
    "builtin_function_or_method",
    "instance",
    "_Feature"
   ],
   "window_display": false
  }
 },
 "nbformat": 4,
 "nbformat_minor": 2
}
